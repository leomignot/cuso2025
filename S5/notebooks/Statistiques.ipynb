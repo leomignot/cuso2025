{
 "cells": [
  {
   "cell_type": "markdown",
   "id": "7e79c206-cd83-4dd5-b9de-4cbf259229fa",
   "metadata": {},
   "source": [
    "# Faire des statistiques\n"
   ]
  },
  {
   "cell_type": "code",
   "execution_count": null,
   "id": "43559a0d-03bc-464c-9fae-9ecb8fc6e525",
   "metadata": {},
   "outputs": [],
   "source": [
    "import pandas as pd\n",
    "df = pd.read_csv(\"../../data/CSS_exact_openalex.csv\", low_memory=False)"
   ]
  },
  {
   "cell_type": "markdown",
   "id": "a9d246a7-242d-4d72-81b5-576aecf859b7",
   "metadata": {},
   "source": [
    "Deux variables :\n",
    "- dépendante : nombre de citations `cited_by_count`\n",
    "- indépendantes : années ; langue ; nombre auteurs, language `language`, open accès `open_access.is_oa`, type `type`"
   ]
  },
  {
   "cell_type": "code",
   "execution_count": null,
   "id": "f5f94629",
   "metadata": {},
   "outputs": [],
   "source": [
    "df[\"authorships.raw_author_name\"].isna().sum()"
   ]
  },
  {
   "cell_type": "markdown",
   "id": "3df03c61",
   "metadata": {},
   "source": [
    "Traitement des données"
   ]
  },
  {
   "cell_type": "code",
   "execution_count": null,
   "id": "9a700af5",
   "metadata": {},
   "outputs": [],
   "source": [
    "# enlever les lignes sans auteurs\n",
    "df = df[~df[\"authorships.raw_author_name\"].isna()]\n",
    "\n",
    "# ajouter le nombre d'auteurs\n",
    "df[\"nb_auteurs\"] = df[\"authorships.raw_author_name\"].apply(lambda x: len(x.split(\"|\")))\n",
    "\n",
    "# langue anglais\n",
    "df = df[df[\"language\"] == \"en\"]\n",
    "\n",
    "# renommer les colonnes\n",
    "df = df.rename(columns={\"open_access.is_oa\":\"openaccess\"})\n",
    "\n",
    "# numérique pour des variables\n",
    "df[\"openaccess\"] = df[\"openaccess\"].astype(int)"
   ]
  },
  {
   "cell_type": "markdown",
   "id": "14e8466b-00fa-4c4f-b0b7-6a2628496206",
   "metadata": {},
   "source": [
    "## Univarié"
   ]
  },
  {
   "cell_type": "markdown",
   "id": "d0d41b91-7594-4dcb-91e3-10e30f7eae22",
   "metadata": {},
   "source": [
    "Indicateurs"
   ]
  },
  {
   "cell_type": "markdown",
   "id": "7193cf3d-6e39-4dcd-87fc-258f276c74d9",
   "metadata": {},
   "source": [
    "Distribution"
   ]
  },
  {
   "cell_type": "markdown",
   "id": "e2499cea-4c48-4766-b42c-134e2fb241a2",
   "metadata": {},
   "source": [
    "recodage"
   ]
  },
  {
   "cell_type": "markdown",
   "id": "49315c59-bc3e-495d-9573-06e6ca922250",
   "metadata": {},
   "source": [
    "## Bivarié"
   ]
  },
  {
   "cell_type": "markdown",
   "id": "a6926310-5d77-4dcc-91a5-4ab2df242b22",
   "metadata": {},
   "source": [
    "Quanti/quanti .corr"
   ]
  },
  {
   "cell_type": "code",
   "execution_count": null,
   "id": "269064d3-5703-4058-a2ed-0c861247d975",
   "metadata": {},
   "outputs": [],
   "source": [
    "from scipy.stats import pearsonr\n",
    "\n"
   ]
  },
  {
   "cell_type": "markdown",
   "id": "2333428c-71f3-4be9-b949-c9a130ba6cdc",
   "metadata": {},
   "source": [
    "Quanti/quali\n",
    "\n",
    ".groupby"
   ]
  },
  {
   "cell_type": "code",
   "execution_count": null,
   "id": "f78c57e0-cb24-4981-9fd3-0c2a43d21f7f",
   "metadata": {},
   "outputs": [],
   "source": [
    "from scipy.stats import f_oneway"
   ]
  },
  {
   "cell_type": "markdown",
   "id": "2556909b-170f-4a46-84c6-0751841be2af",
   "metadata": {},
   "source": [
    "Possibilité d'utiliser d'autres bibliothèques, comme pinguin https://pingouin-stats.org/build/html/index.html"
   ]
  },
  {
   "cell_type": "code",
   "execution_count": null,
   "id": "97bcc784-0852-48a0-aa6f-e0f6b937f02b",
   "metadata": {},
   "outputs": [],
   "source": [
    "#pip install pingouin"
   ]
  },
  {
   "cell_type": "markdown",
   "id": "cedfc55b-a354-48d7-aa0c-35714807270e",
   "metadata": {},
   "source": [
    "Quali/Quali\n",
    "\n",
    "pd.crosstab"
   ]
  },
  {
   "cell_type": "code",
   "execution_count": null,
   "id": "299e8b8c-67f4-4b21-a20c-260862818034",
   "metadata": {},
   "outputs": [],
   "source": [
    "from scipy.stats import chi2_contingency"
   ]
  },
  {
   "cell_type": "markdown",
   "id": "d3557db0-854b-4711-9812-15707997e824",
   "metadata": {},
   "source": [
    "## Modèles"
   ]
  },
  {
   "cell_type": "markdown",
   "id": "bb9d4b1a",
   "metadata": {},
   "source": [
    "### Régression linéaire"
   ]
  },
  {
   "cell_type": "code",
   "execution_count": null,
   "id": "c429788a",
   "metadata": {},
   "outputs": [],
   "source": [
    "import statsmodels.api as sm\n",
    "\n",
    "\n",
    "X = df[['publication_year', 'retracted', 'nb_auteurs']] \n",
    "X = sm.add_constant(X) \n",
    "y = df[\"cited_by_count\"]\n",
    "\n",
    "model = sm.OLS(y, X).fit()\n",
    "\n",
    "\n",
    "print(model.summary())"
   ]
  },
  {
   "cell_type": "markdown",
   "id": "69d3e6f0-4083-4698-9b8d-782ce9b05084",
   "metadata": {},
   "source": [
    "#### Régression logistique"
   ]
  },
  {
   "cell_type": "markdown",
   "id": "f4174f10-9a64-4852-87c7-aa121d234ec2",
   "metadata": {},
   "source": [
    "Quels sont les prédicteurs du fait d'avoir plus de 10 citations ?"
   ]
  },
  {
   "cell_type": "markdown",
   "id": "56c41709-f598-4a02-8be3-3d3e668b9bb4",
   "metadata": {},
   "source": [
    "Création d'une variable 0 (pas du tout ou rarement) et 1 sinon"
   ]
  },
  {
   "cell_type": "code",
   "execution_count": null,
   "id": "459edc1f-45a7-49c7-970f-5f07b65e0a48",
   "metadata": {},
   "outputs": [],
   "source": [
    "df[\"citations10\"] = df[\"cited_by_count\"] > 10"
   ]
  },
  {
   "cell_type": "markdown",
   "id": "de3c47dd-74f2-4d2e-9ca4-260aa93f991b",
   "metadata": {},
   "source": [
    "Avec Scikit-learn"
   ]
  },
  {
   "cell_type": "code",
   "execution_count": null,
   "id": "0e9ada74-8ba4-48ab-9a45-eca97a95c7d1",
   "metadata": {},
   "outputs": [],
   "source": [
    "from sklearn.linear_model import LogisticRegression"
   ]
  },
  {
   "cell_type": "code",
   "execution_count": null,
   "id": "6e065592",
   "metadata": {},
   "outputs": [],
   "source": [
    "df[\"open\"]"
   ]
  },
  {
   "cell_type": "code",
   "execution_count": null,
   "id": "b208d6f4-5444-4c1a-820b-7fd25866763a",
   "metadata": {},
   "outputs": [],
   "source": [
    "X = pd.get_dummies(df[[\"publication_year\", \"openaccess\"]], drop_first=True)\n",
    "y = df[\"citations10\"]"
   ]
  },
  {
   "cell_type": "code",
   "execution_count": null,
   "id": "2aeb6cc2-b029-4e91-bc6d-fde1c2e8a4ca",
   "metadata": {},
   "outputs": [],
   "source": [
    "modele = LogisticRegression()\n",
    "modele.fit(X, y)\n",
    "modele.coef_"
   ]
  },
  {
   "cell_type": "markdown",
   "id": "2aeb8943-8398-490f-be1c-08bf99d1001f",
   "metadata": {},
   "source": [
    "Avec Statsmodels"
   ]
  },
  {
   "cell_type": "code",
   "execution_count": null,
   "id": "d7259baa-240d-4ed6-af0c-df77ce51feab",
   "metadata": {},
   "outputs": [],
   "source": [
    "import statsmodels.api as sm\n",
    "from patsy import dmatrices"
   ]
  },
  {
   "cell_type": "code",
   "execution_count": null,
   "id": "b9bd8648-88c7-47c8-a86e-8874a22da731",
   "metadata": {},
   "outputs": [],
   "source": [
    "y,X = dmatrices('citations10 ~ C(openaccess) + publication_year', \n",
    "                data = df, \n",
    "                return_type = 'dataframe')"
   ]
  },
  {
   "cell_type": "code",
   "execution_count": null,
   "id": "6d742a06-a46c-46b4-bffd-d5db2a9ad62b",
   "metadata": {},
   "outputs": [],
   "source": [
    "modele = sm.Logit(y[\"citations10[True]\"],X)\n",
    "resultat = modele.fit()\n",
    "resultat.summary()"
   ]
  },
  {
   "cell_type": "markdown",
   "id": "6b5fcecf-5d73-422b-bd25-469432cec9b1",
   "metadata": {},
   "source": [
    "Avec la version toute intégrée"
   ]
  },
  {
   "cell_type": "code",
   "execution_count": null,
   "id": "1727c134-3b76-4072-b1cd-0f0aba0a21e0",
   "metadata": {},
   "outputs": [],
   "source": [
    "#!pip install -U pyshs"
   ]
  },
  {
   "cell_type": "code",
   "execution_count": null,
   "id": "ae8ac195-feb9-430e-acf9-2bb60a62199c",
   "metadata": {},
   "outputs": [],
   "source": [
    "import pyshs"
   ]
  },
  {
   "cell_type": "code",
   "execution_count": null,
   "id": "0d486c06-f1a4-4c8b-ab9e-bba53356d2d2",
   "metadata": {},
   "outputs": [],
   "source": [
    "pyshs.regression_logistique(df, \"citations10\", [\"openaccess\", \"publication_year\"],)"
   ]
  }
 ],
 "metadata": {
  "kernelspec": {
   "display_name": "Python 3 (ipykernel)",
   "language": "python",
   "name": "python3"
  },
  "language_info": {
   "codemirror_mode": {
    "name": "ipython",
    "version": 3
   },
   "file_extension": ".py",
   "mimetype": "text/x-python",
   "name": "python",
   "nbconvert_exporter": "python",
   "pygments_lexer": "ipython3",
   "version": "3.11.7"
  }
 },
 "nbformat": 4,
 "nbformat_minor": 5
}
