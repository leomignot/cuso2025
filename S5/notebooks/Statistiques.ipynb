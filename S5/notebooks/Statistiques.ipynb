{
 "cells": [
  {
   "cell_type": "markdown",
   "id": "7e79c206-cd83-4dd5-b9de-4cbf259229fa",
   "metadata": {},
   "source": [
    "# Faire des statistiques\n"
   ]
  },
  {
   "cell_type": "code",
   "execution_count": 7,
   "id": "43559a0d-03bc-464c-9fae-9ecb8fc6e525",
   "metadata": {},
   "outputs": [
    {
     "data": {
      "text/plain": [
       "(1449, 182)"
      ]
     },
     "execution_count": 7,
     "metadata": {},
     "output_type": "execute_result"
    }
   ],
   "source": [
    "import pandas as pd\n",
    "df = pd.read_csv(\"../../data/CSS_exact_openalex.csv\", low_memory=False)\n",
    "df.shape"
   ]
  },
  {
   "cell_type": "markdown",
   "id": "a9d246a7-242d-4d72-81b5-576aecf859b7",
   "metadata": {},
   "source": [
    "Deux variables :\n",
    "- dépendante : nombre de citations `cited_by_count`\n",
    "- indépendantes : années `publication_year` ; langue `language` ; nombre auteurs `authorships.raw_author_name`, open accès `open_access.is_oa`, type `type`"
   ]
  },
  {
   "cell_type": "markdown",
   "id": "3df03c61",
   "metadata": {},
   "source": [
    "## Traitement des données"
   ]
  },
  {
   "cell_type": "code",
   "execution_count": 9,
   "id": "9a700af5",
   "metadata": {},
   "outputs": [],
   "source": [
    "# enlever les lignes sans auteurs\n",
    "df = df[~df[\"authorships.raw_author_name\"].isna()]\n",
    "\n",
    "# ajouter le nombre d'auteurs\n",
    "df[\"nb_auteurs\"] = df[\"authorships.raw_author_name\"].apply(lambda x: len(x.split(\"|\")))\n",
    "\n",
    "# langue anglais\n",
    "df[\"english\"] = df[\"language\"] == \"en\"\n",
    "\n",
    "# renommer les colonnes\n",
    "df = df.rename(columns={\"open_access.is_oa\":\"openaccess\"})\n",
    "\n",
    "# numérique pour des variables\n",
    "df[\"openaccess\"] = df[\"openaccess\"].astype(int)"
   ]
  },
  {
   "cell_type": "code",
   "execution_count": 11,
   "id": "0f504483-9bb2-4249-967e-de1caf124643",
   "metadata": {
    "tags": []
   },
   "outputs": [
    {
     "data": {
      "text/html": [
       "<div>\n",
       "<style scoped>\n",
       "    .dataframe tbody tr th:only-of-type {\n",
       "        vertical-align: middle;\n",
       "    }\n",
       "\n",
       "    .dataframe tbody tr th {\n",
       "        vertical-align: top;\n",
       "    }\n",
       "\n",
       "    .dataframe thead th {\n",
       "        text-align: right;\n",
       "    }\n",
       "</style>\n",
       "<table border=\"1\" class=\"dataframe\">\n",
       "  <thead>\n",
       "    <tr style=\"text-align: right;\">\n",
       "      <th></th>\n",
       "      <th>nb_auteurs</th>\n",
       "      <th>openaccess</th>\n",
       "      <th>english</th>\n",
       "    </tr>\n",
       "  </thead>\n",
       "  <tbody>\n",
       "    <tr>\n",
       "      <th>0</th>\n",
       "      <td>15</td>\n",
       "      <td>1</td>\n",
       "      <td>True</td>\n",
       "    </tr>\n",
       "    <tr>\n",
       "      <th>1</th>\n",
       "      <td>14</td>\n",
       "      <td>1</td>\n",
       "      <td>True</td>\n",
       "    </tr>\n",
       "    <tr>\n",
       "      <th>2</th>\n",
       "      <td>15</td>\n",
       "      <td>0</td>\n",
       "      <td>True</td>\n",
       "    </tr>\n",
       "    <tr>\n",
       "      <th>3</th>\n",
       "      <td>4</td>\n",
       "      <td>1</td>\n",
       "      <td>True</td>\n",
       "    </tr>\n",
       "    <tr>\n",
       "      <th>4</th>\n",
       "      <td>12</td>\n",
       "      <td>0</td>\n",
       "      <td>True</td>\n",
       "    </tr>\n",
       "    <tr>\n",
       "      <th>...</th>\n",
       "      <td>...</td>\n",
       "      <td>...</td>\n",
       "      <td>...</td>\n",
       "    </tr>\n",
       "    <tr>\n",
       "      <th>1441</th>\n",
       "      <td>1</td>\n",
       "      <td>1</td>\n",
       "      <td>True</td>\n",
       "    </tr>\n",
       "    <tr>\n",
       "      <th>1442</th>\n",
       "      <td>1</td>\n",
       "      <td>0</td>\n",
       "      <td>True</td>\n",
       "    </tr>\n",
       "    <tr>\n",
       "      <th>1443</th>\n",
       "      <td>1</td>\n",
       "      <td>0</td>\n",
       "      <td>True</td>\n",
       "    </tr>\n",
       "    <tr>\n",
       "      <th>1445</th>\n",
       "      <td>1</td>\n",
       "      <td>0</td>\n",
       "      <td>True</td>\n",
       "    </tr>\n",
       "    <tr>\n",
       "      <th>1446</th>\n",
       "      <td>1</td>\n",
       "      <td>0</td>\n",
       "      <td>True</td>\n",
       "    </tr>\n",
       "  </tbody>\n",
       "</table>\n",
       "<p>1378 rows × 3 columns</p>\n",
       "</div>"
      ],
      "text/plain": [
       "      nb_auteurs  openaccess  english\n",
       "0             15           1     True\n",
       "1             14           1     True\n",
       "2             15           0     True\n",
       "3              4           1     True\n",
       "4             12           0     True\n",
       "...          ...         ...      ...\n",
       "1441           1           1     True\n",
       "1442           1           0     True\n",
       "1443           1           0     True\n",
       "1445           1           0     True\n",
       "1446           1           0     True\n",
       "\n",
       "[1378 rows x 3 columns]"
      ]
     },
     "execution_count": 11,
     "metadata": {},
     "output_type": "execute_result"
    }
   ],
   "source": [
    "df[[\"nb_auteurs\",\"openaccess\",\"english\"]]"
   ]
  },
  {
   "cell_type": "markdown",
   "id": "14e8466b-00fa-4c4f-b0b7-6a2628496206",
   "metadata": {},
   "source": [
    "## Univarié"
   ]
  },
  {
   "cell_type": "markdown",
   "id": "d0d41b91-7594-4dcb-91e3-10e30f7eae22",
   "metadata": {},
   "source": [
    "Indicateurs"
   ]
  },
  {
   "cell_type": "code",
   "execution_count": 12,
   "id": "b951458a-5a7a-4f94-a0b6-0e03afe813d1",
   "metadata": {
    "tags": []
   },
   "outputs": [
    {
     "data": {
      "text/plain": [
       "count    1378.000000\n",
       "mean        3.174165\n",
       "std         4.618503\n",
       "min         1.000000\n",
       "25%         1.000000\n",
       "50%         2.000000\n",
       "75%         4.000000\n",
       "max        99.000000\n",
       "Name: nb_auteurs, dtype: float64"
      ]
     },
     "execution_count": 12,
     "metadata": {},
     "output_type": "execute_result"
    }
   ],
   "source": [
    "df[\"nb_auteurs\"].describe()"
   ]
  },
  {
   "cell_type": "markdown",
   "id": "7193cf3d-6e39-4dcd-87fc-258f276c74d9",
   "metadata": {},
   "source": [
    "Distribution"
   ]
  },
  {
   "cell_type": "code",
   "execution_count": 14,
   "id": "7445b8ea-1fe9-44d5-8e5e-1551e64c5e92",
   "metadata": {
    "tags": []
   },
   "outputs": [
    {
     "data": {
      "text/plain": [
       "english\n",
       "True     1312\n",
       "False      66\n",
       "Name: count, dtype: int64"
      ]
     },
     "execution_count": 14,
     "metadata": {},
     "output_type": "execute_result"
    }
   ],
   "source": [
    "df[\"english\"].value_counts()"
   ]
  },
  {
   "cell_type": "markdown",
   "id": "e2499cea-4c48-4766-b42c-134e2fb241a2",
   "metadata": {},
   "source": [
    "recodage"
   ]
  },
  {
   "cell_type": "markdown",
   "id": "49315c59-bc3e-495d-9573-06e6ca922250",
   "metadata": {},
   "source": [
    "## Bivarié"
   ]
  },
  {
   "cell_type": "markdown",
   "id": "a6926310-5d77-4dcc-91a5-4ab2df242b22",
   "metadata": {},
   "source": [
    "Quanti/quanti .corr"
   ]
  },
  {
   "cell_type": "code",
   "execution_count": null,
   "id": "c96d19a1-43fc-408c-b144-c99e7d2fe725",
   "metadata": {},
   "outputs": [],
   "source": [
    "df[\"nb_auteurs\"],df[\"cited_by_count\"]"
   ]
  },
  {
   "cell_type": "code",
   "execution_count": 21,
   "id": "269064d3-5703-4058-a2ed-0c861247d975",
   "metadata": {},
   "outputs": [],
   "source": [
    "from scipy.stats import pearsonr\n",
    "\n",
    "stat, p = pearsonr(df[\"nb_auteurs\"],df[\"cited_by_count\"])"
   ]
  },
  {
   "cell_type": "markdown",
   "id": "2333428c-71f3-4be9-b949-c9a130ba6cdc",
   "metadata": {},
   "source": [
    "Quanti/quali\n",
    "\n",
    ".groupby"
   ]
  },
  {
   "cell_type": "code",
   "execution_count": 22,
   "id": "74f0ab36-25a3-46bc-896e-08296da655f0",
   "metadata": {
    "tags": []
   },
   "outputs": [
    {
     "data": {
      "text/plain": [
       "openaccess\n",
       "0    14.269118\n",
       "1    32.467049\n",
       "Name: cited_by_count, dtype: float64"
      ]
     },
     "execution_count": 22,
     "metadata": {},
     "output_type": "execute_result"
    }
   ],
   "source": [
    "df.groupby(\"openaccess\")[\"cited_by_count\"].mean()"
   ]
  },
  {
   "cell_type": "code",
   "execution_count": 26,
   "id": "f78c57e0-cb24-4981-9fd3-0c2a43d21f7f",
   "metadata": {},
   "outputs": [
    {
     "data": {
      "text/plain": [
       "F_onewayResult(statistic=np.float64(4.2765330600487035), pvalue=np.float64(0.03882860979861467))"
      ]
     },
     "execution_count": 26,
     "metadata": {},
     "output_type": "execute_result"
    }
   ],
   "source": [
    "from scipy.stats import f_oneway\n",
    "\n",
    "f_oneway(df[df[\"openaccess\"] == 1][\"cited_by_count\"],\n",
    "         df[df[\"openaccess\"] == 0][\"cited_by_count\"])"
   ]
  },
  {
   "cell_type": "markdown",
   "id": "2556909b-170f-4a46-84c6-0751841be2af",
   "metadata": {},
   "source": [
    "Possibilité d'utiliser d'autres bibliothèques, comme pinguin https://pingouin-stats.org/build/html/index.html"
   ]
  },
  {
   "cell_type": "code",
   "execution_count": null,
   "id": "97bcc784-0852-48a0-aa6f-e0f6b937f02b",
   "metadata": {},
   "outputs": [],
   "source": [
    "#pip install pingouin"
   ]
  },
  {
   "cell_type": "markdown",
   "id": "cedfc55b-a354-48d7-aa0c-35714807270e",
   "metadata": {},
   "source": [
    "Quali/Quali"
   ]
  },
  {
   "cell_type": "code",
   "execution_count": 47,
   "id": "a3696e33-c80d-45b2-97aa-b3f89735818a",
   "metadata": {
    "tags": []
   },
   "outputs": [
    {
     "data": {
      "text/html": [
       "<div>\n",
       "<style scoped>\n",
       "    .dataframe tbody tr th:only-of-type {\n",
       "        vertical-align: middle;\n",
       "    }\n",
       "\n",
       "    .dataframe tbody tr th {\n",
       "        vertical-align: top;\n",
       "    }\n",
       "\n",
       "    .dataframe thead th {\n",
       "        text-align: right;\n",
       "    }\n",
       "</style>\n",
       "<table border=\"1\" class=\"dataframe\">\n",
       "  <thead>\n",
       "    <tr style=\"text-align: right;\">\n",
       "      <th>english</th>\n",
       "      <th>False</th>\n",
       "      <th>True</th>\n",
       "    </tr>\n",
       "    <tr>\n",
       "      <th>openaccess</th>\n",
       "      <th></th>\n",
       "      <th></th>\n",
       "    </tr>\n",
       "  </thead>\n",
       "  <tbody>\n",
       "    <tr>\n",
       "      <th>0</th>\n",
       "      <td>0.757576</td>\n",
       "      <td>0.480183</td>\n",
       "    </tr>\n",
       "    <tr>\n",
       "      <th>1</th>\n",
       "      <td>0.242424</td>\n",
       "      <td>0.519817</td>\n",
       "    </tr>\n",
       "  </tbody>\n",
       "</table>\n",
       "</div>"
      ],
      "text/plain": [
       "english        False     True \n",
       "openaccess                    \n",
       "0           0.757576  0.480183\n",
       "1           0.242424  0.519817"
      ]
     },
     "execution_count": 47,
     "metadata": {},
     "output_type": "execute_result"
    }
   ],
   "source": [
    "tab = pd.crosstab(df[\"openaccess\"], df[\"english\"])\n",
    "pd.crosstab(df[\"openaccess\"], df[\"english\"], normalize=\"columns\")"
   ]
  },
  {
   "cell_type": "code",
   "execution_count": 42,
   "id": "299e8b8c-67f4-4b21-a20c-260862818034",
   "metadata": {},
   "outputs": [
    {
     "data": {
      "text/plain": [
       "np.float64(1.9367915463731307e-05)"
      ]
     },
     "execution_count": 42,
     "metadata": {},
     "output_type": "execute_result"
    }
   ],
   "source": [
    "from scipy.stats import chi2_contingency\n",
    "\n",
    "stat, p, *args = chi2_contingency(tab)\n",
    "p"
   ]
  },
  {
   "cell_type": "markdown",
   "id": "d3557db0-854b-4711-9812-15707997e824",
   "metadata": {},
   "source": [
    "## Modèles"
   ]
  },
  {
   "cell_type": "markdown",
   "id": "bb9d4b1a",
   "metadata": {},
   "source": [
    "### Régression linéaire"
   ]
  },
  {
   "cell_type": "code",
   "execution_count": 48,
   "id": "c429788a",
   "metadata": {},
   "outputs": [
    {
     "name": "stdout",
     "output_type": "stream",
     "text": [
      "                            OLS Regression Results                            \n",
      "==============================================================================\n",
      "Dep. Variable:         cited_by_count   R-squared:                       0.045\n",
      "Model:                            OLS   Adj. R-squared:                  0.043\n",
      "Method:                 Least Squares   F-statistic:                     32.13\n",
      "Date:                Fri, 13 Jun 2025   Prob (F-statistic):           2.31e-14\n",
      "Time:                        11:51:52   Log-Likelihood:                -8946.8\n",
      "No. Observations:                1378   AIC:                         1.790e+04\n",
      "Df Residuals:                    1375   BIC:                         1.792e+04\n",
      "Df Model:                           2                                         \n",
      "Covariance Type:            nonrobust                                         \n",
      "====================================================================================\n",
      "                       coef    std err          t      P>|t|      [0.025      0.975]\n",
      "------------------------------------------------------------------------------------\n",
      "const             1.467e+04   1916.031      7.658      0.000    1.09e+04    1.84e+04\n",
      "publication_year    -7.2593      0.949     -7.649      0.000      -9.121      -5.398\n",
      "nb_auteurs           2.4326      0.934      2.606      0.009       0.601       4.264\n",
      "==============================================================================\n",
      "Omnibus:                     2637.375   Durbin-Watson:                   1.652\n",
      "Prob(Omnibus):                  0.000   Jarque-Bera (JB):          3341469.433\n",
      "Skew:                          14.282   Prob(JB):                         0.00\n",
      "Kurtosis:                     242.543   Cond. No.                     8.98e+05\n",
      "==============================================================================\n",
      "\n",
      "Notes:\n",
      "[1] Standard Errors assume that the covariance matrix of the errors is correctly specified.\n",
      "[2] The condition number is large, 8.98e+05. This might indicate that there are\n",
      "strong multicollinearity or other numerical problems.\n"
     ]
    }
   ],
   "source": [
    "import statsmodels.api as sm\n",
    "\n",
    "\n",
    "X = df[['publication_year', 'nb_auteurs']] \n",
    "X = sm.add_constant(X) \n",
    "y = df[\"cited_by_count\"]\n",
    "\n",
    "model = sm.OLS(y, X).fit()\n",
    "\n",
    "\n",
    "print(model.summary())"
   ]
  },
  {
   "cell_type": "markdown",
   "id": "69d3e6f0-4083-4698-9b8d-782ce9b05084",
   "metadata": {},
   "source": [
    "#### Régression logistique"
   ]
  },
  {
   "cell_type": "markdown",
   "id": "f4174f10-9a64-4852-87c7-aa121d234ec2",
   "metadata": {},
   "source": [
    "Quels sont les prédicteurs du fait d'avoir plus de 10 citations ?"
   ]
  },
  {
   "cell_type": "markdown",
   "id": "56c41709-f598-4a02-8be3-3d3e668b9bb4",
   "metadata": {},
   "source": [
    "Création d'une variable 0 (pas du tout ou rarement) et 1 sinon"
   ]
  },
  {
   "cell_type": "code",
   "execution_count": 49,
   "id": "459edc1f-45a7-49c7-970f-5f07b65e0a48",
   "metadata": {},
   "outputs": [],
   "source": [
    "df[\"citations10\"] = df[\"cited_by_count\"] > 10"
   ]
  },
  {
   "cell_type": "markdown",
   "id": "de3c47dd-74f2-4d2e-9ca4-260aa93f991b",
   "metadata": {},
   "source": [
    "Avec Scikit-learn"
   ]
  },
  {
   "cell_type": "code",
   "execution_count": 50,
   "id": "0e9ada74-8ba4-48ab-9a45-eca97a95c7d1",
   "metadata": {},
   "outputs": [],
   "source": [
    "from sklearn.linear_model import LogisticRegression"
   ]
  },
  {
   "cell_type": "code",
   "execution_count": 52,
   "id": "b208d6f4-5444-4c1a-820b-7fd25866763a",
   "metadata": {},
   "outputs": [],
   "source": [
    "X = pd.get_dummies(df[[\"publication_year\", \"openaccess\"]], drop_first=True)\n",
    "y = df[\"citations10\"]"
   ]
  },
  {
   "cell_type": "code",
   "execution_count": 53,
   "id": "2aeb6cc2-b029-4e91-bc6d-fde1c2e8a4ca",
   "metadata": {},
   "outputs": [
    {
     "data": {
      "text/plain": [
       "array([[-0.21478903,  1.30063159]])"
      ]
     },
     "execution_count": 53,
     "metadata": {},
     "output_type": "execute_result"
    }
   ],
   "source": [
    "modele = LogisticRegression()\n",
    "modele.fit(X, y)\n",
    "modele.coef_"
   ]
  },
  {
   "cell_type": "code",
   "execution_count": 55,
   "id": "cf3a36ff-8954-4f4f-b413-0fef970b9eb2",
   "metadata": {
    "tags": []
   },
   "outputs": [
    {
     "name": "stderr",
     "output_type": "stream",
     "text": [
      "/opt/anaconda3/lib/python3.11/site-packages/sklearn/utils/validation.py:2739: UserWarning: X does not have valid feature names, but LogisticRegression was fitted with feature names\n",
      "  warnings.warn(\n"
     ]
    },
    {
     "data": {
      "text/plain": [
       "array([ True])"
      ]
     },
     "execution_count": 55,
     "metadata": {},
     "output_type": "execute_result"
    }
   ],
   "source": [
    "modele.predict([[2004, 10]])"
   ]
  },
  {
   "cell_type": "markdown",
   "id": "2aeb8943-8398-490f-be1c-08bf99d1001f",
   "metadata": {},
   "source": [
    "Avec Statsmodels"
   ]
  },
  {
   "cell_type": "code",
   "execution_count": 57,
   "id": "d7259baa-240d-4ed6-af0c-df77ce51feab",
   "metadata": {},
   "outputs": [],
   "source": [
    "import statsmodels.api as sm\n",
    "from patsy import dmatrices"
   ]
  },
  {
   "cell_type": "code",
   "execution_count": 58,
   "id": "b9bd8648-88c7-47c8-a86e-8874a22da731",
   "metadata": {},
   "outputs": [],
   "source": [
    "y,X = dmatrices('citations10 ~ C(openaccess) + publication_year', \n",
    "                data = df, \n",
    "                return_type = 'dataframe')"
   ]
  },
  {
   "cell_type": "code",
   "execution_count": 59,
   "id": "6d742a06-a46c-46b4-bffd-d5db2a9ad62b",
   "metadata": {},
   "outputs": [
    {
     "name": "stdout",
     "output_type": "stream",
     "text": [
      "Optimization terminated successfully.\n",
      "         Current function value: 0.444281\n",
      "         Iterations 7\n"
     ]
    },
    {
     "data": {
      "text/html": [
       "<table class=\"simpletable\">\n",
       "<caption>Logit Regression Results</caption>\n",
       "<tr>\n",
       "  <th>Dep. Variable:</th>   <td>citations10[True]</td> <th>  No. Observations:  </th>  <td>  1378</td>  \n",
       "</tr>\n",
       "<tr>\n",
       "  <th>Model:</th>                 <td>Logit</td>       <th>  Df Residuals:      </th>  <td>  1375</td>  \n",
       "</tr>\n",
       "<tr>\n",
       "  <th>Method:</th>                 <td>MLE</td>        <th>  Df Model:          </th>  <td>     2</td>  \n",
       "</tr>\n",
       "<tr>\n",
       "  <th>Date:</th>            <td>Fri, 13 Jun 2025</td>  <th>  Pseudo R-squ.:     </th>  <td>0.1398</td>  \n",
       "</tr>\n",
       "<tr>\n",
       "  <th>Time:</th>                <td>11:56:22</td>      <th>  Log-Likelihood:    </th> <td> -612.22</td> \n",
       "</tr>\n",
       "<tr>\n",
       "  <th>converged:</th>             <td>True</td>        <th>  LL-Null:           </th> <td> -711.69</td> \n",
       "</tr>\n",
       "<tr>\n",
       "  <th>Covariance Type:</th>     <td>nonrobust</td>     <th>  LLR p-value:       </th> <td>6.328e-44</td>\n",
       "</tr>\n",
       "</table>\n",
       "<table class=\"simpletable\">\n",
       "<tr>\n",
       "           <td></td>             <th>coef</th>     <th>std err</th>      <th>z</th>      <th>P>|z|</th>  <th>[0.025</th>    <th>0.975]</th>  \n",
       "</tr>\n",
       "<tr>\n",
       "  <th>Intercept</th>          <td>  434.8080</td> <td>   36.241</td> <td>   11.998</td> <td> 0.000</td> <td>  363.777</td> <td>  505.839</td>\n",
       "</tr>\n",
       "<tr>\n",
       "  <th>C(openaccess)[T.1]</th> <td>    1.3349</td> <td>    0.162</td> <td>    8.231</td> <td> 0.000</td> <td>    1.017</td> <td>    1.653</td>\n",
       "</tr>\n",
       "<tr>\n",
       "  <th>publication_year</th>   <td>   -0.2165</td> <td>    0.018</td> <td>  -12.038</td> <td> 0.000</td> <td>   -0.252</td> <td>   -0.181</td>\n",
       "</tr>\n",
       "</table>"
      ],
      "text/latex": [
       "\\begin{center}\n",
       "\\begin{tabular}{lclc}\n",
       "\\toprule\n",
       "\\textbf{Dep. Variable:}     & citations10[True] & \\textbf{  No. Observations:  } &     1378    \\\\\n",
       "\\textbf{Model:}             &       Logit       & \\textbf{  Df Residuals:      } &     1375    \\\\\n",
       "\\textbf{Method:}            &        MLE        & \\textbf{  Df Model:          } &        2    \\\\\n",
       "\\textbf{Date:}              &  Fri, 13 Jun 2025 & \\textbf{  Pseudo R-squ.:     } &   0.1398    \\\\\n",
       "\\textbf{Time:}              &      11:56:22     & \\textbf{  Log-Likelihood:    } &   -612.22   \\\\\n",
       "\\textbf{converged:}         &        True       & \\textbf{  LL-Null:           } &   -711.69   \\\\\n",
       "\\textbf{Covariance Type:}   &     nonrobust     & \\textbf{  LLR p-value:       } & 6.328e-44   \\\\\n",
       "\\bottomrule\n",
       "\\end{tabular}\n",
       "\\begin{tabular}{lcccccc}\n",
       "                            & \\textbf{coef} & \\textbf{std err} & \\textbf{z} & \\textbf{P$> |$z$|$} & \\textbf{[0.025} & \\textbf{0.975]}  \\\\\n",
       "\\midrule\n",
       "\\textbf{Intercept}          &     434.8080  &       36.241     &    11.998  &         0.000        &      363.777    &      505.839     \\\\\n",
       "\\textbf{C(openaccess)[T.1]} &       1.3349  &        0.162     &     8.231  &         0.000        &        1.017    &        1.653     \\\\\n",
       "\\textbf{publication\\_year}  &      -0.2165  &        0.018     &   -12.038  &         0.000        &       -0.252    &       -0.181     \\\\\n",
       "\\bottomrule\n",
       "\\end{tabular}\n",
       "%\\caption{Logit Regression Results}\n",
       "\\end{center}"
      ],
      "text/plain": [
       "<class 'statsmodels.iolib.summary.Summary'>\n",
       "\"\"\"\n",
       "                           Logit Regression Results                           \n",
       "==============================================================================\n",
       "Dep. Variable:      citations10[True]   No. Observations:                 1378\n",
       "Model:                          Logit   Df Residuals:                     1375\n",
       "Method:                           MLE   Df Model:                            2\n",
       "Date:                Fri, 13 Jun 2025   Pseudo R-squ.:                  0.1398\n",
       "Time:                        11:56:22   Log-Likelihood:                -612.22\n",
       "converged:                       True   LL-Null:                       -711.69\n",
       "Covariance Type:            nonrobust   LLR p-value:                 6.328e-44\n",
       "======================================================================================\n",
       "                         coef    std err          z      P>|z|      [0.025      0.975]\n",
       "--------------------------------------------------------------------------------------\n",
       "Intercept            434.8080     36.241     11.998      0.000     363.777     505.839\n",
       "C(openaccess)[T.1]     1.3349      0.162      8.231      0.000       1.017       1.653\n",
       "publication_year      -0.2165      0.018    -12.038      0.000      -0.252      -0.181\n",
       "======================================================================================\n",
       "\"\"\""
      ]
     },
     "execution_count": 59,
     "metadata": {},
     "output_type": "execute_result"
    }
   ],
   "source": [
    "modele = sm.Logit(y[\"citations10[True]\"],X)\n",
    "resultat = modele.fit()\n",
    "resultat.summary()"
   ]
  },
  {
   "cell_type": "markdown",
   "id": "6b5fcecf-5d73-422b-bd25-469432cec9b1",
   "metadata": {},
   "source": [
    "Avec la version toute intégrée"
   ]
  },
  {
   "cell_type": "code",
   "execution_count": null,
   "id": "1727c134-3b76-4072-b1cd-0f0aba0a21e0",
   "metadata": {},
   "outputs": [],
   "source": [
    "#!pip install -U pyshs"
   ]
  },
  {
   "cell_type": "code",
   "execution_count": 60,
   "id": "ae8ac195-feb9-430e-acf9-2bb60a62199c",
   "metadata": {},
   "outputs": [],
   "source": [
    "import pyshs"
   ]
  },
  {
   "cell_type": "code",
   "execution_count": 61,
   "id": "0d486c06-f1a4-4c8b-ab9e-bba53356d2d2",
   "metadata": {},
   "outputs": [
    {
     "data": {
      "text/html": [
       "<div>\n",
       "<style scoped>\n",
       "    .dataframe tbody tr th:only-of-type {\n",
       "        vertical-align: middle;\n",
       "    }\n",
       "\n",
       "    .dataframe tbody tr th {\n",
       "        vertical-align: top;\n",
       "    }\n",
       "\n",
       "    .dataframe thead th {\n",
       "        text-align: right;\n",
       "    }\n",
       "</style>\n",
       "<table border=\"1\" class=\"dataframe\">\n",
       "  <thead>\n",
       "    <tr style=\"text-align: right;\">\n",
       "      <th></th>\n",
       "      <th></th>\n",
       "      <th>OR</th>\n",
       "      <th>p</th>\n",
       "      <th>IC 95%</th>\n",
       "    </tr>\n",
       "    <tr>\n",
       "      <th>Variable</th>\n",
       "      <th>Modalité</th>\n",
       "      <th></th>\n",
       "      <th></th>\n",
       "      <th></th>\n",
       "    </tr>\n",
       "  </thead>\n",
       "  <tbody>\n",
       "    <tr>\n",
       "      <th>.Intercept</th>\n",
       "      <th></th>\n",
       "      <td>0.00</td>\n",
       "      <td>0.0***</td>\n",
       "      <td>0.00 [0.00-0.00]</td>\n",
       "    </tr>\n",
       "    <tr>\n",
       "      <th>openaccess</th>\n",
       "      <th>numérique</th>\n",
       "      <td>0.26</td>\n",
       "      <td>0.0***</td>\n",
       "      <td>0.26 [0.19-0.36]</td>\n",
       "    </tr>\n",
       "    <tr>\n",
       "      <th>publication_year</th>\n",
       "      <th>numérique</th>\n",
       "      <td>1.24</td>\n",
       "      <td>0.0***</td>\n",
       "      <td>1.24 [1.20-1.29]</td>\n",
       "    </tr>\n",
       "  </tbody>\n",
       "</table>\n",
       "</div>"
      ],
      "text/plain": [
       "                              OR       p            IC 95%\n",
       "Variable         Modalité                                 \n",
       ".Intercept                  0.00  0.0***  0.00 [0.00-0.00]\n",
       "openaccess       numérique  0.26  0.0***  0.26 [0.19-0.36]\n",
       "publication_year numérique  1.24  0.0***  1.24 [1.20-1.29]"
      ]
     },
     "execution_count": 61,
     "metadata": {},
     "output_type": "execute_result"
    }
   ],
   "source": [
    "pyshs.regression_logistique(df, \"citations10\", [\"openaccess\", \"publication_year\"],)"
   ]
  },
  {
   "cell_type": "code",
   "execution_count": null,
   "id": "c837eeaf-961c-4288-8bfb-2bf138ab007b",
   "metadata": {},
   "outputs": [],
   "source": []
  }
 ],
 "metadata": {
  "kernelspec": {
   "display_name": "Python 3 (ipykernel)",
   "language": "python",
   "name": "python3"
  },
  "language_info": {
   "codemirror_mode": {
    "name": "ipython",
    "version": 3
   },
   "file_extension": ".py",
   "mimetype": "text/x-python",
   "name": "python",
   "nbconvert_exporter": "python",
   "pygments_lexer": "ipython3",
   "version": "3.11.7"
  }
 },
 "nbformat": 4,
 "nbformat_minor": 5
}
