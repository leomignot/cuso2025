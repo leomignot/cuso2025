{
 "cells": [
  {
   "cell_type": "markdown",
   "id": "7e79c206-cd83-4dd5-b9de-4cbf259229fa",
   "metadata": {},
   "source": [
    "# Faire des statistiques\n"
   ]
  },
  {
   "cell_type": "code",
   "execution_count": 1,
   "id": "43559a0d-03bc-464c-9fae-9ecb8fc6e525",
   "metadata": {},
   "outputs": [],
   "source": [
    "import pandas as pd\n",
    "df = pd.read_csv(\"../../data/CSS_exact_openalex.csv\", low_memory=False)"
   ]
  },
  {
   "cell_type": "markdown",
   "id": "a9d246a7-242d-4d72-81b5-576aecf859b7",
   "metadata": {},
   "source": [
    "Deux variables :\n",
    "- dépendante : nombre de citations `cited_by_count`\n",
    "- indépendantes : années ; langue ; nombre auteurs, language `language`, open accès `open_access.is_oa`, type `type`"
   ]
  },
  {
   "cell_type": "code",
   "execution_count": 57,
   "id": "f5f94629",
   "metadata": {},
   "outputs": [
    {
     "data": {
      "text/plain": [
       "0"
      ]
     },
     "execution_count": 57,
     "metadata": {},
     "output_type": "execute_result"
    }
   ],
   "source": [
    "df[\"authorships.raw_author_name\"].isna().sum()"
   ]
  },
  {
   "cell_type": "markdown",
   "id": "3df03c61",
   "metadata": {},
   "source": [
    "Traitement des données"
   ]
  },
  {
   "cell_type": "code",
   "execution_count": 58,
   "id": "9a700af5",
   "metadata": {},
   "outputs": [],
   "source": [
    "# enlever les lignes sans auteurs\n",
    "df = df[~df[\"authorships.raw_author_name\"].isna()]\n",
    "\n",
    "# ajouter le nombre d'auteurs\n",
    "df[\"nb_auteurs\"] = df[\"authorships.raw_author_name\"].apply(lambda x: len(x.split(\"|\")))\n",
    "\n",
    "# langue anglais\n",
    "df = df[df[\"language\"] == \"en\"]\n",
    "\n",
    "# renommer les colonnes\n",
    "df = df.rename(columns={\"open_access.is_oa\":\"openaccess\"})\n",
    "\n",
    "# numérique pour des variables\n",
    "df[\"openaccess\"] = df[\"openaccess\"].astype(int)"
   ]
  },
  {
   "cell_type": "markdown",
   "id": "14e8466b-00fa-4c4f-b0b7-6a2628496206",
   "metadata": {},
   "source": [
    "## Univarié"
   ]
  },
  {
   "cell_type": "markdown",
   "id": "d0d41b91-7594-4dcb-91e3-10e30f7eae22",
   "metadata": {},
   "source": [
    "Indicateurs"
   ]
  },
  {
   "cell_type": "markdown",
   "id": "7193cf3d-6e39-4dcd-87fc-258f276c74d9",
   "metadata": {},
   "source": [
    "Distribution"
   ]
  },
  {
   "cell_type": "markdown",
   "id": "e2499cea-4c48-4766-b42c-134e2fb241a2",
   "metadata": {},
   "source": [
    "recodage"
   ]
  },
  {
   "cell_type": "markdown",
   "id": "49315c59-bc3e-495d-9573-06e6ca922250",
   "metadata": {},
   "source": [
    "## Bivarié"
   ]
  },
  {
   "cell_type": "markdown",
   "id": "a6926310-5d77-4dcc-91a5-4ab2df242b22",
   "metadata": {},
   "source": [
    "Quanti/quanti .corr"
   ]
  },
  {
   "cell_type": "code",
   "execution_count": null,
   "id": "269064d3-5703-4058-a2ed-0c861247d975",
   "metadata": {},
   "outputs": [
    {
     "data": {
      "text/plain": [
       "PearsonRResult(statistic=0.06316485952917264, pvalue=0.019027924323569402)"
      ]
     },
     "execution_count": 9,
     "metadata": {},
     "output_type": "execute_result"
    }
   ],
   "source": [
    "from scipy.stats import pearsonr\n",
    "\n"
   ]
  },
  {
   "cell_type": "markdown",
   "id": "2333428c-71f3-4be9-b949-c9a130ba6cdc",
   "metadata": {},
   "source": [
    "Quanti/quali\n",
    "\n",
    ".groupby"
   ]
  },
  {
   "cell_type": "code",
   "execution_count": null,
   "id": "f78c57e0-cb24-4981-9fd3-0c2a43d21f7f",
   "metadata": {},
   "outputs": [
    {
     "data": {
      "text/plain": [
       "F_onewayResult(statistic=10.73068474537501, pvalue=1.5652446052537652e-08)"
      ]
     },
     "execution_count": 74,
     "metadata": {},
     "output_type": "execute_result"
    }
   ],
   "source": [
    "from scipy.stats import f_oneway"
   ]
  },
  {
   "cell_type": "markdown",
   "id": "2556909b-170f-4a46-84c6-0751841be2af",
   "metadata": {},
   "source": [
    "Possibilité d'utiliser d'autres bibliothèques, comme pinguin https://pingouin-stats.org/build/html/index.html"
   ]
  },
  {
   "cell_type": "code",
   "execution_count": 60,
   "id": "97bcc784-0852-48a0-aa6f-e0f6b937f02b",
   "metadata": {},
   "outputs": [
    {
     "data": {
      "text/html": [
       "<div>\n",
       "<style scoped>\n",
       "    .dataframe tbody tr th:only-of-type {\n",
       "        vertical-align: middle;\n",
       "    }\n",
       "\n",
       "    .dataframe tbody tr th {\n",
       "        vertical-align: top;\n",
       "    }\n",
       "\n",
       "    .dataframe thead th {\n",
       "        text-align: right;\n",
       "    }\n",
       "</style>\n",
       "<table border=\"1\" class=\"dataframe\">\n",
       "  <thead>\n",
       "    <tr style=\"text-align: right;\">\n",
       "      <th></th>\n",
       "      <th>Source</th>\n",
       "      <th>SS</th>\n",
       "      <th>DF</th>\n",
       "      <th>MS</th>\n",
       "      <th>F</th>\n",
       "      <th>p-unc</th>\n",
       "      <th>np2</th>\n",
       "    </tr>\n",
       "  </thead>\n",
       "  <tbody>\n",
       "    <tr>\n",
       "      <th>0</th>\n",
       "      <td>reseaux_n</td>\n",
       "      <td>961.069233</td>\n",
       "      <td>4</td>\n",
       "      <td>240.267308</td>\n",
       "      <td>1.866877</td>\n",
       "      <td>0.11399</td>\n",
       "      <td>0.006842</td>\n",
       "    </tr>\n",
       "    <tr>\n",
       "      <th>1</th>\n",
       "      <td>Within</td>\n",
       "      <td>139510.930767</td>\n",
       "      <td>1084</td>\n",
       "      <td>128.700121</td>\n",
       "      <td>NaN</td>\n",
       "      <td>NaN</td>\n",
       "      <td>NaN</td>\n",
       "    </tr>\n",
       "  </tbody>\n",
       "</table>\n",
       "</div>"
      ],
      "text/plain": [
       "      Source             SS    DF          MS         F    p-unc       np2\n",
       "0  reseaux_n     961.069233     4  240.267308  1.866877  0.11399  0.006842\n",
       "1     Within  139510.930767  1084  128.700121       NaN      NaN       NaN"
      ]
     },
     "execution_count": 60,
     "metadata": {},
     "output_type": "execute_result"
    }
   ],
   "source": [
    "#pip install pingouin"
   ]
  },
  {
   "cell_type": "markdown",
   "id": "cedfc55b-a354-48d7-aa0c-35714807270e",
   "metadata": {},
   "source": [
    "Quali/Quali\n",
    "\n",
    "pd.crosstab"
   ]
  },
  {
   "cell_type": "code",
   "execution_count": 39,
   "id": "299e8b8c-67f4-4b21-a20c-260862818034",
   "metadata": {},
   "outputs": [],
   "source": [
    "from scipy.stats import chi2_contingency"
   ]
  },
  {
   "cell_type": "markdown",
   "id": "d3557db0-854b-4711-9812-15707997e824",
   "metadata": {},
   "source": [
    "## Modèles"
   ]
  },
  {
   "cell_type": "markdown",
   "id": "bb9d4b1a",
   "metadata": {},
   "source": [
    "### Régression linéaire"
   ]
  },
  {
   "cell_type": "code",
   "execution_count": 53,
   "id": "c429788a",
   "metadata": {},
   "outputs": [
    {
     "name": "stdout",
     "output_type": "stream",
     "text": [
      "                            OLS Regression Results                            \n",
      "==============================================================================\n",
      "Dep. Variable:         cited_by_count   R-squared:                       0.045\n",
      "Model:                            OLS   Adj. R-squared:                  0.044\n",
      "Method:                 Least Squares   F-statistic:                     31.00\n",
      "Date:                Mon, 09 Jun 2025   Prob (F-statistic):           7.03e-14\n",
      "Time:                        20:32:37   Log-Likelihood:                -8549.1\n",
      "No. Observations:                1312   AIC:                         1.710e+04\n",
      "Df Residuals:                    1309   BIC:                         1.712e+04\n",
      "Df Model:                           2                                         \n",
      "Covariance Type:            nonrobust                                         \n",
      "====================================================================================\n",
      "                       coef    std err          t      P>|t|      [0.025      0.975]\n",
      "------------------------------------------------------------------------------------\n",
      "const             1.501e+04   1991.207      7.536      0.000    1.11e+04    1.89e+04\n",
      "publication_year    -7.4239      0.986     -7.527      0.000      -9.359      -5.489\n",
      "retracted                 0          0        nan        nan           0           0\n",
      "nb_auteurs           2.4277      0.964      2.518      0.012       0.537       4.319\n",
      "==============================================================================\n",
      "Omnibus:                     2485.409   Durbin-Watson:                   1.654\n",
      "Prob(Omnibus):                  0.000   Jarque-Bera (JB):          2892615.718\n",
      "Skew:                          13.947   Prob(JB):                         0.00\n",
      "Kurtosis:                     231.332   Cond. No.                          inf\n",
      "==============================================================================\n",
      "\n",
      "Notes:\n",
      "[1] Standard Errors assume that the covariance matrix of the errors is correctly specified.\n",
      "[2] The smallest eigenvalue is      0. This might indicate that there are\n",
      "strong multicollinearity problems or that the design matrix is singular.\n"
     ]
    },
    {
     "name": "stderr",
     "output_type": "stream",
     "text": [
      "/opt/anaconda3/lib/python3.11/site-packages/statsmodels/regression/linear_model.py:1966: RuntimeWarning: divide by zero encountered in scalar divide\n",
      "  return np.sqrt(eigvals[0]/eigvals[-1])\n"
     ]
    }
   ],
   "source": [
    "import statsmodels.api as sm\n",
    "\n",
    "\n",
    "X = df[['publication_year', 'retracted', 'nb_auteurs']] \n",
    "X = sm.add_constant(X) \n",
    "y = df[\"cited_by_count\"]\n",
    "\n",
    "model = sm.OLS(y, X).fit()\n",
    "\n",
    "\n",
    "print(model.summary())"
   ]
  },
  {
   "cell_type": "markdown",
   "id": "69d3e6f0-4083-4698-9b8d-782ce9b05084",
   "metadata": {},
   "source": [
    "#### Régression logistique"
   ]
  },
  {
   "cell_type": "markdown",
   "id": "f4174f10-9a64-4852-87c7-aa121d234ec2",
   "metadata": {},
   "source": [
    "Quels sont les prédicteurs du fait d'avoir plus de 10 citations ?"
   ]
  },
  {
   "cell_type": "markdown",
   "id": "56c41709-f598-4a02-8be3-3d3e668b9bb4",
   "metadata": {},
   "source": [
    "Création d'une variable 0 (pas du tout ou rarement) et 1 sinon"
   ]
  },
  {
   "cell_type": "code",
   "execution_count": 10,
   "id": "459edc1f-45a7-49c7-970f-5f07b65e0a48",
   "metadata": {},
   "outputs": [],
   "source": [
    "df[\"citations10\"] = df[\"cited_by_count\"] > 10"
   ]
  },
  {
   "cell_type": "markdown",
   "id": "de3c47dd-74f2-4d2e-9ca4-260aa93f991b",
   "metadata": {},
   "source": [
    "Avec Scikit-learn"
   ]
  },
  {
   "cell_type": "code",
   "execution_count": 17,
   "id": "0e9ada74-8ba4-48ab-9a45-eca97a95c7d1",
   "metadata": {},
   "outputs": [],
   "source": [
    "from sklearn.linear_model import LogisticRegression"
   ]
  },
  {
   "cell_type": "code",
   "execution_count": null,
   "id": "6e065592",
   "metadata": {},
   "outputs": [],
   "source": [
    "df[\"open\"]"
   ]
  },
  {
   "cell_type": "code",
   "execution_count": 25,
   "id": "b208d6f4-5444-4c1a-820b-7fd25866763a",
   "metadata": {},
   "outputs": [],
   "source": [
    "X = pd.get_dummies(df[[\"publication_year\", \"openaccess\"]], drop_first=True)\n",
    "y = df[\"citations10\"]"
   ]
  },
  {
   "cell_type": "code",
   "execution_count": 18,
   "id": "2aeb6cc2-b029-4e91-bc6d-fde1c2e8a4ca",
   "metadata": {},
   "outputs": [
    {
     "data": {
      "text/plain": [
       "array([[-0.21808669,  1.29588588]])"
      ]
     },
     "execution_count": 18,
     "metadata": {},
     "output_type": "execute_result"
    }
   ],
   "source": [
    "modele = LogisticRegression()\n",
    "modele.fit(X, y)\n",
    "modele.coef_"
   ]
  },
  {
   "cell_type": "markdown",
   "id": "2aeb8943-8398-490f-be1c-08bf99d1001f",
   "metadata": {},
   "source": [
    "Avec Statsmodels"
   ]
  },
  {
   "cell_type": "code",
   "execution_count": 19,
   "id": "d7259baa-240d-4ed6-af0c-df77ce51feab",
   "metadata": {},
   "outputs": [],
   "source": [
    "import statsmodels.api as sm\n",
    "from patsy import dmatrices"
   ]
  },
  {
   "cell_type": "code",
   "execution_count": 37,
   "id": "b9bd8648-88c7-47c8-a86e-8874a22da731",
   "metadata": {},
   "outputs": [],
   "source": [
    "y,X = dmatrices('citations10 ~ C(openaccess) + publication_year', \n",
    "                data = df, \n",
    "                return_type = 'dataframe')"
   ]
  },
  {
   "cell_type": "code",
   "execution_count": 38,
   "id": "6d742a06-a46c-46b4-bffd-d5db2a9ad62b",
   "metadata": {},
   "outputs": [
    {
     "name": "stdout",
     "output_type": "stream",
     "text": [
      "Optimization terminated successfully.\n",
      "         Current function value: 0.451438\n",
      "         Iterations 7\n"
     ]
    },
    {
     "data": {
      "text/html": [
       "<table class=\"simpletable\">\n",
       "<caption>Logit Regression Results</caption>\n",
       "<tr>\n",
       "  <th>Dep. Variable:</th>   <td>citations10[True]</td> <th>  No. Observations:  </th>  <td>  1312</td>  \n",
       "</tr>\n",
       "<tr>\n",
       "  <th>Model:</th>                 <td>Logit</td>       <th>  Df Residuals:      </th>  <td>  1309</td>  \n",
       "</tr>\n",
       "<tr>\n",
       "  <th>Method:</th>                 <td>MLE</td>        <th>  Df Model:          </th>  <td>     2</td>  \n",
       "</tr>\n",
       "<tr>\n",
       "  <th>Date:</th>            <td>Mon, 09 Jun 2025</td>  <th>  Pseudo R-squ.:     </th>  <td>0.1422</td>  \n",
       "</tr>\n",
       "<tr>\n",
       "  <th>Time:</th>                <td>20:27:30</td>      <th>  Log-Likelihood:    </th> <td> -592.29</td> \n",
       "</tr>\n",
       "<tr>\n",
       "  <th>converged:</th>             <td>True</td>        <th>  LL-Null:           </th> <td> -690.49</td> \n",
       "</tr>\n",
       "<tr>\n",
       "  <th>Covariance Type:</th>     <td>nonrobust</td>     <th>  LLR p-value:       </th> <td>2.238e-43</td>\n",
       "</tr>\n",
       "</table>\n",
       "<table class=\"simpletable\">\n",
       "<tr>\n",
       "            <td></td>               <th>coef</th>     <th>std err</th>      <th>z</th>      <th>P>|z|</th>  <th>[0.025</th>    <th>0.975]</th>  \n",
       "</tr>\n",
       "<tr>\n",
       "  <th>Intercept</th>             <td>  441.6868</td> <td>   36.983</td> <td>   11.943</td> <td> 0.000</td> <td>  369.201</td> <td>  514.173</td>\n",
       "</tr>\n",
       "<tr>\n",
       "  <th>C(openaccess)[T.True]</th> <td>    1.3316</td> <td>    0.166</td> <td>    8.035</td> <td> 0.000</td> <td>    1.007</td> <td>    1.656</td>\n",
       "</tr>\n",
       "<tr>\n",
       "  <th>publication_year</th>      <td>   -0.2199</td> <td>    0.018</td> <td>  -11.981</td> <td> 0.000</td> <td>   -0.256</td> <td>   -0.184</td>\n",
       "</tr>\n",
       "</table>"
      ],
      "text/latex": [
       "\\begin{center}\n",
       "\\begin{tabular}{lclc}\n",
       "\\toprule\n",
       "\\textbf{Dep. Variable:}        & citations10[True] & \\textbf{  No. Observations:  } &     1312    \\\\\n",
       "\\textbf{Model:}                &       Logit       & \\textbf{  Df Residuals:      } &     1309    \\\\\n",
       "\\textbf{Method:}               &        MLE        & \\textbf{  Df Model:          } &        2    \\\\\n",
       "\\textbf{Date:}                 &  Mon, 09 Jun 2025 & \\textbf{  Pseudo R-squ.:     } &   0.1422    \\\\\n",
       "\\textbf{Time:}                 &      20:27:30     & \\textbf{  Log-Likelihood:    } &   -592.29   \\\\\n",
       "\\textbf{converged:}            &        True       & \\textbf{  LL-Null:           } &   -690.49   \\\\\n",
       "\\textbf{Covariance Type:}      &     nonrobust     & \\textbf{  LLR p-value:       } & 2.238e-43   \\\\\n",
       "\\bottomrule\n",
       "\\end{tabular}\n",
       "\\begin{tabular}{lcccccc}\n",
       "                               & \\textbf{coef} & \\textbf{std err} & \\textbf{z} & \\textbf{P$> |$z$|$} & \\textbf{[0.025} & \\textbf{0.975]}  \\\\\n",
       "\\midrule\n",
       "\\textbf{Intercept}             &     441.6868  &       36.983     &    11.943  &         0.000        &      369.201    &      514.173     \\\\\n",
       "\\textbf{C(openaccess)[T.True]} &       1.3316  &        0.166     &     8.035  &         0.000        &        1.007    &        1.656     \\\\\n",
       "\\textbf{publication\\_year}     &      -0.2199  &        0.018     &   -11.981  &         0.000        &       -0.256    &       -0.184     \\\\\n",
       "\\bottomrule\n",
       "\\end{tabular}\n",
       "%\\caption{Logit Regression Results}\n",
       "\\end{center}"
      ],
      "text/plain": [
       "<class 'statsmodels.iolib.summary.Summary'>\n",
       "\"\"\"\n",
       "                           Logit Regression Results                           \n",
       "==============================================================================\n",
       "Dep. Variable:      citations10[True]   No. Observations:                 1312\n",
       "Model:                          Logit   Df Residuals:                     1309\n",
       "Method:                           MLE   Df Model:                            2\n",
       "Date:                Mon, 09 Jun 2025   Pseudo R-squ.:                  0.1422\n",
       "Time:                        20:27:30   Log-Likelihood:                -592.29\n",
       "converged:                       True   LL-Null:                       -690.49\n",
       "Covariance Type:            nonrobust   LLR p-value:                 2.238e-43\n",
       "=========================================================================================\n",
       "                            coef    std err          z      P>|z|      [0.025      0.975]\n",
       "-----------------------------------------------------------------------------------------\n",
       "Intercept               441.6868     36.983     11.943      0.000     369.201     514.173\n",
       "C(openaccess)[T.True]     1.3316      0.166      8.035      0.000       1.007       1.656\n",
       "publication_year         -0.2199      0.018    -11.981      0.000      -0.256      -0.184\n",
       "=========================================================================================\n",
       "\"\"\""
      ]
     },
     "execution_count": 38,
     "metadata": {},
     "output_type": "execute_result"
    }
   ],
   "source": [
    "modele = sm.Logit(y[\"citations10[True]\"],X)\n",
    "resultat = modele.fit()\n",
    "resultat.summary()"
   ]
  },
  {
   "cell_type": "markdown",
   "id": "6b5fcecf-5d73-422b-bd25-469432cec9b1",
   "metadata": {},
   "source": [
    "Avec la version toute intégrée"
   ]
  },
  {
   "cell_type": "code",
   "execution_count": 42,
   "id": "1727c134-3b76-4072-b1cd-0f0aba0a21e0",
   "metadata": {},
   "outputs": [],
   "source": [
    "#!pip install -U pyshs"
   ]
  },
  {
   "cell_type": "code",
   "execution_count": 40,
   "id": "ae8ac195-feb9-430e-acf9-2bb60a62199c",
   "metadata": {},
   "outputs": [],
   "source": [
    "import pyshs"
   ]
  },
  {
   "cell_type": "code",
   "execution_count": 43,
   "id": "0d486c06-f1a4-4c8b-ab9e-bba53356d2d2",
   "metadata": {},
   "outputs": [
    {
     "data": {
      "text/html": [
       "<div>\n",
       "<style scoped>\n",
       "    .dataframe tbody tr th:only-of-type {\n",
       "        vertical-align: middle;\n",
       "    }\n",
       "\n",
       "    .dataframe tbody tr th {\n",
       "        vertical-align: top;\n",
       "    }\n",
       "\n",
       "    .dataframe thead th {\n",
       "        text-align: right;\n",
       "    }\n",
       "</style>\n",
       "<table border=\"1\" class=\"dataframe\">\n",
       "  <thead>\n",
       "    <tr style=\"text-align: right;\">\n",
       "      <th></th>\n",
       "      <th></th>\n",
       "      <th>OR</th>\n",
       "      <th>p</th>\n",
       "      <th>IC 95%</th>\n",
       "    </tr>\n",
       "    <tr>\n",
       "      <th>Variable</th>\n",
       "      <th>Modalité</th>\n",
       "      <th></th>\n",
       "      <th></th>\n",
       "      <th></th>\n",
       "    </tr>\n",
       "  </thead>\n",
       "  <tbody>\n",
       "    <tr>\n",
       "      <th>.Intercept</th>\n",
       "      <th></th>\n",
       "      <td>0.0</td>\n",
       "      <td>0.0***</td>\n",
       "      <td>0.00 [0.00-0.00]</td>\n",
       "    </tr>\n",
       "    <tr>\n",
       "      <th rowspan=\"2\" valign=\"top\">openaccess</th>\n",
       "      <th>False</th>\n",
       "      <td>ref</td>\n",
       "      <td></td>\n",
       "      <td></td>\n",
       "    </tr>\n",
       "    <tr>\n",
       "      <th>True</th>\n",
       "      <td>0.26</td>\n",
       "      <td>0.0***</td>\n",
       "      <td>0.26 [0.19-0.37]</td>\n",
       "    </tr>\n",
       "    <tr>\n",
       "      <th>publication_year</th>\n",
       "      <th>numérique</th>\n",
       "      <td>1.25</td>\n",
       "      <td>0.0***</td>\n",
       "      <td>1.25 [1.20-1.29]</td>\n",
       "    </tr>\n",
       "  </tbody>\n",
       "</table>\n",
       "</div>"
      ],
      "text/plain": [
       "                              OR       p            IC 95%\n",
       "Variable         Modalité                                 \n",
       ".Intercept                   0.0  0.0***  0.00 [0.00-0.00]\n",
       "openaccess       False       ref                          \n",
       "                 True       0.26  0.0***  0.26 [0.19-0.37]\n",
       "publication_year numérique  1.25  0.0***  1.25 [1.20-1.29]"
      ]
     },
     "execution_count": 43,
     "metadata": {},
     "output_type": "execute_result"
    }
   ],
   "source": [
    "pyshs.regression_logistique(df, \"citations10\", [\"openaccess\", \"publication_year\"],)"
   ]
  }
 ],
 "metadata": {
  "kernelspec": {
   "display_name": "base",
   "language": "python",
   "name": "python3"
  },
  "language_info": {
   "codemirror_mode": {
    "name": "ipython",
    "version": 3
   },
   "file_extension": ".py",
   "mimetype": "text/x-python",
   "name": "python",
   "nbconvert_exporter": "python",
   "pygments_lexer": "ipython3",
   "version": "3.11.7"
  }
 },
 "nbformat": 4,
 "nbformat_minor": 5
}
