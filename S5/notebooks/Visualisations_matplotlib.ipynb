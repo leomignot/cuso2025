{
 "cells": [
  {
   "cell_type": "markdown",
   "id": "21245c97-5854-4039-a796-32b7b01a090c",
   "metadata": {},
   "source": [
    "# Visualiser avec Matplotlib\n",
    "\n",
    "Données OpenAlex\n",
    "\n",
    "Nettoyage pour ne garder que celles qui mentionnent vraiment les sciences sociales computationnelles"
   ]
  },
  {
   "cell_type": "code",
   "execution_count": null,
   "id": "b2f35c3d",
   "metadata": {},
   "outputs": [],
   "source": [
    "import pandas as pd\n",
    "df = pd.read_csv(\"../../data/CSS_exact_openalex.csv\", low_memory=False)"
   ]
  },
  {
   "cell_type": "code",
   "execution_count": null,
   "id": "d7aa73a5",
   "metadata": {},
   "outputs": [],
   "source": [
    "df[\"date\"] = pd.to_datetime(df[\"publication_date\"])"
   ]
  },
  {
   "cell_type": "markdown",
   "id": "8ae7d34b",
   "metadata": {},
   "source": [
    "\n",
    "Sur un graphique :\n",
    "\n",
    "    - Courbe d'évolution des publications\n",
    "    - Courbe d'évolution des citations avec `cited_by_count`\n",
    "\n",
    "Et sur un autre : \n",
    "\n",
    "    - Histogramme des citations"
   ]
  },
  {
   "cell_type": "markdown",
   "id": "14454aa9",
   "metadata": {},
   "source": [
    "## Faire un histogramme avec Pandas\n",
    "\n",
    "Et essayer de le rendre le plus beau possible"
   ]
  },
  {
   "cell_type": "markdown",
   "id": "6b388fdf-f241-453c-8b66-a1fc7dbf3463",
   "metadata": {},
   "source": [
    "## Faire un histogramme avec Matplotlib\n",
    "\n",
    "- Définir la taille\n",
    "- Ajouter titre / légende / labels\n",
    "- gérer les marges\n",
    "- gérer les couleurs\n",
    "- sauvegarder la figure"
   ]
  },
  {
   "cell_type": "code",
   "execution_count": null,
   "id": "307d5fcc",
   "metadata": {},
   "outputs": [],
   "source": [
    "import matplotlib.pyplot as plt"
   ]
  },
  {
   "cell_type": "code",
   "execution_count": null,
   "id": "ec7748c5",
   "metadata": {},
   "outputs": [],
   "source": [
    "fig, ax = plt.subplots(figsize=(10, 6))\n",
    "ax.hist(df[\"cited_by_count\"], bins=30, log=True);"
   ]
  },
  {
   "cell_type": "markdown",
   "id": "e6614d1b",
   "metadata": {},
   "source": [
    "Ajouter une légende/annotation\n",
    "\n",
    "- `ax.text`\n",
    "- `ax.annotate`"
   ]
  },
  {
   "cell_type": "markdown",
   "id": "daf01aef-23b2-4546-9ec0-bdc58b4a5210",
   "metadata": {},
   "source": [
    "## Deux figures côte à côte\n",
    "\n",
    "Mettre les deux figures dans un même graphique"
   ]
  },
  {
   "cell_type": "markdown",
   "id": "896af122",
   "metadata": {},
   "source": [
    "Aller plus avant : https://matplotlib.org/stable/users/explain/axes/arranging_axes.\n",
    "\n",
    "```python\n",
    "fig, (ax1, ax2) = plt.subplots(1, 2, figsize=(10, 4), gridspec_kw={'width_ratios': [2, 1]})\n",
    "```"
   ]
  },
  {
   "cell_type": "markdown",
   "id": "2495bd4e",
   "metadata": {},
   "source": [
    "## Searbon & Matplotlib"
   ]
  },
  {
   "cell_type": "code",
   "execution_count": null,
   "id": "b8a27f2c",
   "metadata": {},
   "outputs": [],
   "source": [
    "import seaborn as sns\n",
    "import matplotlib.pyplot as plt\n",
    "\n",
    "table = df[df[\"publication_year\"]>=2000][\"publication_year\"].value_counts().reset_index()\n",
    "\n",
    "sns.set(style=\"whitegrid\")\n",
    "\n",
    "plt.figure(figsize=(10, 6))\n",
    "sns.regplot(x='publication_year', y='count', data=table, scatter_kws={'alpha':0.5}, line_kws={'color': 'red'})\n",
    "\n",
    "\n",
    "plt.title(\"Évolution temporelle avec droite de régression\")\n",
    "plt.xlabel(\"Date\")\n",
    "plt.ylabel(\"Valeur\")\n",
    "plt.tight_layout()\n",
    "plt.show()"
   ]
  },
  {
   "cell_type": "code",
   "execution_count": null,
   "id": "bba42d6a",
   "metadata": {},
   "outputs": [],
   "source": []
  }
 ],
 "metadata": {
  "kernelspec": {
   "display_name": "Python 3 (ipykernel)",
   "language": "python",
   "name": "python3"
  },
  "language_info": {
   "codemirror_mode": {
    "name": "ipython",
    "version": 3
   },
   "file_extension": ".py",
   "mimetype": "text/x-python",
   "name": "python",
   "nbconvert_exporter": "python",
   "pygments_lexer": "ipython3",
   "version": "3.11.7"
  }
 },
 "nbformat": 4,
 "nbformat_minor": 5
}
