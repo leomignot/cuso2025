{
 "cells": [
  {
   "cell_type": "markdown",
   "id": "8a8cee15",
   "metadata": {},
   "source": [
    "# Exercices séance 5"
   ]
  },
  {
   "cell_type": "markdown",
   "id": "2870ec26",
   "metadata": {},
   "source": [
    "## Exercice 1"
   ]
  },
  {
   "cell_type": "markdown",
   "id": "23a1f924",
   "metadata": {},
   "source": [
    "- 1.1 Calculer le nombre de mots par abstract\n",
    "- 1.2 En réaliser l'histogramme\n",
    "- 1.3 Ajouter une barre verticale sur le nombre moyen de mots (piste : plt.axvline)"
   ]
  },
  {
   "cell_type": "markdown",
   "id": "8830f64a",
   "metadata": {},
   "source": [
    "## Exercice 2\n",
    "Reproduire la figure dans plotly (pistes : px.histogram / .add_vline)"
   ]
  }
 ],
 "metadata": {
  "language_info": {
   "name": "python"
  }
 },
 "nbformat": 4,
 "nbformat_minor": 5
}
