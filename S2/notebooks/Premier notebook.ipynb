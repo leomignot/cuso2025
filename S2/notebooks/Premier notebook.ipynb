{
 "cells": [
  {
   "cell_type": "markdown",
   "id": "8acd5b54-3676-458e-b5d5-549b28c07350",
   "metadata": {},
   "source": [
    "# Mon premier notebook\n",
    "\n",
    "C'est le notebook d'**Émilien**"
   ]
  },
  {
   "cell_type": "markdown",
   "id": "f0f10d0a-5565-4926-86a1-fbb3dfa9a2a2",
   "metadata": {},
   "source": [
    "## Bien utiliser les notebooks\n",
    "\n",
    "Les raccourcis sont utiles\n",
    "\n",
    "- enter : entrer dans une cellule\n",
    "- escape : repasser au niveau du notebook\n",
    "- b : créer une cellule\n",
    "- dd : supprimer une cellule\n",
    "- shift + enter : exécuter une cellule\n",
    "- m : mettre en markdown\n",
    "- tabulation : autocomplétion"
   ]
  },
  {
   "cell_type": "markdown",
   "id": "51c63d59-e21f-4689-9d10-acd24feb681a",
   "metadata": {},
   "source": [
    "## Mon premier script"
   ]
  },
  {
   "cell_type": "code",
   "execution_count": 14,
   "id": "ce45cb5a-f973-40d3-a87f-5bb5fd6dd8d1",
   "metadata": {},
   "outputs": [
    {
     "name": "stdin",
     "output_type": "stream",
     "text": [
      "Écrivez une phrase:  Ceci.est.une.phrase\n"
     ]
    },
    {
     "name": "stdout",
     "output_type": "stream",
     "text": [
      "Proportion de mots avec 4 lettres ou plus : 100.0\n"
     ]
    }
   ],
   "source": [
    "sortie_fichier = False # créer une variable sortie fichier\n",
    "nombre_min_lettres = 4 # créer une variable minimum de lettre\n",
    "phrase = input(\"Écrivez une phrase: \") # on récupère une phrase de l'utilisateur\n",
    "liste_mots = phrase.split(\" \") # on coupe la phrase aux espaces avec la méthodes split\n",
    "nombre_mots = len(liste_mots) # renvoyer le nombre d'éléments de la liste\n",
    "if len(phrase) == 0: # cas où la phrase est vide\n",
    "    print(\"Vous n'avez rien écrit\")\n",
    "else: # cas où la phrase est non vide\n",
    "    compteur = 0 # variable initialisée à 0\n",
    "    for i in liste_mots: # boucle sur les éléments des mots\n",
    "        if len(i) >= nombre_min_lettres: # vérifier si la longueur est plus grande que le seuil\n",
    "            compteur+=1 # augmenter le compteur de 1\n",
    "    proportion = round(100*compteur/nombre_mots,2)\n",
    "    informations = {\"Total\":compteur,\"Proportion\":proportion, \n",
    "                   \"Phrase\":phrase,\"Seuil\":nombre_min_lettres} # mise en forme des informations\n",
    "    sortie = f\"Proportion de mots avec {nombre_min_lettres} lettres ou plus : {proportion}\" # sortie utilisateur\n",
    "    print(sortie)\n",
    "    if sortie_fichier: # condition de sortie fichier\n",
    "        with open(\"resultat.txt\",\"w\") as f: # ouvrir un bloc de contexte pour l'écirutre\n",
    "            f.write(str(informations)) #écrire le contenu"
   ]
  },
  {
   "cell_type": "markdown",
   "id": "35a2c0da-91cb-46fe-a769-60ce6ef36d20",
   "metadata": {},
   "source": [
    "## Première ligne\n",
    "\n",
    "Créer une variable (objet) avec une valeur\n",
    "\n",
    "- création avec un nom\n",
    "- attribution de valeur"
   ]
  },
  {
   "cell_type": "code",
   "execution_count": null,
   "id": "c1283c74-789d-47f0-8b3b-d7d228604190",
   "metadata": {},
   "outputs": [],
   "source": [
    "sortie_fichier = True"
   ]
  },
  {
   "cell_type": "code",
   "execution_count": 3,
   "id": "6fb4fd95-4aee-410f-a91f-87f1a6fb1870",
   "metadata": {},
   "outputs": [
    {
     "data": {
      "text/plain": [
       "True"
      ]
     },
     "execution_count": 3,
     "metadata": {},
     "output_type": "execute_result"
    }
   ],
   "source": [
    "sortie_fichier"
   ]
  },
  {
   "cell_type": "code",
   "execution_count": 4,
   "id": "fafcc2b4-8346-463f-b09f-9a715cd4fe4f",
   "metadata": {},
   "outputs": [],
   "source": [
    "sor_fich = True"
   ]
  },
  {
   "cell_type": "code",
   "execution_count": 7,
   "id": "bd6eec08-d0bb-4f34-a6ae-659c8202dcf0",
   "metadata": {},
   "outputs": [
    {
     "ename": "NameError",
     "evalue": "name 'sor_fi' is not defined",
     "output_type": "error",
     "traceback": [
      "\u001b[0;31m---------------------------------------------------------------------------\u001b[0m",
      "\u001b[0;31mNameError\u001b[0m                                 Traceback (most recent call last)",
      "Cell \u001b[0;32mIn[7], line 1\u001b[0m\n\u001b[0;32m----> 1\u001b[0m sor_fi\n",
      "\u001b[0;31mNameError\u001b[0m: name 'sor_fi' is not defined"
     ]
    }
   ],
   "source": [
    "sor_fi"
   ]
  },
  {
   "cell_type": "code",
   "execution_count": 11,
   "id": "a6683576-c7dc-4728-9ad7-f5d492d4e7ef",
   "metadata": {},
   "outputs": [],
   "source": [
    "SoRtIeFiChIeR = True"
   ]
  },
  {
   "cell_type": "markdown",
   "id": "62427ed7-5fec-448d-abb4-0be9f0069a33",
   "metadata": {},
   "source": [
    "Nom de variables :\n",
    "- toujorus essayer d'avoir des variables/objects explicites dans leurs noms\n",
    "- séparé par des _\n",
    "- avec une majuscules au début des mots"
   ]
  },
  {
   "cell_type": "markdown",
   "id": "81b01147-c7a0-4521-a011-ff2431dbc354",
   "metadata": {},
   "source": [
    "## Deuxième ligne\n",
    "\n",
    "On créee un nouvel object, avec un autre nom, et aussi un autre type"
   ]
  },
  {
   "cell_type": "code",
   "execution_count": 12,
   "id": "3f75af37-3269-46a1-8789-a048c7d7811b",
   "metadata": {},
   "outputs": [],
   "source": [
    "nombre_min_lettres = 4"
   ]
  },
  {
   "cell_type": "code",
   "execution_count": 16,
   "id": "a27f463e-45b0-4b77-b163-d766e2181ae9",
   "metadata": {},
   "outputs": [
    {
     "data": {
      "text/plain": [
       "14"
      ]
     },
     "execution_count": 16,
     "metadata": {},
     "output_type": "execute_result"
    }
   ],
   "source": [
    "nombre_min_lettres + 10"
   ]
  },
  {
   "cell_type": "markdown",
   "id": "88c17bec-da80-42db-b267-0dac1de12f99",
   "metadata": {},
   "source": [
    "## Parenthèse : entrée en scène des fonctions\n",
    "\n",
    "- des entités qui ont des valeurs/contenus\n",
    "- des opérations : fonctions (ou méthodes en Python)"
   ]
  },
  {
   "cell_type": "markdown",
   "id": "948aa5ed-f8f8-4a2c-ac19-53929b668354",
   "metadata": {},
   "source": [
    "Première fonction : la fonction type qui prend un argument comme objet et renvoie la nature de cet objet"
   ]
  },
  {
   "cell_type": "code",
   "execution_count": 18,
   "id": "4162e8aa-921a-42ab-8b91-97950922ade9",
   "metadata": {},
   "outputs": [
    {
     "data": {
      "text/plain": [
       "int"
      ]
     },
     "execution_count": 18,
     "metadata": {},
     "output_type": "execute_result"
    }
   ],
   "source": [
    "type(nombre_min_lettres)"
   ]
  },
  {
   "cell_type": "code",
   "execution_count": 19,
   "id": "45e82d2d-c443-4eb6-9ed3-142dbeca71c6",
   "metadata": {},
   "outputs": [
    {
     "data": {
      "text/plain": [
       "bool"
      ]
     },
     "execution_count": 19,
     "metadata": {},
     "output_type": "execute_result"
    }
   ],
   "source": [
    "type(sortie_fichier)"
   ]
  },
  {
   "cell_type": "code",
   "execution_count": 20,
   "id": "0db2124f-0b11-48bf-a768-3336147c6db1",
   "metadata": {},
   "outputs": [
    {
     "data": {
      "text/plain": [
       "float"
      ]
     },
     "execution_count": 20,
     "metadata": {},
     "output_type": "execute_result"
    }
   ],
   "source": [
    "type(14.2)"
   ]
  },
  {
   "cell_type": "markdown",
   "id": "6159efb5-010b-496c-a311-e8429fb5c62d",
   "metadata": {},
   "source": [
    "## Python essaye de vous aider quand il peut"
   ]
  },
  {
   "cell_type": "code",
   "execution_count": 21,
   "id": "b7929d5b-336c-41d8-b441-624dfa11fe4b",
   "metadata": {},
   "outputs": [
    {
     "data": {
      "text/plain": [
       "11"
      ]
     },
     "execution_count": 21,
     "metadata": {},
     "output_type": "execute_result"
    }
   ],
   "source": [
    "True + 10"
   ]
  },
  {
   "cell_type": "code",
   "execution_count": 22,
   "id": "41226d3f-5415-44d2-8fdb-8ca32030fc5b",
   "metadata": {},
   "outputs": [
    {
     "data": {
      "text/plain": [
       "10.0"
      ]
     },
     "execution_count": 22,
     "metadata": {},
     "output_type": "execute_result"
    }
   ],
   "source": [
    "10/True"
   ]
  },
  {
   "cell_type": "markdown",
   "id": "8ec96b39-ffdb-4ea9-b67b-d6f9c24fe0fc",
   "metadata": {},
   "source": [
    "Python essaye de transtyper : de changer le type pour vous faciliter la vie"
   ]
  },
  {
   "cell_type": "markdown",
   "id": "3d05fae2-651d-47df-bba7-b7a1a8987e49",
   "metadata": {},
   "source": [
    "## Les opérateurs\n",
    "\n",
    "Python vous donne dès le début des opérateurs (mathématiques, logiques, etc.)"
   ]
  },
  {
   "cell_type": "markdown",
   "id": "9746c76c-bb17-4703-bac5-340142b9164b",
   "metadata": {},
   "source": [
    "\\+ c'est la même chose que la fonction __add__(val1, val2)"
   ]
  },
  {
   "cell_type": "markdown",
   "id": "503344f1-351b-4d47-b071-acdb88b7f2d3",
   "metadata": {},
   "source": [
    "## Les commentaires\n",
    "\n",
    "On utilise un \\#"
   ]
  },
  {
   "cell_type": "markdown",
   "id": "ddb0aec6-b3d6-4890-b224-d251af061039",
   "metadata": {},
   "source": [
    "### Règle de synthaxe"
   ]
  },
  {
   "cell_type": "code",
   "execution_count": 28,
   "id": "4e847702-4078-4350-aa8b-4f949fd63dc2",
   "metadata": {},
   "outputs": [
    {
     "data": {
      "text/plain": [
       "11"
      ]
     },
     "execution_count": 28,
     "metadata": {},
     "output_type": "execute_result"
    }
   ],
   "source": [
    "1+10"
   ]
  },
  {
   "cell_type": "markdown",
   "id": "1b0a904b-ce5a-483a-8e95-d868751408f7",
   "metadata": {},
   "source": [
    "## Le namespace\n",
    "\n",
    "ensemble des noms définis"
   ]
  },
  {
   "cell_type": "code",
   "execution_count": 32,
   "id": "bbbfea2b-a63a-4933-bf11-f59e54e2be78",
   "metadata": {},
   "outputs": [],
   "source": [
    "dir()"
   ]
  },
  {
   "cell_type": "markdown",
   "id": "03ac3c6c-2dbb-4924-9694-adc4cc0c15bc",
   "metadata": {},
   "source": [
    "Les magics jupyter"
   ]
  },
  {
   "cell_type": "code",
   "execution_count": 33,
   "id": "6048e86c-f731-4375-8c68-e02a85d04f90",
   "metadata": {},
   "outputs": [
    {
     "name": "stdout",
     "output_type": "stream",
     "text": [
      "NamespaceMagics\t SoRtIeFiChIeR\t compteur\t f\t get_ipython\t i\t informations\t json\t liste_mots\t \n",
      "nombre_min_lettres\t nombre_mots\t phrase\t proportion\t sor_fich\t sortie\t sortie_fichier\t sys\t \n"
     ]
    }
   ],
   "source": [
    "%who"
   ]
  },
  {
   "cell_type": "markdown",
   "id": "30d98d8b-95d7-486e-8210-695b5327efdd",
   "metadata": {},
   "source": [
    "## Troisième ligne"
   ]
  },
  {
   "cell_type": "code",
   "execution_count": null,
   "id": "6a9a155a-3c2a-4667-9f3b-9b74ed856f03",
   "metadata": {},
   "outputs": [],
   "source": [
    "phrase = input(\"Écrivez une phrase: \")"
   ]
  },
  {
   "cell_type": "code",
   "execution_count": 34,
   "id": "e76d0f5d-d09b-405e-b12e-4c49b93bf5ed",
   "metadata": {},
   "outputs": [
    {
     "name": "stdin",
     "output_type": "stream",
     "text": [
      "Écrivez une phrase:  ceci est ma phrase\n"
     ]
    },
    {
     "data": {
      "text/plain": [
       "'ceci est ma phrase'"
      ]
     },
     "execution_count": 34,
     "metadata": {},
     "output_type": "execute_result"
    }
   ],
   "source": [
    "input(\"Écrivez une phrase: \")"
   ]
  },
  {
   "cell_type": "code",
   "execution_count": 35,
   "id": "f128f868-1b19-4444-bf5f-a80ac36e4377",
   "metadata": {},
   "outputs": [
    {
     "data": {
      "text/plain": [
       "<bound method Kernel.raw_input of <ipykernel.ipkernel.IPythonKernel object at 0x1097bb4d0>>"
      ]
     },
     "execution_count": 35,
     "metadata": {},
     "output_type": "execute_result"
    }
   ],
   "source": [
    "input"
   ]
  },
  {
   "cell_type": "code",
   "execution_count": 36,
   "id": "47f1e715-11d4-42f9-ba63-fd0fff60f57a",
   "metadata": {},
   "outputs": [
    {
     "name": "stdin",
     "output_type": "stream",
     "text": [
      " ceci est ma phrase\n"
     ]
    },
    {
     "data": {
      "text/plain": [
       "'ceci est ma phrase'"
      ]
     },
     "execution_count": 36,
     "metadata": {},
     "output_type": "execute_result"
    }
   ],
   "source": [
    "input()"
   ]
  },
  {
   "cell_type": "code",
   "execution_count": 37,
   "id": "bca912c8-d037-485a-80bb-dc84effbb3b2",
   "metadata": {},
   "outputs": [
    {
     "name": "stdin",
     "output_type": "stream",
     "text": [
      "Phrase \n"
     ]
    },
    {
     "data": {
      "text/plain": [
       "''"
      ]
     },
     "execution_count": 37,
     "metadata": {},
     "output_type": "execute_result"
    }
   ],
   "source": [
    "input(\"Phrase\")"
   ]
  },
  {
   "cell_type": "code",
   "execution_count": 38,
   "id": "6000bb57-bc68-4642-a44e-36d9cbcdfa0e",
   "metadata": {},
   "outputs": [
    {
     "data": {
      "text/plain": [
       "'Vous avez tout qui marche'"
      ]
     },
     "execution_count": 38,
     "metadata": {},
     "output_type": "execute_result"
    }
   ],
   "source": [
    "phrase"
   ]
  },
  {
   "cell_type": "code",
   "execution_count": 39,
   "id": "9cc726ed-659e-4fac-b9cf-4618fc9f92c7",
   "metadata": {},
   "outputs": [
    {
     "data": {
      "text/plain": [
       "str"
      ]
     },
     "execution_count": 39,
     "metadata": {},
     "output_type": "execute_result"
    }
   ],
   "source": [
    "type(phrase)"
   ]
  },
  {
   "cell_type": "code",
   "execution_count": 40,
   "id": "06eeea68-2cbf-4a39-960c-f12347792e39",
   "metadata": {},
   "outputs": [
    {
     "ename": "TypeError",
     "evalue": "can only concatenate str (not \"int\") to str",
     "output_type": "error",
     "traceback": [
      "\u001b[0;31m---------------------------------------------------------------------------\u001b[0m",
      "\u001b[0;31mTypeError\u001b[0m                                 Traceback (most recent call last)",
      "Cell \u001b[0;32mIn[40], line 1\u001b[0m\n\u001b[0;32m----> 1\u001b[0m phrase \u001b[38;5;241m+\u001b[39m \u001b[38;5;241m20\u001b[39m\n",
      "\u001b[0;31mTypeError\u001b[0m: can only concatenate str (not \"int\") to str"
     ]
    }
   ],
   "source": [
    "phrase + 20"
   ]
  },
  {
   "cell_type": "code",
   "execution_count": 41,
   "id": "c5116980-785e-4b72-82dc-830ae0f2a1af",
   "metadata": {},
   "outputs": [
    {
     "data": {
      "text/plain": [
       "'Vous avez tout qui marcheVous avez tout qui marcheVous avez tout qui marcheVous avez tout qui marcheVous avez tout qui marcheVous avez tout qui marcheVous avez tout qui marcheVous avez tout qui marcheVous avez tout qui marcheVous avez tout qui marcheVous avez tout qui marcheVous avez tout qui marcheVous avez tout qui marcheVous avez tout qui marcheVous avez tout qui marcheVous avez tout qui marcheVous avez tout qui marcheVous avez tout qui marcheVous avez tout qui marcheVous avez tout qui marche'"
      ]
     },
     "execution_count": 41,
     "metadata": {},
     "output_type": "execute_result"
    }
   ],
   "source": [
    "phrase * 20"
   ]
  },
  {
   "cell_type": "code",
   "execution_count": 42,
   "id": "dffd34ec-8b06-40f2-92cc-6effbc2a42af",
   "metadata": {},
   "outputs": [
    {
     "data": {
      "text/plain": [
       "'Ceci est une phrase'"
      ]
     },
     "execution_count": 42,
     "metadata": {},
     "output_type": "execute_result"
    }
   ],
   "source": [
    "\"Ceci est\" + \" une phrase\""
   ]
  },
  {
   "cell_type": "markdown",
   "id": "02397b5a-765e-4457-ad38-2723251cc4a9",
   "metadata": {},
   "source": [
    "## Demander de l'aide"
   ]
  },
  {
   "cell_type": "code",
   "execution_count": 43,
   "id": "39f3fc13-dc32-464f-bb08-24edb3492c42",
   "metadata": {},
   "outputs": [
    {
     "name": "stdout",
     "output_type": "stream",
     "text": [
      "Help on method raw_input in module ipykernel.kernelbase:\n",
      "\n",
      "raw_input(prompt='') method of ipykernel.ipkernel.IPythonKernel instance\n",
      "    Forward raw_input to frontends\n",
      "    \n",
      "    Raises\n",
      "    ------\n",
      "    StdinNotImplementedError if active frontend doesn't support stdin.\n",
      "\n"
     ]
    }
   ],
   "source": [
    "help(input)"
   ]
  },
  {
   "cell_type": "code",
   "execution_count": 44,
   "id": "2b8e2959-3236-436d-b961-00353157aaae",
   "metadata": {},
   "outputs": [
    {
     "data": {
      "text/plain": [
       "\u001b[0;31mSignature:\u001b[0m \u001b[0minput\u001b[0m\u001b[0;34m(\u001b[0m\u001b[0mprompt\u001b[0m\u001b[0;34m=\u001b[0m\u001b[0;34m''\u001b[0m\u001b[0;34m)\u001b[0m\u001b[0;34m\u001b[0m\u001b[0;34m\u001b[0m\u001b[0m\n",
       "\u001b[0;31mDocstring:\u001b[0m\n",
       "Forward raw_input to frontends\n",
       "\n",
       "Raises\n",
       "------\n",
       "StdinNotImplementedError if active frontend doesn't support stdin.\n",
       "\u001b[0;31mFile:\u001b[0m      /opt/anaconda3/lib/python3.11/site-packages/ipykernel/kernelbase.py\n",
       "\u001b[0;31mType:\u001b[0m      method"
      ]
     },
     "metadata": {},
     "output_type": "display_data"
    }
   ],
   "source": [
    "?input"
   ]
  },
  {
   "cell_type": "markdown",
   "id": "486e2e69-9418-4df2-bc65-d2f83b387437",
   "metadata": {},
   "source": [
    "Ou utiliser shift + enter"
   ]
  },
  {
   "cell_type": "markdown",
   "id": "e64ecb28-2156-421e-852a-d906eb6caf16",
   "metadata": {},
   "source": [
    "### Parenthèse : les chaines de caractères"
   ]
  },
  {
   "cell_type": "code",
   "execution_count": 45,
   "id": "88c9c018-303a-453e-88c2-c1d83208586a",
   "metadata": {},
   "outputs": [
    {
     "data": {
      "text/plain": [
       "'Ceci est une phrase'"
      ]
     },
     "execution_count": 45,
     "metadata": {},
     "output_type": "execute_result"
    }
   ],
   "source": [
    "\"Ceci est une phrase\""
   ]
  },
  {
   "cell_type": "code",
   "execution_count": 50,
   "id": "31740e29-b227-4b15-8b23-03517fcf2727",
   "metadata": {},
   "outputs": [
    {
     "data": {
      "text/plain": [
       "\"Ceci est une phrase qui n'est pas finie\""
      ]
     },
     "execution_count": 50,
     "metadata": {},
     "output_type": "execute_result"
    }
   ],
   "source": [
    "'Ceci est une phrase qui n\\'est pas finie'"
   ]
  },
  {
   "cell_type": "code",
   "execution_count": 48,
   "id": "710fecc2-e584-4f6a-8b83-3ace7045c1a0",
   "metadata": {},
   "outputs": [
    {
     "data": {
      "text/plain": [
       "'Ceci est une phrase'"
      ]
     },
     "execution_count": 48,
     "metadata": {},
     "output_type": "execute_result"
    }
   ],
   "source": [
    "\"\"\"Ceci est une phrase\"\"\""
   ]
  },
  {
   "cell_type": "markdown",
   "id": "7dfdc98e-9141-4ce7-93d8-183d6da8cf00",
   "metadata": {},
   "source": [
    "## Tout est un objet"
   ]
  },
  {
   "cell_type": "code",
   "execution_count": 51,
   "id": "fca0b4c2-b80e-4d4a-b622-7c47273d449a",
   "metadata": {},
   "outputs": [],
   "source": [
    "phrase = \"Ceci est une phrase\""
   ]
  },
  {
   "cell_type": "code",
   "execution_count": 52,
   "id": "348b4c83-77dd-446e-8572-9a8684fb536a",
   "metadata": {},
   "outputs": [
    {
     "data": {
      "text/plain": [
       "'Ceci est une phrase'"
      ]
     },
     "execution_count": 52,
     "metadata": {},
     "output_type": "execute_result"
    }
   ],
   "source": [
    "phrase"
   ]
  },
  {
   "cell_type": "markdown",
   "id": "6a7d2feb-c6c3-46a3-989d-5e119f94ca34",
   "metadata": {},
   "source": [
    "Une chaine de caractères par défaut contient une méthode pour se mettre en majuscule"
   ]
  },
  {
   "cell_type": "code",
   "execution_count": 53,
   "id": "a7c3c38b-ca80-45cd-9fed-30bab5467008",
   "metadata": {},
   "outputs": [
    {
     "data": {
      "text/plain": [
       "'CECI EST UNE PHRASE'"
      ]
     },
     "execution_count": 53,
     "metadata": {},
     "output_type": "execute_result"
    }
   ],
   "source": [
    "phrase.upper()"
   ]
  },
  {
   "cell_type": "markdown",
   "id": "832ccce7-9356-480d-a46a-68b01b19d8a3",
   "metadata": {},
   "source": [
    "## Ligne 4"
   ]
  },
  {
   "cell_type": "code",
   "execution_count": 58,
   "id": "c14e0c33-3f7c-4c97-8b6a-00cbf79dfb42",
   "metadata": {},
   "outputs": [],
   "source": [
    "liste_mots = phrase.split(\" \")"
   ]
  },
  {
   "cell_type": "code",
   "execution_count": 54,
   "id": "b52c6e1d-6f10-41bf-8c55-c47aa04069e3",
   "metadata": {},
   "outputs": [
    {
     "data": {
      "text/plain": [
       "'Ceci est une phrase'"
      ]
     },
     "execution_count": 54,
     "metadata": {},
     "output_type": "execute_result"
    }
   ],
   "source": [
    "phrase"
   ]
  },
  {
   "cell_type": "code",
   "execution_count": 56,
   "id": "c2f6baf5-520b-445d-9d91-63bf9219b1f1",
   "metadata": {},
   "outputs": [
    {
     "data": {
      "text/plain": [
       "\u001b[0;31mSignature:\u001b[0m \u001b[0mphrase\u001b[0m\u001b[0;34m.\u001b[0m\u001b[0msplit\u001b[0m\u001b[0;34m(\u001b[0m\u001b[0msep\u001b[0m\u001b[0;34m=\u001b[0m\u001b[0;32mNone\u001b[0m\u001b[0;34m,\u001b[0m \u001b[0mmaxsplit\u001b[0m\u001b[0;34m=\u001b[0m\u001b[0;34m-\u001b[0m\u001b[0;36m1\u001b[0m\u001b[0;34m)\u001b[0m\u001b[0;34m\u001b[0m\u001b[0;34m\u001b[0m\u001b[0m\n",
       "\u001b[0;31mDocstring:\u001b[0m\n",
       "Return a list of the substrings in the string, using sep as the separator string.\n",
       "\n",
       "  sep\n",
       "    The separator used to split the string.\n",
       "\n",
       "    When set to None (the default value), will split on any whitespace\n",
       "    character (including \\n \\r \\t \\f and spaces) and will discard\n",
       "    empty strings from the result.\n",
       "  maxsplit\n",
       "    Maximum number of splits (starting from the left).\n",
       "    -1 (the default value) means no limit.\n",
       "\n",
       "Note, str.split() is mainly useful for data that has been intentionally\n",
       "delimited.  With natural text that includes punctuation, consider using\n",
       "the regular expression module.\n",
       "\u001b[0;31mType:\u001b[0m      builtin_function_or_method"
      ]
     },
     "metadata": {},
     "output_type": "display_data"
    }
   ],
   "source": [
    "?phrase.split"
   ]
  },
  {
   "cell_type": "code",
   "execution_count": 57,
   "id": "9cce35fb-c6c1-4826-9b07-49b92dcc7ec0",
   "metadata": {},
   "outputs": [
    {
     "data": {
      "text/plain": [
       "['Ceci', 'est', 'une', 'phrase']"
      ]
     },
     "execution_count": 57,
     "metadata": {},
     "output_type": "execute_result"
    }
   ],
   "source": [
    "phrase.split(\" \")"
   ]
  },
  {
   "cell_type": "code",
   "execution_count": 59,
   "id": "202a62ca-5e0f-4eef-a8ea-96cfa3ba6658",
   "metadata": {},
   "outputs": [
    {
     "data": {
      "text/plain": [
       "['Ceci', 'est', 'une', 'phrase']"
      ]
     },
     "execution_count": 59,
     "metadata": {},
     "output_type": "execute_result"
    }
   ],
   "source": [
    "liste_mots"
   ]
  },
  {
   "cell_type": "code",
   "execution_count": 60,
   "id": "f3fa5514-0605-4556-8dbb-135242cbb102",
   "metadata": {},
   "outputs": [
    {
     "data": {
      "text/plain": [
       "list"
      ]
     },
     "execution_count": 60,
     "metadata": {},
     "output_type": "execute_result"
    }
   ],
   "source": [
    "type(liste_mots)"
   ]
  },
  {
   "cell_type": "markdown",
   "id": "745e205a-3fab-4cea-af46-bd394f2799df",
   "metadata": {},
   "source": [
    "Prendre le premier élément d'une liste (l'indexation commence à 0)"
   ]
  },
  {
   "cell_type": "code",
   "execution_count": 61,
   "id": "65aae3b9-68bc-4db6-8a30-7f34f081c77e",
   "metadata": {},
   "outputs": [
    {
     "data": {
      "text/plain": [
       "'Ceci'"
      ]
     },
     "execution_count": 61,
     "metadata": {},
     "output_type": "execute_result"
    }
   ],
   "source": [
    "liste_mots[0]"
   ]
  },
  {
   "cell_type": "code",
   "execution_count": 62,
   "id": "ffe9d9fd-b23c-43de-9246-ec4f4dd4aa9d",
   "metadata": {},
   "outputs": [
    {
     "data": {
      "text/plain": [
       "'est'"
      ]
     },
     "execution_count": 62,
     "metadata": {},
     "output_type": "execute_result"
    }
   ],
   "source": [
    "liste_mots[1]"
   ]
  },
  {
   "cell_type": "code",
   "execution_count": 63,
   "id": "9ac7baf3-29af-4835-ae70-52e7fb13c6d6",
   "metadata": {},
   "outputs": [
    {
     "data": {
      "text/plain": [
       "'une'"
      ]
     },
     "execution_count": 63,
     "metadata": {},
     "output_type": "execute_result"
    }
   ],
   "source": [
    "liste_mots[2]"
   ]
  },
  {
   "cell_type": "code",
   "execution_count": 64,
   "id": "a86db646-0920-4b24-8f6d-9b535cc04cc1",
   "metadata": {
    "scrolled": true
   },
   "outputs": [
    {
     "data": {
      "text/plain": [
       "['coucou', 4, 3, 'python']"
      ]
     },
     "execution_count": 64,
     "metadata": {},
     "output_type": "execute_result"
    }
   ],
   "source": [
    "[\"coucou\", 4, 3, \"python\"]"
   ]
  },
  {
   "cell_type": "markdown",
   "id": "70521456-ab2e-4c00-92d0-b86379727773",
   "metadata": {},
   "source": [
    "## Ligne 5"
   ]
  },
  {
   "cell_type": "code",
   "execution_count": 67,
   "id": "4baa479b-b73a-4d91-8ac2-a4b95011b1b0",
   "metadata": {},
   "outputs": [],
   "source": [
    "nombre_mots = len(liste_mots)"
   ]
  },
  {
   "cell_type": "code",
   "execution_count": 68,
   "id": "244df66f-bd0d-4d0e-8897-30c3f453b3e9",
   "metadata": {},
   "outputs": [
    {
     "data": {
      "text/plain": [
       "4"
      ]
     },
     "execution_count": 68,
     "metadata": {},
     "output_type": "execute_result"
    }
   ],
   "source": [
    "nombre_mots"
   ]
  },
  {
   "cell_type": "markdown",
   "id": "b79343ea-b63d-4ab6-8ced-559c493235e4",
   "metadata": {},
   "source": [
    "Longueur d'une liste"
   ]
  },
  {
   "cell_type": "code",
   "execution_count": 65,
   "id": "c6df6c26-8c6f-4739-953a-6f568dd1c88e",
   "metadata": {},
   "outputs": [
    {
     "data": {
      "text/plain": [
       "4"
      ]
     },
     "execution_count": 65,
     "metadata": {},
     "output_type": "execute_result"
    }
   ],
   "source": [
    "len(liste_mots)"
   ]
  },
  {
   "cell_type": "code",
   "execution_count": 66,
   "id": "9e3ac743-c436-419c-bc0b-ce6f053e4e6f",
   "metadata": {},
   "outputs": [
    {
     "data": {
      "text/plain": [
       "6"
      ]
     },
     "execution_count": 66,
     "metadata": {},
     "output_type": "execute_result"
    }
   ],
   "source": [
    "len(\"Coucou\")"
   ]
  },
  {
   "cell_type": "markdown",
   "id": "93fb8d92-896e-4c5a-bbf7-108844d6c973",
   "metadata": {},
   "source": [
    "## Ligne 6 et 7 : les conditions\n",
    "\n",
    "Les conditions sont un embranchement\n",
    "\n",
    "SI quelquechose\n",
    "\n",
    "    Faire quelque chose\n",
    "\n",
    "```python\n",
    "if AFFIRMATION est vraie:\n",
    "    code à exécuter\n",
    "else:\n",
    "    code à exécuter à la place\n",
    "```\n",
    "\n",
    "Deux points + 4 tabulations"
   ]
  },
  {
   "cell_type": "markdown",
   "id": "02ff9b32-aa0e-4dfc-9284-0653e78c4ee8",
   "metadata": {},
   "source": [
    "### Les propositions de vérité en python"
   ]
  },
  {
   "cell_type": "code",
   "execution_count": 86,
   "id": "e3824a52-3ff6-460d-ae79-d793ea6bbf36",
   "metadata": {},
   "outputs": [
    {
     "data": {
      "text/plain": [
       "True"
      ]
     },
     "execution_count": 86,
     "metadata": {},
     "output_type": "execute_result"
    }
   ],
   "source": [
    "True"
   ]
  },
  {
   "cell_type": "code",
   "execution_count": 69,
   "id": "8db7451f-df55-49db-a85f-98f138ab0689",
   "metadata": {},
   "outputs": [
    {
     "data": {
      "text/plain": [
       "True"
      ]
     },
     "execution_count": 69,
     "metadata": {},
     "output_type": "execute_result"
    }
   ],
   "source": [
    "3 == 3"
   ]
  },
  {
   "cell_type": "code",
   "execution_count": 70,
   "id": "52e1fe80-2342-4c9e-b409-c54ae2a87c82",
   "metadata": {},
   "outputs": [
    {
     "data": {
      "text/plain": [
       "False"
      ]
     },
     "execution_count": 70,
     "metadata": {},
     "output_type": "execute_result"
    }
   ],
   "source": [
    "3 == 4"
   ]
  },
  {
   "cell_type": "code",
   "execution_count": 71,
   "id": "5ef57742-92c1-498f-aa7b-a9c57a7966e6",
   "metadata": {},
   "outputs": [
    {
     "data": {
      "text/plain": [
       "False"
      ]
     },
     "execution_count": 71,
     "metadata": {},
     "output_type": "execute_result"
    }
   ],
   "source": [
    "x = 5\n",
    "3 == x"
   ]
  },
  {
   "cell_type": "code",
   "execution_count": 87,
   "id": "f04ddc6e-d028-4aeb-acb6-becd57a59a0c",
   "metadata": {},
   "outputs": [
    {
     "name": "stdout",
     "output_type": "stream",
     "text": [
      "La valeur est fausse\n"
     ]
    }
   ],
   "source": [
    "if (type(x) == int) and (x == 3):\n",
    "    print(\"La valeur est vraie\")\n",
    "else:\n",
    "    print(\"La valeur est fausse\")"
   ]
  },
  {
   "cell_type": "markdown",
   "id": "756f34e7-cd9c-431f-a9df-f93fe6a2b3fb",
   "metadata": {},
   "source": [
    "Imaginons qu'on veut savoir si le texte contient des espaces et a plus de 10 lettres"
   ]
  },
  {
   "cell_type": "code",
   "execution_count": 89,
   "id": "80c4ade2-a0f1-46f9-8973-8cc333658614",
   "metadata": {},
   "outputs": [
    {
     "data": {
      "text/plain": [
       "True"
      ]
     },
     "execution_count": 89,
     "metadata": {},
     "output_type": "execute_result"
    }
   ],
   "source": [
    "texte = \"Ceci est un texte\"\n",
    "\n",
    "(\" \" in texte) and len(texte)>=10"
   ]
  },
  {
   "cell_type": "markdown",
   "id": "549097e4-717d-474f-a9d0-52109f58e5c8",
   "metadata": {},
   "source": [
    "## Ligne 9 à 12 : les boucles\n",
    "\n",
    "Morceau de code qui compte le nombre d'élémnets plus grands qu'un seuil"
   ]
  },
  {
   "cell_type": "code",
   "execution_count": 108,
   "id": "01f77640-c01d-4adf-b7ef-93aa26915a67",
   "metadata": {},
   "outputs": [],
   "source": [
    "compteur = 0\n",
    "for mot in liste_mots:\n",
    "    if len(mot) >= nombre_min_lettres:\n",
    "        compteur+=1"
   ]
  },
  {
   "cell_type": "code",
   "execution_count": 106,
   "id": "da7d82e8-e033-4359-ade5-e4bd7e2f0ab2",
   "metadata": {},
   "outputs": [
    {
     "data": {
      "text/plain": [
       "['Ceci', 'est', 'ma', 'phrase']"
      ]
     },
     "execution_count": 106,
     "metadata": {},
     "output_type": "execute_result"
    }
   ],
   "source": [
    "liste_mots"
   ]
  },
  {
   "cell_type": "markdown",
   "id": "324da4e3-b5a7-436e-b6ef-603d6f6c7377",
   "metadata": {},
   "source": [
    "### C'est quoi une boucle"
   ]
  },
  {
   "cell_type": "code",
   "execution_count": 96,
   "id": "0bbc7805-63bb-40ca-9e37-e9fa12d4adc4",
   "metadata": {},
   "outputs": [],
   "source": [
    "semaine = [\"Lundi\", \"Mardi\", \"Mercredi\", \"Jeudi\", \"Vendredi\", \"Samedi\", \"Dimanche\"]"
   ]
  },
  {
   "cell_type": "code",
   "execution_count": 98,
   "id": "0a3de32c-f298-4f26-8b76-b92fa6bdfabc",
   "metadata": {},
   "outputs": [
    {
     "name": "stdout",
     "output_type": "stream",
     "text": [
      "Lundi\n",
      "Mardi\n",
      "Mercredi\n",
      "Jeudi\n",
      "Vendredi\n",
      "Samedi\n",
      "Dimanche\n"
     ]
    }
   ],
   "source": [
    "print(semaine[0])\n",
    "print(semaine[1])\n",
    "print(semaine[2])\n",
    "print(semaine[3])\n",
    "print(semaine[4])\n",
    "print(semaine[5])\n",
    "print(semaine[6])"
   ]
  },
  {
   "cell_type": "markdown",
   "id": "b6859369-a377-46b1-929a-fd2d5ca6c8a4",
   "metadata": {},
   "source": [
    "POUR element DANS ensemble:\n",
    "\n",
    "    ACTION A FAIRE AVEC element"
   ]
  },
  {
   "cell_type": "code",
   "execution_count": 103,
   "id": "67cc6602-1d16-4454-9b80-ecd445709176",
   "metadata": {},
   "outputs": [
    {
     "name": "stdout",
     "output_type": "stream",
     "text": [
      "Je fais du python le lundi\n",
      "Je fais du python le mardi\n",
      "Je fais du python le mercredi\n",
      "Je fais du python le jeudi\n",
      "Je fais du python le vendredi\n",
      "Je fais du python le samedi\n",
      "Je fais du python le dimanche\n"
     ]
    }
   ],
   "source": [
    "for coucou in semaine:\n",
    "    print(\"Je fais du python le \" + coucou.lower())"
   ]
  },
  {
   "cell_type": "markdown",
   "id": "120e6b66-35ae-4791-b33b-d3fbc797c876",
   "metadata": {},
   "source": [
    "## Ligne 13"
   ]
  },
  {
   "cell_type": "code",
   "execution_count": 117,
   "id": "de67e603-9185-4608-a90f-5552269a6013",
   "metadata": {},
   "outputs": [],
   "source": [
    "proportion = round(100*compteur/nombre_mots,2)"
   ]
  },
  {
   "cell_type": "code",
   "execution_count": 118,
   "id": "add39578-718c-40ec-ad6f-b01d33ebbbd4",
   "metadata": {},
   "outputs": [
    {
     "data": {
      "text/plain": [
       "50.0"
      ]
     },
     "execution_count": 118,
     "metadata": {},
     "output_type": "execute_result"
    }
   ],
   "source": [
    "proportion"
   ]
  },
  {
   "cell_type": "code",
   "execution_count": 112,
   "id": "f3b21499-004e-402f-a7d5-bf52b4328c93",
   "metadata": {},
   "outputs": [
    {
     "data": {
      "text/plain": [
       "\u001b[0;31mSignature:\u001b[0m \u001b[0mround\u001b[0m\u001b[0;34m(\u001b[0m\u001b[0mnumber\u001b[0m\u001b[0;34m,\u001b[0m \u001b[0mndigits\u001b[0m\u001b[0;34m=\u001b[0m\u001b[0;32mNone\u001b[0m\u001b[0;34m)\u001b[0m\u001b[0;34m\u001b[0m\u001b[0;34m\u001b[0m\u001b[0m\n",
       "\u001b[0;31mDocstring:\u001b[0m\n",
       "Round a number to a given precision in decimal digits.\n",
       "\n",
       "The return value is an integer if ndigits is omitted or None.  Otherwise\n",
       "the return value has the same type as the number.  ndigits may be negative.\n",
       "\u001b[0;31mType:\u001b[0m      builtin_function_or_method"
      ]
     },
     "metadata": {},
     "output_type": "display_data"
    }
   ],
   "source": [
    "?round"
   ]
  },
  {
   "cell_type": "code",
   "execution_count": 119,
   "id": "4900dc1a-2c7f-4813-aee2-ffa1b9153df4",
   "metadata": {},
   "outputs": [
    {
     "data": {
      "text/plain": [
       "float"
      ]
     },
     "execution_count": 119,
     "metadata": {},
     "output_type": "execute_result"
    }
   ],
   "source": [
    "type(proportion)"
   ]
  },
  {
   "cell_type": "markdown",
   "id": "282c8d09-88a9-4ce6-9d51-4502784cfa70",
   "metadata": {},
   "source": [
    "## Ligne 14 et 15 : mettre en forme le résultat"
   ]
  },
  {
   "cell_type": "code",
   "execution_count": 120,
   "id": "cfe95809-ba69-40e9-94b1-d352b052f99c",
   "metadata": {},
   "outputs": [],
   "source": [
    "informations = {\n",
    "    \"Total\":compteur,\n",
    "    \"Proportion\":proportion,\n",
    "    \"Phrase\":phrase,\n",
    "    \"Seuil\":nombre_min_lettres\n",
    "    }"
   ]
  },
  {
   "cell_type": "code",
   "execution_count": 121,
   "id": "16f3f63a-2c4a-4e7d-9e64-12f264226595",
   "metadata": {},
   "outputs": [
    {
     "data": {
      "text/plain": [
       "dict"
      ]
     },
     "execution_count": 121,
     "metadata": {},
     "output_type": "execute_result"
    }
   ],
   "source": [
    "type(informations)"
   ]
  },
  {
   "cell_type": "code",
   "execution_count": 122,
   "id": "1e3b15c5-d7b0-4ba3-ab9f-e6749b3d41dc",
   "metadata": {},
   "outputs": [
    {
     "data": {
      "text/plain": [
       "{'Total': 2, 'Proportion': 50.0, 'Phrase': 'Ceci est ma phrase', 'Seuil': 4}"
      ]
     },
     "execution_count": 122,
     "metadata": {},
     "output_type": "execute_result"
    }
   ],
   "source": [
    "informations"
   ]
  },
  {
   "cell_type": "code",
   "execution_count": 123,
   "id": "90143343-9c5d-4f6b-92ce-60c9d0ccf95c",
   "metadata": {},
   "outputs": [
    {
     "data": {
      "text/plain": [
       "50.0"
      ]
     },
     "execution_count": 123,
     "metadata": {},
     "output_type": "execute_result"
    }
   ],
   "source": [
    "informations[\"Proportion\"]"
   ]
  },
  {
   "cell_type": "markdown",
   "id": "71140ed5-5759-4236-a3a8-a531b2d5b016",
   "metadata": {},
   "source": [
    "Un dictionnaire c'est un ensemble de  { clé:valeurs }"
   ]
  },
  {
   "cell_type": "code",
   "execution_count": 125,
   "id": "ce41bbf2-7471-4332-9bc0-fef82c7880f4",
   "metadata": {},
   "outputs": [],
   "source": [
    "var = {\"entrée\":10}"
   ]
  },
  {
   "cell_type": "code",
   "execution_count": 126,
   "id": "050cca53-f43f-4bbc-9b66-7141fd50d2ea",
   "metadata": {},
   "outputs": [
    {
     "data": {
      "text/plain": [
       "10"
      ]
     },
     "execution_count": 126,
     "metadata": {},
     "output_type": "execute_result"
    }
   ],
   "source": [
    "var[\"entrée\"]"
   ]
  },
  {
   "cell_type": "markdown",
   "id": "121e01c6-c0ba-478e-bdcd-b2bbb03279b6",
   "metadata": {},
   "source": [
    "## Ligne 16-17 : sortie écran pour l'utilisateur\n",
    "\n",
    "Formattage de chaîne de caractères"
   ]
  },
  {
   "cell_type": "code",
   "execution_count": 127,
   "id": "c11a99c8-3661-4c1c-8db0-f1140030f9a7",
   "metadata": {},
   "outputs": [
    {
     "name": "stdout",
     "output_type": "stream",
     "text": [
      "Proportion de mots avec 4 lettres ou plus : 50.0\n"
     ]
    }
   ],
   "source": [
    "sortie = f\"Proportion de mots avec {nombre_min_lettres} lettres ou plus : {proportion}\"\n",
    "print(sortie)"
   ]
  },
  {
   "cell_type": "code",
   "execution_count": 129,
   "id": "dc57ace1-5a20-42eb-8fc5-c90fc85f9045",
   "metadata": {},
   "outputs": [
    {
     "data": {
      "text/plain": [
       "50.0"
      ]
     },
     "execution_count": 129,
     "metadata": {},
     "output_type": "execute_result"
    }
   ],
   "source": [
    "proportion"
   ]
  },
  {
   "cell_type": "code",
   "execution_count": 130,
   "id": "b88baa11-fa25-4b8b-8bf5-f1e91da55eee",
   "metadata": {},
   "outputs": [
    {
     "data": {
      "text/plain": [
       "'Ceci est un texte 50.0'"
      ]
     },
     "execution_count": 130,
     "metadata": {},
     "output_type": "execute_result"
    }
   ],
   "source": [
    "f\"Ceci est un texte {proportion}\""
   ]
  },
  {
   "cell_type": "code",
   "execution_count": 132,
   "id": "3e6f94bd-0c43-453b-919a-7242655c4288",
   "metadata": {},
   "outputs": [
    {
     "data": {
      "text/plain": [
       "'Proportion de mots avec 4 lettres ou plus: 50.0'"
      ]
     },
     "execution_count": 132,
     "metadata": {},
     "output_type": "execute_result"
    }
   ],
   "source": [
    "sortie = \"Proportion de mots avec \" + str(nombre_min_lettres) + \" lettres ou plus: \" + str(proportion)\n",
    "sortie"
   ]
  },
  {
   "cell_type": "markdown",
   "id": "58b05da0-a7e9-4eda-86ab-cd0e90af74cc",
   "metadata": {},
   "source": [
    "### Parenthèse : fonctions de transtypage"
   ]
  },
  {
   "cell_type": "code",
   "execution_count": 133,
   "id": "9525d9eb-ba37-4dfe-8682-c4382625fe4e",
   "metadata": {},
   "outputs": [
    {
     "data": {
      "text/plain": [
       "'10'"
      ]
     },
     "execution_count": 133,
     "metadata": {},
     "output_type": "execute_result"
    }
   ],
   "source": [
    "str(10)"
   ]
  },
  {
   "cell_type": "code",
   "execution_count": 134,
   "id": "742bf2b2-2b09-494e-9c7e-adaaf8e573fe",
   "metadata": {},
   "outputs": [
    {
     "data": {
      "text/plain": [
       "10"
      ]
     },
     "execution_count": 134,
     "metadata": {},
     "output_type": "execute_result"
    }
   ],
   "source": [
    "int(\"10\")"
   ]
  },
  {
   "cell_type": "code",
   "execution_count": 135,
   "id": "27c185b5-4522-4ab2-911d-bf7484fed61a",
   "metadata": {},
   "outputs": [
    {
     "data": {
      "text/plain": [
       "['C', 'o', 'u', 'c', 'o', 'u']"
      ]
     },
     "execution_count": 135,
     "metadata": {},
     "output_type": "execute_result"
    }
   ],
   "source": [
    "list(\"Coucou\")"
   ]
  },
  {
   "cell_type": "markdown",
   "id": "61986a18-a2d0-41e4-a1f9-b9ddf5a2fdc1",
   "metadata": {},
   "source": [
    "## Ligne 19 et 20 : écrire et lire sur l'ordinateur"
   ]
  },
  {
   "cell_type": "markdown",
   "id": "9a1d6c5f-c079-49cb-9b8a-13075e2dd539",
   "metadata": {},
   "source": [
    "Lire ou écrire un fichier en texte OU binaire sur l'ordinateur\n",
    "\n",
    "Un fichier peut être lu ou écrit, mais pas les deux en\n",
    "\n",
    "- définir le fichier\n",
    "- définir le mode (lecture ou écriture)\n",
    "- se connecter au fichier\n",
    "- faire l'opération (écrire, lire, etc...)\n",
    "- ferme le fichier"
   ]
  },
  {
   "cell_type": "code",
   "execution_count": 5,
   "id": "cafe149c-fbaf-47c3-8142-cae4efc7a625",
   "metadata": {},
   "outputs": [],
   "source": [
    "fichier = open(\"fichier_text.txt\", \"w\")\n",
    "fichier.write(\"Coucou\")\n",
    "fichier.close()"
   ]
  },
  {
   "cell_type": "markdown",
   "id": "4e77decf-1844-4d6e-ace5-ccb2b4408812",
   "metadata": {},
   "source": [
    "Utiliser un bloc de contexte"
   ]
  },
  {
   "cell_type": "code",
   "execution_count": 9,
   "id": "1091789b-fcfd-460a-b130-3e2704803b70",
   "metadata": {},
   "outputs": [],
   "source": [
    "with open(\"resultat.txt\",\"w\") as fichier:\n",
    "    fichier.write(str(informations))"
   ]
  },
  {
   "cell_type": "markdown",
   "id": "207c4ad1-d49e-4865-94a9-d737f402116a",
   "metadata": {},
   "source": [
    "Lire un fichier texte"
   ]
  },
  {
   "cell_type": "code",
   "execution_count": 10,
   "id": "591346c0-e65e-4383-ae97-665ce0d9ae06",
   "metadata": {},
   "outputs": [
    {
     "name": "stdout",
     "output_type": "stream",
     "text": [
      "{'Total': 2, 'Proportion': 50.0, 'Phrase': 'Ceci est une phrase', 'Seuil': 4}\n"
     ]
    }
   ],
   "source": [
    "with open(\"resultat.txt\",\"r\") as fichier:\n",
    "    print(fichier.read())"
   ]
  },
  {
   "cell_type": "code",
   "execution_count": 15,
   "id": "f3bec903-e955-43d5-a714-7b2e1db1402b",
   "metadata": {},
   "outputs": [],
   "source": [
    "var = \"coucou\""
   ]
  },
  {
   "cell_type": "code",
   "execution_count": 17,
   "id": "6dcaecf2-879e-4eaa-adb6-81c31ede330a",
   "metadata": {},
   "outputs": [
    {
     "data": {
      "text/plain": [
       "2"
      ]
     },
     "execution_count": 17,
     "metadata": {},
     "output_type": "execute_result"
    }
   ],
   "source": [
    "var.count(\"o\")"
   ]
  },
  {
   "cell_type": "code",
   "execution_count": 20,
   "id": "0c4170c2-f559-40b1-8c83-4af71de2631f",
   "metadata": {},
   "outputs": [],
   "source": [
    "# dir(var)"
   ]
  },
  {
   "cell_type": "code",
   "execution_count": null,
   "id": "1220b4ae-a646-450e-8dda-ed04295f8a2b",
   "metadata": {},
   "outputs": [],
   "source": []
  }
 ],
 "metadata": {
  "kernelspec": {
   "display_name": "Python 3 (ipykernel)",
   "language": "python",
   "name": "python3"
  },
  "language_info": {
   "codemirror_mode": {
    "name": "ipython",
    "version": 3
   },
   "file_extension": ".py",
   "mimetype": "text/x-python",
   "name": "python",
   "nbconvert_exporter": "python",
   "pygments_lexer": "ipython3",
   "version": "3.11.7"
  }
 },
 "nbformat": 4,
 "nbformat_minor": 5
}
