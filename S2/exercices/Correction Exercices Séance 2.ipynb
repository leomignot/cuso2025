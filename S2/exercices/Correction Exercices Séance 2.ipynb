{
 "cells": [
  {
   "cell_type": "markdown",
   "id": "53bc79f8",
   "metadata": {},
   "source": [
    "# Petits exercices d'application de la séance 2"
   ]
  },
  {
   "cell_type": "markdown",
   "id": "c2a02e63",
   "metadata": {},
   "source": [
    "## Exercice d'application\n",
    "\n",
    "- quel est le type de la variable v si `v = 8.23` ?\n",
    "- est-ce que `variable1` et `Variable1` sont la même variable ?\n",
    "- Comment additionner `10` et `\"Coucou\"` ?"
   ]
  },
  {
   "cell_type": "markdown",
   "id": "d6214bbc",
   "metadata": {},
   "source": [
    "- quel est le type de la variable v si `v = 8.23` ?"
   ]
  },
  {
   "cell_type": "code",
   "execution_count": null,
   "id": "b5a8c180",
   "metadata": {},
   "outputs": [],
   "source": [
    "# Je stocke 8.23 dans v\n",
    "# 8.23 est un nombre \"à virgule\"\n",
    "# donc nombres flottants\n",
    "# le type devrait donc être \"float\"\n",
    "\n",
    "# je vérifie facilement avec type()\n",
    "v = 8.23\n",
    "type(v)"
   ]
  },
  {
   "cell_type": "markdown",
   "id": "e5e7ba78",
   "metadata": {},
   "source": [
    "- est-ce que `variable1` et `Variable1` sont la même variable ?"
   ]
  },
  {
   "cell_type": "code",
   "execution_count": null,
   "id": "8cb0dfba",
   "metadata": {},
   "outputs": [],
   "source": [
    "# variable1 et Variable1\n",
    "# Émilien est joueur : python est sensible à la casse\n",
    "# et comme on a une majuscule, on se fait parfois avoir\n",
    "variable1 = \"y a un piège\"\n",
    "Variable1"
   ]
  },
  {
   "cell_type": "markdown",
   "id": "5bec650b",
   "metadata": {},
   "source": [
    "- Comment additionner `10` et `\"Coucou\"` ?"
   ]
  },
  {
   "cell_type": "code",
   "execution_count": null,
   "id": "cd1a2077",
   "metadata": {},
   "outputs": [],
   "source": [
    "# Si je demande à python de faire 10 + \"coucou\"\n",
    "# Je lui demande d'additionner un entier et une chaine de caractères\n",
    "# Ce qui est un peu pas très malin, et pas très faisable\n",
    "10 + \"Coucou\""
   ]
  },
  {
   "cell_type": "code",
   "execution_count": null,
   "id": "fdd7ef21",
   "metadata": {},
   "outputs": [],
   "source": [
    "# Par contre (y a des feintes) il accepte de le \"multiplier\"\n",
    "# En réalité ce qu'il accepte de faire c'est de répéter la chaine de caratères\n",
    "10 * \"Coucou\""
   ]
  },
  {
   "cell_type": "code",
   "execution_count": null,
   "id": "06ea82ea",
   "metadata": {},
   "outputs": [],
   "source": [
    "# Par contre je peux bien sortir les deux valeurs :\n",
    "print(10, \"coucou\")"
   ]
  },
  {
   "cell_type": "code",
   "execution_count": null,
   "id": "f17c1b79",
   "metadata": {},
   "outputs": [],
   "source": [
    "# ou\n",
    "print(str(10) + \"Coucou\")"
   ]
  },
  {
   "cell_type": "markdown",
   "id": "fc28f934",
   "metadata": {},
   "source": [
    "## Conseil\n",
    "Les exercices suivants sont réalisables en repartant/s'inspirant du script vu durant dans la séance et en conservant/modifiant les blocs appropriés."
   ]
  },
  {
   "cell_type": "code",
   "execution_count": null,
   "id": "fa315911",
   "metadata": {},
   "outputs": [],
   "source": [
    "sortie_fichier = True\n",
    "nombre_min_lettres = 4\n",
    "phrase = input(\"Écrivez une phrase: \")\n",
    "liste_mots = phrase.split(\" \")\n",
    "nombre_mots = len(liste_mots)\n",
    "if len(phrase) == 0:\n",
    "    print(\"Vous n'avez rien écrit\")\n",
    "else:\n",
    "    compteur = 0\n",
    "    for i in liste_mots:\n",
    "        if len(i) >= nombre_min_lettres:\n",
    "            compteur += 1\n",
    "    proportion = round(100 * compteur / nombre_mots, 2)\n",
    "    informations = {\n",
    "        \"Total\": compteur,\n",
    "        \"Proportion\": proportion,\n",
    "        \"Phrase\": phrase,\n",
    "        \"Seuil\": nombre_min_lettres,\n",
    "    }\n",
    "    sortie = (\n",
    "        f\"Proportion de mots avec {nombre_min_lettres} lettres ou plus : {proportion}\"\n",
    "    )\n",
    "    print(sortie)\n",
    "    if sortie_fichier:\n",
    "        with open(\"resultat.txt\", \"w\") as f:\n",
    "            f.write(str(informations))"
   ]
  },
  {
   "cell_type": "markdown",
   "id": "2227e962",
   "metadata": {},
   "source": [
    "## Exercice 1\n",
    "\n",
    "- Créer une variable qui contient une chaîne de caractères (une phrase par exemple)\n",
    "- Compter le nombre de fois où la lettre \"a\" est présente dans la chaîne de caractères\n",
    "- Afficher le résultat"
   ]
  },
  {
   "cell_type": "code",
   "execution_count": null,
   "id": "f0f6b566",
   "metadata": {},
   "outputs": [],
   "source": [
    "# on peut repartir de ce qu'on avait vu : un compteur, on incrémente, etc.\n",
    "chaine = \"Nanananère\"\n",
    "compteur = 0\n",
    "for lettre in chaine:\n",
    "    if lettre == \"a\":\n",
    "        compteur += 1\n",
    "print(compteur)"
   ]
  },
  {
   "cell_type": "code",
   "execution_count": null,
   "id": "0b4d83be",
   "metadata": {},
   "outputs": [],
   "source": [
    "# ou alors on se dit que y a des gens qui ont déjà eu ce problème\n",
    "# et donc un machin doit exister\n",
    "# count()\n",
    "chaine = \"Nanananère\"\n",
    "chaine.count(\"a\")"
   ]
  },
  {
   "cell_type": "code",
   "execution_count": null,
   "id": "46413fd7",
   "metadata": {},
   "outputs": [],
   "source": [
    "?str.count"
   ]
  },
  {
   "cell_type": "markdown",
   "id": "968e1796",
   "metadata": {},
   "source": [
    "## Exercice 2\n",
    "\n",
    "Faire un petit script qui demande une phrase à l'utilisateur et affiche le nombre de mots de la phrase (pour l'affichage avec print)"
   ]
  },
  {
   "cell_type": "code",
   "execution_count": null,
   "id": "3dce4581",
   "metadata": {},
   "outputs": [],
   "source": [
    "phrase = input(\"Écrivez une phrase: \")\n",
    "liste_mots = phrase.split(\" \")\n",
    "# si on laisse split() vide il utilise l'espace par défaut (>un peu plus compliqué, il s'implifie aussi les doubles espaces ?)\n",
    "nombre_mots = len(liste_mots)\n",
    "print(nombre_mots)\n",
    "\n",
    "# si besoin d'illustrer : plusieurs façon d'imprimer :\n",
    "# print(f\"Le nombre de mots est de : {nombre_mots}\")\n",
    "# print(\"Mais aussi le nombre de mots est de : \", nombre_mots)\n",
    "# print(\"Mais encore le nombre de mots est : \" + str(nombre_mots))"
   ]
  },
  {
   "cell_type": "markdown",
   "id": "ca774c7f",
   "metadata": {},
   "source": [
    "## Exercice 3\n",
    "\n",
    "Faire un petit script qui demande une phrase à l'utilisateur et affiche le dernier mot de la phrase (indice : on peut trouver le dernier élément d'une liste avec `ma_liste[-1]`)"
   ]
  },
  {
   "cell_type": "code",
   "execution_count": null,
   "id": "e2c62b6f",
   "metadata": {},
   "outputs": [],
   "source": [
    "phrase = input(\"Écrivez une phrase: \")\n",
    "liste_mots = phrase.split(\" \")\n",
    "dernier_mot = liste_mots[-1]\n",
    "print(dernier_mot)"
   ]
  },
  {
   "cell_type": "code",
   "execution_count": null,
   "id": "70d3fffa",
   "metadata": {},
   "outputs": [],
   "source": [
    "# On peut condenser, mais ça peut vite devenir illisible/peu clair\n",
    "phrase = input(\"Écrivez une phrase: \")\n",
    "print(phrase.split(\" \")[-1])"
   ]
  },
  {
   "cell_type": "markdown",
   "id": "c2a43a17",
   "metadata": {},
   "source": [
    "## Exercice 4\n",
    "\n",
    "Créer un petit script qui demande deux phrases successivement et affiche les deux phrases concaténées."
   ]
  },
  {
   "cell_type": "code",
   "execution_count": null,
   "id": "7890bc6c",
   "metadata": {},
   "outputs": [],
   "source": [
    "phrase1 = input(\"Écrivez une première phrase: \")\n",
    "phrase2 = input(\"Écrivez une deuxième phrase: \")\n",
    "print(phrase1 + \" \" + phrase2)\n",
    "# print(phrase1, phrase2) # donne le même résultat"
   ]
  },
  {
   "cell_type": "markdown",
   "id": "2d9eafaf",
   "metadata": {},
   "source": [
    "## Exercice 5\n",
    "\n",
    "Comprendre ce que fait la méthode capitalize des chaines de caractères  \n",
    "(indice : https://docs.python.org/3/library/stdtypes.html#string-methods)"
   ]
  },
  {
   "cell_type": "code",
   "execution_count": null,
   "id": "a88cef94",
   "metadata": {},
   "outputs": [],
   "source": [
    "# par déduction :\n",
    "# Elle détermine la capitale des pays ? mmmmeeeehhhhhhhhh\n",
    "# ou alors elle met les capitales en début de phrases ? plus plausible"
   ]
  },
  {
   "cell_type": "code",
   "execution_count": null,
   "id": "82586d0c",
   "metadata": {},
   "outputs": [],
   "source": [
    "# en allant lire la doc (cf. le lien ci-dessus) :"
   ]
  },
  {
   "cell_type": "markdown",
   "id": "004cd13c",
   "metadata": {},
   "source": [
    "````\n",
    "str.capitalize()¶\n",
    "\n",
    "    Return a copy of the string with its first character capitalized and the rest lowercased.\n",
    "\n",
    "    Changed in version 3.8: The first character is now put into titlecase rather than uppercase. This means that characters like digraphs will only have their first letter capitalized, instead of the full character.\n",
    "````\n"
   ]
  },
  {
   "cell_type": "code",
   "execution_count": null,
   "id": "c5eaa26a",
   "metadata": {},
   "outputs": [],
   "source": [
    "# Ou accéder à l'aide : help / ?"
   ]
  },
  {
   "cell_type": "code",
   "execution_count": null,
   "id": "62fbb328",
   "metadata": {},
   "outputs": [],
   "source": [
    "help(str.capitalize)\n",
    "\n",
    "# possible d'appeler l'aide autrement :\n",
    "# sans les parenthèses (ça me rend fou perso le nombre de fois où je me vautre))\n",
    "# ?str.capitalize\n",
    "# #ou :\n",
    "# #str.capitalize?"
   ]
  },
  {
   "cell_type": "code",
   "execution_count": null,
   "id": "32243e32",
   "metadata": {},
   "outputs": [],
   "source": [
    "# test\n",
    "phrase = \"les capitales c'est important\"\n",
    "phrase.capitalize()"
   ]
  },
  {
   "cell_type": "code",
   "execution_count": null,
   "id": "213f292d",
   "metadata": {},
   "outputs": [],
   "source": [
    "# attention : \"More specifically, make the first character have upper case and the rest lower\"\n",
    "feinte = \"les CAPITALES c'est important\"\n",
    "feinte.capitalize()"
   ]
  },
  {
   "cell_type": "code",
   "execution_count": null,
   "id": "7accfbc5",
   "metadata": {},
   "outputs": [],
   "source": [
    "# Des pratiques pas recommandables mais qui marchent :\n",
    "\"je suis énervé\".upper()"
   ]
  }
 ],
 "metadata": {
  "kernelspec": {
   "display_name": "myenv_clone",
   "language": "python",
   "name": "python3"
  },
  "language_info": {
   "codemirror_mode": {
    "name": "ipython",
    "version": 3
   },
   "file_extension": ".py",
   "mimetype": "text/x-python",
   "name": "python",
   "nbconvert_exporter": "python",
   "pygments_lexer": "ipython3",
   "version": "3.11.5"
  }
 },
 "nbformat": 4,
 "nbformat_minor": 5
}
