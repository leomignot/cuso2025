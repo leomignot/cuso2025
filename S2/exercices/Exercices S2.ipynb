{
 "cells": [
  {
   "cell_type": "markdown",
   "id": "53bc79f8",
   "metadata": {},
   "source": [
    "# Petits exercices d'application"
   ]
  },
  {
   "cell_type": "markdown",
   "id": "c2a02e63",
   "metadata": {},
   "source": [
    "## Exercice d'application\n",
    "\n",
    "- quel est le type de la variable v si `v = 8.23` ?\n",
    "- est-ce que `variable1` et `Variable1` sont la même variable ?\n",
    "- Comment additionner `10` et `\"Coucou\"` ?"
   ]
  },
  {
   "cell_type": "markdown",
   "id": "fc28f934",
   "metadata": {},
   "source": [
    "## Conseil\n",
    "Les exercices suivants sont réalisables en repartant/s'inspirant du script et en conservant/modifiant les blocs appropriés."
   ]
  },
  {
   "cell_type": "markdown",
   "id": "8df5ffc1-c514-47be-8317-54c831920d96",
   "metadata": {},
   "source": [
    "## Exercice 1\n",
    "\n",
    "- Créer une variable qui contient une chaîne de caractères (une phrase par exemple)\n",
    "- Compter le nombre de fois où la lettre \"a\" est présente dans la chaîne de caractères\n",
    "- Afficher le résultat de manière structurée"
   ]
  },
  {
   "cell_type": "markdown",
   "id": "968e1796",
   "metadata": {},
   "source": [
    "## Exercice 2\n",
    "\n",
    "Faire un petit script qui demande une phrase à l'utilisateur et affiche le nombre de mots de la phrase (pour l'affichage avec print)"
   ]
  },
  {
   "cell_type": "markdown",
   "id": "ca774c7f",
   "metadata": {},
   "source": [
    "## Exercice 3\n",
    "\n",
    "Faire un petit script qui demande une phrase à l'utilisateur et affiche le dernier mot de la phrase (indice : on peut trouver le dernier élément d'une liste avec `ma_liste[-1]`)"
   ]
  },
  {
   "cell_type": "markdown",
   "id": "c2a43a17",
   "metadata": {},
   "source": [
    "## Exercice 4\n",
    "\n",
    "Créer un petit script qui demande deux phrases successivement et affiche les deux phrases concaténées."
   ]
  },
  {
   "cell_type": "markdown",
   "id": "2d9eafaf",
   "metadata": {},
   "source": [
    "## Exercice 5\n",
    "\n",
    "Comprendre ce que fait la méthode capitalize des chaines de caractères (indice : https://docs.python.org/3/library/stdtypes.html#string-methods)"
   ]
  }
 ],
 "metadata": {
  "kernelspec": {
   "display_name": "Python 3 (ipykernel)",
   "language": "python",
   "name": "python3"
  },
  "language_info": {
   "codemirror_mode": {
    "name": "ipython",
    "version": 3
   },
   "file_extension": ".py",
   "mimetype": "text/x-python",
   "name": "python",
   "nbconvert_exporter": "python",
   "pygments_lexer": "ipython3",
   "version": "3.11.7"
  }
 },
 "nbformat": 4,
 "nbformat_minor": 5
}
