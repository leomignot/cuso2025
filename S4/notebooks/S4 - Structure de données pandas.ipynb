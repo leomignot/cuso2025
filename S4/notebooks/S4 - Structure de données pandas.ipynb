{
 "cells": [
  {
   "cell_type": "code",
   "execution_count": 1,
   "id": "30fd196f-1a3a-4fd6-b334-6ba140774768",
   "metadata": {
    "tags": []
   },
   "outputs": [],
   "source": [
    "import pandas as pd"
   ]
  },
  {
   "cell_type": "markdown",
   "id": "c8199b88-028c-44ed-935c-ab7495190a7e",
   "metadata": {},
   "source": [
    "Importer l'objet"
   ]
  },
  {
   "cell_type": "code",
   "execution_count": 2,
   "id": "5b898f09-f8e5-46e4-a3a5-3833da52c13d",
   "metadata": {
    "tags": []
   },
   "outputs": [],
   "source": [
    "from pandas import DataFrame"
   ]
  },
  {
   "cell_type": "code",
   "execution_count": 3,
   "id": "7eddd4f2-2f5e-4020-ba0d-3521a06303b0",
   "metadata": {
    "tags": []
   },
   "outputs": [
    {
     "data": {
      "text/plain": [
       "pandas.core.frame.DataFrame"
      ]
     },
     "execution_count": 3,
     "metadata": {},
     "output_type": "execute_result"
    }
   ],
   "source": [
    "DataFrame"
   ]
  },
  {
   "cell_type": "code",
   "execution_count": 5,
   "id": "cf28fc03-87dd-4ea2-a360-b4eb2a0cd606",
   "metadata": {
    "tags": []
   },
   "outputs": [],
   "source": [
    "informations = {\"Léo\":[\"Bordeaux\",\"Sociologie\"],\n",
    "                \"Émilien\":[\"Palaiseau\",\"Data science\"]}"
   ]
  },
  {
   "cell_type": "code",
   "execution_count": 6,
   "id": "48820081-76f7-419b-8d64-759b06bf94f4",
   "metadata": {
    "tags": []
   },
   "outputs": [
    {
     "data": {
      "text/plain": [
       "{'Léo': ['Bordeaux', 'Sociologie'], 'Émilien': ['Palaiseau', 'Data science']}"
      ]
     },
     "execution_count": 6,
     "metadata": {},
     "output_type": "execute_result"
    }
   ],
   "source": [
    "informations"
   ]
  },
  {
   "cell_type": "code",
   "execution_count": 18,
   "id": "0670197e-590b-4136-9194-fd4fbf6b8a26",
   "metadata": {
    "tags": []
   },
   "outputs": [],
   "source": [
    "df = DataFrame(informations, index=[\"Ville\",\"Discipline\"])"
   ]
  },
  {
   "cell_type": "code",
   "execution_count": 10,
   "id": "84b38d61-5a93-462d-bc66-6f194d41cdb5",
   "metadata": {
    "tags": []
   },
   "outputs": [
    {
     "data": {
      "text/plain": [
       "pandas.core.frame.DataFrame"
      ]
     },
     "execution_count": 10,
     "metadata": {},
     "output_type": "execute_result"
    }
   ],
   "source": [
    "type(df)"
   ]
  },
  {
   "cell_type": "code",
   "execution_count": 19,
   "id": "40475b84-dd2d-4d7a-90ac-1db0197623e7",
   "metadata": {
    "tags": []
   },
   "outputs": [
    {
     "data": {
      "text/plain": [
       "(2, 2)"
      ]
     },
     "execution_count": 19,
     "metadata": {},
     "output_type": "execute_result"
    }
   ],
   "source": [
    "df.shape"
   ]
  },
  {
   "cell_type": "code",
   "execution_count": 21,
   "id": "07a427a7-4b21-4ebd-9020-be139fe24225",
   "metadata": {
    "tags": []
   },
   "outputs": [
    {
     "data": {
      "text/html": [
       "<div>\n",
       "<style scoped>\n",
       "    .dataframe tbody tr th:only-of-type {\n",
       "        vertical-align: middle;\n",
       "    }\n",
       "\n",
       "    .dataframe tbody tr th {\n",
       "        vertical-align: top;\n",
       "    }\n",
       "\n",
       "    .dataframe thead th {\n",
       "        text-align: right;\n",
       "    }\n",
       "</style>\n",
       "<table border=\"1\" class=\"dataframe\">\n",
       "  <thead>\n",
       "    <tr style=\"text-align: right;\">\n",
       "      <th></th>\n",
       "      <th>Léo</th>\n",
       "      <th>Émilien</th>\n",
       "    </tr>\n",
       "  </thead>\n",
       "  <tbody>\n",
       "    <tr>\n",
       "      <th>Ville</th>\n",
       "      <td>Bordeaux</td>\n",
       "      <td>Palaiseau</td>\n",
       "    </tr>\n",
       "    <tr>\n",
       "      <th>Discipline</th>\n",
       "      <td>Sociologie</td>\n",
       "      <td>Data science</td>\n",
       "    </tr>\n",
       "  </tbody>\n",
       "</table>\n",
       "</div>"
      ],
      "text/plain": [
       "                   Léo       Émilien\n",
       "Ville         Bordeaux     Palaiseau\n",
       "Discipline  Sociologie  Data science"
      ]
     },
     "execution_count": 21,
     "metadata": {},
     "output_type": "execute_result"
    }
   ],
   "source": [
    "df"
   ]
  },
  {
   "cell_type": "code",
   "execution_count": 20,
   "id": "53da1826-d9a9-4f0c-a865-93fe470783f5",
   "metadata": {
    "tags": []
   },
   "outputs": [
    {
     "data": {
      "text/plain": [
       "Ville            Palaiseau\n",
       "Discipline    Data science\n",
       "Name: Émilien, dtype: object"
      ]
     },
     "execution_count": 20,
     "metadata": {},
     "output_type": "execute_result"
    }
   ],
   "source": [
    "df[\"Émilien\"]"
   ]
  },
  {
   "cell_type": "code",
   "execution_count": 17,
   "id": "e7314bb2-30e4-4b1f-8a11-ed5871c74837",
   "metadata": {
    "tags": []
   },
   "outputs": [
    {
     "data": {
      "text/plain": [
       "Léo         Bordeaux\n",
       "Émilien    Palaiseau\n",
       "Name: 0, dtype: object"
      ]
     },
     "execution_count": 17,
     "metadata": {},
     "output_type": "execute_result"
    }
   ],
   "source": [
    "df.loc[0]"
   ]
  },
  {
   "cell_type": "code",
   "execution_count": null,
   "id": "e45f6746-a9ce-4407-af92-41ce77d2cbb3",
   "metadata": {},
   "outputs": [],
   "source": []
  }
 ],
 "metadata": {
  "kernelspec": {
   "display_name": "Python 3 (ipykernel)",
   "language": "python",
   "name": "python3"
  },
  "language_info": {
   "codemirror_mode": {
    "name": "ipython",
    "version": 3
   },
   "file_extension": ".py",
   "mimetype": "text/x-python",
   "name": "python",
   "nbconvert_exporter": "python",
   "pygments_lexer": "ipython3",
   "version": "3.11.7"
  }
 },
 "nbformat": 4,
 "nbformat_minor": 5
}
