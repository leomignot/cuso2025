{
 "cells": [
  {
   "cell_type": "markdown",
   "metadata": {},
   "source": [
    "# Pandas pour l'analyse de données"
   ]
  },
  {
   "cell_type": "markdown",
   "metadata": {},
   "source": [
    "User guide : https://pandas.pydata.org/docs/user_guide/10min.html  \n",
    "Cheat Sheet : https://pandas.pydata.org/Pandas_Cheat_Sheet.pdf"
   ]
  },
  {
   "cell_type": "markdown",
   "metadata": {},
   "source": [
    "## Importer Pandas"
   ]
  },
  {
   "cell_type": "code",
   "execution_count": 4,
   "metadata": {
    "tags": []
   },
   "outputs": [],
   "source": [
    "import pandas as pd"
   ]
  },
  {
   "cell_type": "markdown",
   "metadata": {},
   "source": [
    "## Charger des données"
   ]
  },
  {
   "cell_type": "code",
   "execution_count": 5,
   "metadata": {
    "tags": []
   },
   "outputs": [
    {
     "data": {
      "text/plain": [
       "'/Users/emilien/Dropbox/Python pour les SHS/Formations/2025-05- CUSO/cuso2025/S4/notebooks'"
      ]
     },
     "execution_count": 5,
     "metadata": {},
     "output_type": "execute_result"
    }
   ],
   "source": [
    "pwd"
   ]
  },
  {
   "cell_type": "code",
   "execution_count": 6,
   "metadata": {
    "tags": []
   },
   "outputs": [],
   "source": [
    "with open(\"../../data/CSS_openalex.csv\",\"r\") as f:\n",
    "    data = f.read()\n",
    "    "
   ]
  },
  {
   "cell_type": "code",
   "execution_count": 7,
   "metadata": {
    "tags": []
   },
   "outputs": [
    {
     "data": {
      "text/plain": [
       "'id,doi,title,display_name,relevance_score,publication_year,publication_date,language,type,type_crossref,indexed_in,countries_distinct_count,institutions_distinct_count,corresponding_author_ids,corresponding_institution_ids,apc_list,apc_paid,fwci,has_fulltext,fulltext_origin,cited_by_count,is_retracted,is_paratext,locations_count,datasets,versions,referenced_works_count,referenced_works,related_works,cited_by_api_url,updated_date,created_date,ids.openalex,ids.doi,ids.mag,ids.pmid,ids.pmcid,primary_location.is_oa,primary_location.landing_page_url,primary_location.pdf_url,primary_location.source.id,primary_location.source.display_name,primary_location.source.issn_l,primary_location.source.issn,primary_location.source.is_oa,primary_location.source.is_in_doaj,primary_location.source.is_indexed_in_scopus,primary_location.source.is_core,primary_location.source.host_organization,primary_location.source.host_organization_name,primary_location.source.host_organization_lineage,primary_location.so'"
      ]
     },
     "execution_count": 7,
     "metadata": {},
     "output_type": "execute_result"
    }
   ],
   "source": [
    "data[0:1000]"
   ]
  },
  {
   "cell_type": "code",
   "execution_count": 9,
   "metadata": {
    "tags": []
   },
   "outputs": [],
   "source": [
    "df = pd.read_csv(\"../../data/CSS_openalex.csv\", low_memory=False)"
   ]
  },
  {
   "cell_type": "code",
   "execution_count": 10,
   "metadata": {
    "tags": []
   },
   "outputs": [
    {
     "data": {
      "text/plain": [
       "pandas.core.frame.DataFrame"
      ]
     },
     "execution_count": 10,
     "metadata": {},
     "output_type": "execute_result"
    }
   ],
   "source": [
    "type(df)"
   ]
  },
  {
   "cell_type": "code",
   "execution_count": 19,
   "metadata": {},
   "outputs": [
    {
     "data": {
      "text/plain": [
       "Computational and Text Analysis Methods    370\n",
       "Opinion Dynamics and Social Influence      363\n",
       "Complex Network Analysis Techniques        318\n",
       "Teaching and Learning Programming          164\n",
       "Social Media and Politics                  142\n",
       "                                          ... \n",
       "Educational Practices and Challenges         1\n",
       "Assembly Line Balancing Optimization         1\n",
       "Environmental and Agricultural Sciences      1\n",
       "Eating Disorders and Behaviors               1\n",
       "Technology Assessment and Management         1\n",
       "Name: primary_topic.display_name, Length: 1496, dtype: int64"
      ]
     },
     "execution_count": 19,
     "metadata": {},
     "output_type": "execute_result"
    }
   ],
   "source": [
    "df[\"primary_topic.display_name\"].value_counts()"
   ]
  },
  {
   "cell_type": "code",
   "execution_count": 17,
   "metadata": {
    "tags": []
   },
   "outputs": [
    {
     "name": "stdout",
     "output_type": "stream",
     "text": [
      "id\n",
      "doi\n",
      "title\n",
      "display_name\n",
      "relevance_score\n",
      "publication_year\n",
      "publication_date\n",
      "language\n",
      "type\n",
      "type_crossref\n",
      "indexed_in\n",
      "countries_distinct_count\n",
      "institutions_distinct_count\n",
      "corresponding_author_ids\n",
      "corresponding_institution_ids\n",
      "apc_list\n",
      "apc_paid\n",
      "fwci\n",
      "has_fulltext\n",
      "fulltext_origin\n",
      "cited_by_count\n",
      "is_retracted\n",
      "is_paratext\n",
      "locations_count\n",
      "datasets\n",
      "versions\n",
      "referenced_works_count\n",
      "referenced_works\n",
      "related_works\n",
      "cited_by_api_url\n",
      "updated_date\n",
      "created_date\n",
      "ids.openalex\n",
      "ids.doi\n",
      "ids.mag\n",
      "ids.pmid\n",
      "ids.pmcid\n",
      "primary_location.is_oa\n",
      "primary_location.landing_page_url\n",
      "primary_location.pdf_url\n",
      "primary_location.source.id\n",
      "primary_location.source.display_name\n",
      "primary_location.source.issn_l\n",
      "primary_location.source.issn\n",
      "primary_location.source.is_oa\n",
      "primary_location.source.is_in_doaj\n",
      "primary_location.source.is_indexed_in_scopus\n",
      "primary_location.source.is_core\n",
      "primary_location.source.host_organization\n",
      "primary_location.source.host_organization_name\n",
      "primary_location.source.host_organization_lineage\n",
      "primary_location.source.host_organization_lineage_names\n",
      "primary_location.source.type\n",
      "primary_location.license\n",
      "primary_location.license_id\n",
      "primary_location.version\n",
      "primary_location.is_accepted\n",
      "primary_location.is_published\n",
      "open_access.is_oa\n",
      "open_access.oa_status\n",
      "open_access.oa_url\n",
      "open_access.any_repository_has_fulltext\n",
      "citation_normalized_percentile.value\n",
      "citation_normalized_percentile.is_in_top_1_percent\n",
      "citation_normalized_percentile.is_in_top_10_percent\n",
      "cited_by_percentile_year.min\n",
      "cited_by_percentile_year.max\n",
      "biblio.volume\n",
      "biblio.issue\n",
      "biblio.first_page\n",
      "biblio.last_page\n",
      "primary_topic.id\n",
      "primary_topic.display_name\n",
      "primary_topic.score\n",
      "primary_topic.subfield.id\n",
      "primary_topic.subfield.display_name\n",
      "primary_topic.field.id\n",
      "primary_topic.field.display_name\n",
      "primary_topic.domain.id\n",
      "primary_topic.domain.display_name\n",
      "best_oa_location.is_oa\n",
      "best_oa_location.landing_page_url\n",
      "best_oa_location.pdf_url\n",
      "best_oa_location.source.id\n",
      "best_oa_location.source.display_name\n",
      "best_oa_location.source.issn_l\n",
      "best_oa_location.source.issn\n",
      "best_oa_location.source.is_oa\n",
      "best_oa_location.source.is_in_doaj\n",
      "best_oa_location.source.is_indexed_in_scopus\n",
      "best_oa_location.source.is_core\n",
      "best_oa_location.source.host_organization\n",
      "best_oa_location.source.host_organization_name\n",
      "best_oa_location.source.host_organization_lineage\n",
      "best_oa_location.source.host_organization_lineage_names\n",
      "best_oa_location.source.type\n",
      "best_oa_location.license\n",
      "best_oa_location.license_id\n",
      "best_oa_location.version\n",
      "best_oa_location.is_accepted\n",
      "best_oa_location.is_published\n",
      "apc_list.value\n",
      "apc_list.currency\n",
      "apc_list.value_usd\n",
      "apc_paid.value\n",
      "apc_paid.currency\n",
      "apc_paid.value_usd\n",
      "best_oa_location\n",
      "primary_location.source\n",
      "best_oa_location.source\n",
      "citation_normalized_percentile\n",
      "primary_location\n",
      "abstract\n",
      "primary_topic\n",
      "is_authors_truncated\n",
      "authorships.author_position\n",
      "authorships.institutions\n",
      "authorships.countries\n",
      "authorships.is_corresponding\n",
      "authorships.raw_author_name\n",
      "authorships.raw_affiliation_strings\n",
      "authorships.affiliations\n",
      "authorships.author.id\n",
      "authorships.author.display_name\n",
      "authorships.author.orcid\n",
      "institution_assertions.id\n",
      "institution_assertions.display_name\n",
      "institution_assertions.ror\n",
      "institution_assertions.country_code\n",
      "institution_assertions.type\n",
      "institution_assertions.lineage\n",
      "topics.id\n",
      "topics.display_name\n",
      "topics.score\n",
      "topics.subfield.id\n",
      "topics.subfield.display_name\n",
      "topics.field.id\n",
      "topics.field.display_name\n",
      "topics.domain.id\n",
      "topics.domain.display_name\n",
      "keywords.id\n",
      "keywords.display_name\n",
      "keywords.score\n",
      "concepts.id\n",
      "concepts.wikidata\n",
      "concepts.display_name\n",
      "concepts.level\n",
      "concepts.score\n",
      "mesh.descriptor_ui\n",
      "mesh.descriptor_name\n",
      "mesh.qualifier_ui\n",
      "mesh.qualifier_name\n",
      "mesh.is_major_topic\n",
      "locations.is_oa\n",
      "locations.landing_page_url\n",
      "locations.pdf_url\n",
      "locations.license\n",
      "locations.license_id\n",
      "locations.version\n",
      "locations.is_accepted\n",
      "locations.is_published\n",
      "locations.source.id\n",
      "locations.source.display_name\n",
      "locations.source.issn_l\n",
      "locations.source.issn\n",
      "locations.source.is_oa\n",
      "locations.source.is_in_doaj\n",
      "locations.source.is_indexed_in_scopus\n",
      "locations.source.is_core\n",
      "locations.source.host_organization\n",
      "locations.source.host_organization_name\n",
      "locations.source.host_organization_lineage\n",
      "locations.source.host_organization_lineage_names\n",
      "locations.source.type\n",
      "locations.source\n",
      "sustainable_development_goals.id\n",
      "sustainable_development_goals.score\n",
      "sustainable_development_goals.display_name\n",
      "grants.funder\n",
      "grants.funder_display_name\n",
      "grants.award_id\n",
      "counts_by_year.year\n",
      "counts_by_year.cited_by_count\n"
     ]
    }
   ],
   "source": [
    "for i in df.columns:\n",
    "    print(i)"
   ]
  },
  {
   "cell_type": "markdown",
   "metadata": {},
   "source": [
    "## Explorer les données"
   ]
  },
  {
   "cell_type": "markdown",
   "metadata": {},
   "source": [
    "**Quelques outils utiles :**  \n",
    "- `.info()` des infos sur notre df  \n",
    "- `.shape` sa \"forme\"  \n",
    "- `.columns` les colonnes  \n",
    "- `.dtypes` le type des données  \n",
    "- `.head()` afficher les premières observations  \n",
    "- `.tail()` afficher la fin du df  \n",
    "- `.describe()` description basique  "
   ]
  },
  {
   "cell_type": "code",
   "execution_count": 18,
   "metadata": {
    "tags": []
   },
   "outputs": [
    {
     "data": {
      "text/html": [
       "<div>\n",
       "<style scoped>\n",
       "    .dataframe tbody tr th:only-of-type {\n",
       "        vertical-align: middle;\n",
       "    }\n",
       "\n",
       "    .dataframe tbody tr th {\n",
       "        vertical-align: top;\n",
       "    }\n",
       "\n",
       "    .dataframe thead th {\n",
       "        text-align: right;\n",
       "    }\n",
       "</style>\n",
       "<table border=\"1\" class=\"dataframe\">\n",
       "  <thead>\n",
       "    <tr style=\"text-align: right;\">\n",
       "      <th></th>\n",
       "      <th>id</th>\n",
       "      <th>doi</th>\n",
       "      <th>title</th>\n",
       "      <th>display_name</th>\n",
       "      <th>relevance_score</th>\n",
       "      <th>publication_year</th>\n",
       "      <th>publication_date</th>\n",
       "      <th>language</th>\n",
       "      <th>type</th>\n",
       "      <th>type_crossref</th>\n",
       "      <th>...</th>\n",
       "      <th>locations.source.type</th>\n",
       "      <th>locations.source</th>\n",
       "      <th>sustainable_development_goals.id</th>\n",
       "      <th>sustainable_development_goals.score</th>\n",
       "      <th>sustainable_development_goals.display_name</th>\n",
       "      <th>grants.funder</th>\n",
       "      <th>grants.funder_display_name</th>\n",
       "      <th>grants.award_id</th>\n",
       "      <th>counts_by_year.year</th>\n",
       "      <th>counts_by_year.cited_by_count</th>\n",
       "    </tr>\n",
       "  </thead>\n",
       "  <tbody>\n",
       "    <tr>\n",
       "      <th>0</th>\n",
       "      <td>https://openalex.org/W2159397589</td>\n",
       "      <td>https://doi.org/10.1126/science.1167742</td>\n",
       "      <td>Computational Social Science</td>\n",
       "      <td>Computational Social Science</td>\n",
       "      <td>3922.0188</td>\n",
       "      <td>2009</td>\n",
       "      <td>2009-02-06</td>\n",
       "      <td>en</td>\n",
       "      <td>article</td>\n",
       "      <td>journal-article</td>\n",
       "      <td>...</td>\n",
       "      <td>journal|repository|repository|repository|repos...</td>\n",
       "      <td>nan|nan|nan|nan|nan</td>\n",
       "      <td>https://metadata.un.org/sdg/10</td>\n",
       "      <td>0.45</td>\n",
       "      <td>Reduced inequalities</td>\n",
       "      <td>NaN</td>\n",
       "      <td>NaN</td>\n",
       "      <td>NaN</td>\n",
       "      <td>2025|2024|2023|2022|2021|2020|2019|2018|2017|2...</td>\n",
       "      <td>29|114|168|146|219|273|254|250|257|220|277|267...</td>\n",
       "    </tr>\n",
       "    <tr>\n",
       "      <th>1</th>\n",
       "      <td>https://openalex.org/W2070907364</td>\n",
       "      <td>https://doi.org/10.1140/epjst/e2012-01697-8</td>\n",
       "      <td>Manifesto of computational social science</td>\n",
       "      <td>Manifesto of computational social science</td>\n",
       "      <td>1453.0546</td>\n",
       "      <td>2012</td>\n",
       "      <td>2012-11-01</td>\n",
       "      <td>en</td>\n",
       "      <td>article</td>\n",
       "      <td>journal-article</td>\n",
       "      <td>...</td>\n",
       "      <td>journal|nan|repository|repository|repository|r...</td>\n",
       "      <td>nan|nan|nan|nan|nan|nan|nan|nan|nan|nan|nan|nan</td>\n",
       "      <td>https://metadata.un.org/sdg/3</td>\n",
       "      <td>0.47</td>\n",
       "      <td>Good health and well-being</td>\n",
       "      <td>NaN</td>\n",
       "      <td>NaN</td>\n",
       "      <td>NaN</td>\n",
       "      <td>2025|2024|2023|2022|2021|2020|2019|2018|2017|2...</td>\n",
       "      <td>4|22|41|35|47|33|33|38|24|32|36|30|19|4</td>\n",
       "    </tr>\n",
       "    <tr>\n",
       "      <th>2</th>\n",
       "      <td>https://openalex.org/W3081158114</td>\n",
       "      <td>https://doi.org/10.1126/science.aaz8170</td>\n",
       "      <td>Computational social science: Obstacles and op...</td>\n",
       "      <td>Computational social science: Obstacles and op...</td>\n",
       "      <td>1162.5874</td>\n",
       "      <td>2020</td>\n",
       "      <td>2020-08-28</td>\n",
       "      <td>en</td>\n",
       "      <td>article</td>\n",
       "      <td>journal-article</td>\n",
       "      <td>...</td>\n",
       "      <td>journal|repository</td>\n",
       "      <td>nan|nan</td>\n",
       "      <td>NaN</td>\n",
       "      <td>NaN</td>\n",
       "      <td>NaN</td>\n",
       "      <td>NaN</td>\n",
       "      <td>NaN</td>\n",
       "      <td>NaN</td>\n",
       "      <td>2025|2024|2023|2022|2021|2020|2019</td>\n",
       "      <td>15|69|96|79|64|9|1</td>\n",
       "    </tr>\n",
       "  </tbody>\n",
       "</table>\n",
       "<p>3 rows × 183 columns</p>\n",
       "</div>"
      ],
      "text/plain": [
       "                                 id  \\\n",
       "0  https://openalex.org/W2159397589   \n",
       "1  https://openalex.org/W2070907364   \n",
       "2  https://openalex.org/W3081158114   \n",
       "\n",
       "                                           doi  \\\n",
       "0      https://doi.org/10.1126/science.1167742   \n",
       "1  https://doi.org/10.1140/epjst/e2012-01697-8   \n",
       "2      https://doi.org/10.1126/science.aaz8170   \n",
       "\n",
       "                                               title  \\\n",
       "0                       Computational Social Science   \n",
       "1          Manifesto of computational social science   \n",
       "2  Computational social science: Obstacles and op...   \n",
       "\n",
       "                                        display_name  relevance_score  \\\n",
       "0                       Computational Social Science        3922.0188   \n",
       "1          Manifesto of computational social science        1453.0546   \n",
       "2  Computational social science: Obstacles and op...        1162.5874   \n",
       "\n",
       "   publication_year publication_date language     type    type_crossref  ...  \\\n",
       "0              2009       2009-02-06       en  article  journal-article  ...   \n",
       "1              2012       2012-11-01       en  article  journal-article  ...   \n",
       "2              2020       2020-08-28       en  article  journal-article  ...   \n",
       "\n",
       "                               locations.source.type  \\\n",
       "0  journal|repository|repository|repository|repos...   \n",
       "1  journal|nan|repository|repository|repository|r...   \n",
       "2                                 journal|repository   \n",
       "\n",
       "                                  locations.source  \\\n",
       "0                              nan|nan|nan|nan|nan   \n",
       "1  nan|nan|nan|nan|nan|nan|nan|nan|nan|nan|nan|nan   \n",
       "2                                          nan|nan   \n",
       "\n",
       "   sustainable_development_goals.id sustainable_development_goals.score  \\\n",
       "0    https://metadata.un.org/sdg/10                                0.45   \n",
       "1     https://metadata.un.org/sdg/3                                0.47   \n",
       "2                               NaN                                 NaN   \n",
       "\n",
       "  sustainable_development_goals.display_name  grants.funder  \\\n",
       "0                       Reduced inequalities            NaN   \n",
       "1                 Good health and well-being            NaN   \n",
       "2                                        NaN            NaN   \n",
       "\n",
       "   grants.funder_display_name  grants.award_id  \\\n",
       "0                         NaN              NaN   \n",
       "1                         NaN              NaN   \n",
       "2                         NaN              NaN   \n",
       "\n",
       "                                 counts_by_year.year  \\\n",
       "0  2025|2024|2023|2022|2021|2020|2019|2018|2017|2...   \n",
       "1  2025|2024|2023|2022|2021|2020|2019|2018|2017|2...   \n",
       "2                 2025|2024|2023|2022|2021|2020|2019   \n",
       "\n",
       "                       counts_by_year.cited_by_count  \n",
       "0  29|114|168|146|219|273|254|250|257|220|277|267...  \n",
       "1            4|22|41|35|47|33|33|38|24|32|36|30|19|4  \n",
       "2                                 15|69|96|79|64|9|1  \n",
       "\n",
       "[3 rows x 183 columns]"
      ]
     },
     "execution_count": 18,
     "metadata": {},
     "output_type": "execute_result"
    }
   ],
   "source": [
    "df.head(3)"
   ]
  },
  {
   "cell_type": "code",
   "execution_count": 19,
   "metadata": {
    "tags": []
   },
   "outputs": [
    {
     "data": {
      "text/plain": [
       "(9278, 183)"
      ]
     },
     "execution_count": 19,
     "metadata": {},
     "output_type": "execute_result"
    }
   ],
   "source": [
    "df.shape"
   ]
  },
  {
   "cell_type": "code",
   "execution_count": 23,
   "metadata": {
    "tags": []
   },
   "outputs": [],
   "source": [
    "df = df.set_index(\"id\")\n",
    "# df.set_index(\"id\", inplace = True)"
   ]
  },
  {
   "cell_type": "code",
   "execution_count": 26,
   "metadata": {
    "tags": []
   },
   "outputs": [
    {
     "data": {
      "text/plain": [
       "9278"
      ]
     },
     "execution_count": 26,
     "metadata": {},
     "output_type": "execute_result"
    }
   ],
   "source": [
    "len(df.index)"
   ]
  },
  {
   "cell_type": "code",
   "execution_count": 30,
   "metadata": {
    "tags": []
   },
   "outputs": [
    {
     "data": {
      "text/plain": [
       "['doi', 'title', 'display_name', 'relevance_score', 'publication_year']"
      ]
     },
     "execution_count": 30,
     "metadata": {},
     "output_type": "execute_result"
    }
   ],
   "source": [
    "list(df.columns)[0:5]"
   ]
  },
  {
   "cell_type": "markdown",
   "metadata": {},
   "source": [
    "Sélectionner une colonne"
   ]
  },
  {
   "cell_type": "code",
   "execution_count": 39,
   "metadata": {
    "tags": []
   },
   "outputs": [
    {
     "data": {
      "text/plain": [
       "id\n",
       "https://openalex.org/W2159397589    3922.018800\n",
       "https://openalex.org/W2070907364    1453.054600\n",
       "https://openalex.org/W3081158114    1162.587400\n",
       "https://openalex.org/W3022499311    1085.659700\n",
       "https://openalex.org/W2790659496    1017.927550\n",
       "                                       ...     \n",
       "https://openalex.org/W4360776509       0.054904\n",
       "https://openalex.org/W4390745070       0.053373\n",
       "https://openalex.org/W2985109691       0.051339\n",
       "https://openalex.org/W2983403528       0.051286\n",
       "https://openalex.org/W4205865606       0.051192\n",
       "Name: relevance_score, Length: 9278, dtype: float64"
      ]
     },
     "execution_count": 39,
     "metadata": {},
     "output_type": "execute_result"
    }
   ],
   "source": [
    "df[\"relevance_score\"]"
   ]
  },
  {
   "cell_type": "code",
   "execution_count": 38,
   "metadata": {
    "tags": []
   },
   "outputs": [],
   "source": [
    "# df[[\"relevance_score\"]]"
   ]
  },
  {
   "cell_type": "markdown",
   "metadata": {},
   "source": [
    "publication_year, language, cited_by_count, is_retracted"
   ]
  },
  {
   "cell_type": "markdown",
   "metadata": {},
   "source": [
    "Récupérer une ligne"
   ]
  },
  {
   "cell_type": "code",
   "execution_count": 42,
   "metadata": {
    "tags": []
   },
   "outputs": [
    {
     "data": {
      "text/plain": [
       "'Computational social science: Obstacles and opportunities'"
      ]
     },
     "execution_count": 42,
     "metadata": {},
     "output_type": "execute_result"
    }
   ],
   "source": [
    "df.loc[\"https://openalex.org/W3081158114\", \"title\"]"
   ]
  },
  {
   "cell_type": "code",
   "execution_count": 43,
   "metadata": {
    "tags": []
   },
   "outputs": [
    {
     "data": {
      "text/plain": [
       "doi                                       https://doi.org/10.1177/0002716215572084\n",
       "title                            Big Data, Digital Media, and Computational Soc...\n",
       "display_name                     Big Data, Digital Media, and Computational Soc...\n",
       "relevance_score                                                          810.64655\n",
       "publication_year                                                              2015\n",
       "                                                       ...                        \n",
       "grants.funder                                                                  NaN\n",
       "grants.funder_display_name                                                     NaN\n",
       "grants.award_id                                                                NaN\n",
       "counts_by_year.year              2025|2024|2023|2022|2021|2020|2019|2018|2017|2...\n",
       "counts_by_year.cited_by_count                       1|14|18|18|21|24|23|17|23|15|6\n",
       "Name: https://openalex.org/W2011674485, Length: 182, dtype: object"
      ]
     },
     "execution_count": 43,
     "metadata": {},
     "output_type": "execute_result"
    }
   ],
   "source": [
    "df.iloc[10]"
   ]
  },
  {
   "cell_type": "markdown",
   "metadata": {},
   "source": [
    "Faire une grosse boucle"
   ]
  },
  {
   "cell_type": "code",
   "execution_count": 51,
   "metadata": {
    "tags": []
   },
   "outputs": [],
   "source": [
    "columns_maj = []\n",
    "\n",
    "for element in list(df.columns):\n",
    "    columns_maj.append(element.upper())\n",
    "    \n",
    "df.columns = columns_maj"
   ]
  },
  {
   "cell_type": "markdown",
   "metadata": {},
   "source": [
    "Faire avec des compréhension de liste (list comprehension)"
   ]
  },
  {
   "cell_type": "code",
   "execution_count": 53,
   "metadata": {
    "tags": []
   },
   "outputs": [],
   "source": [
    "df.columns = [element.upper() for element in list(df.columns)]"
   ]
  },
  {
   "cell_type": "markdown",
   "metadata": {},
   "source": [
    "Les colonnes sont typées"
   ]
  },
  {
   "cell_type": "code",
   "execution_count": 60,
   "metadata": {
    "tags": []
   },
   "outputs": [
    {
     "data": {
      "text/plain": [
       "DOI                               object\n",
       "TITLE                             object\n",
       "DISPLAY_NAME                      object\n",
       "RELEVANCE_SCORE                  float64\n",
       "PUBLICATION_YEAR                   int64\n",
       "                                  ...   \n",
       "GRANTS.FUNDER                     object\n",
       "GRANTS.FUNDER_DISPLAY_NAME        object\n",
       "GRANTS.AWARD_ID                   object\n",
       "COUNTS_BY_YEAR.YEAR               object\n",
       "COUNTS_BY_YEAR.CITED_BY_COUNT     object\n",
       "Length: 182, dtype: object"
      ]
     },
     "execution_count": 60,
     "metadata": {},
     "output_type": "execute_result"
    }
   ],
   "source": [
    "df.dtypes"
   ]
  },
  {
   "cell_type": "markdown",
   "metadata": {},
   "source": [
    "## Calculer sur des colonnes"
   ]
  },
  {
   "cell_type": "markdown",
   "metadata": {},
   "source": [
    "Quelques outils utiles pour décrire les données :\n",
    "\n",
    "- `mean()`\n",
    "- `std()`\n",
    "- `min()`\n",
    "- `max()`\n",
    "- `count()`\n",
    "- `describe()`\n",
    "- `unique()` (et `nunique()`)\n",
    "- `value_counts()`"
   ]
  },
  {
   "cell_type": "code",
   "execution_count": 64,
   "metadata": {
    "tags": []
   },
   "outputs": [
    {
     "data": {
      "text/plain": [
       "2016.0073291657684"
      ]
     },
     "execution_count": 64,
     "metadata": {},
     "output_type": "execute_result"
    }
   ],
   "source": [
    "df[\"PUBLICATION_YEAR\"].mean()"
   ]
  },
  {
   "cell_type": "code",
   "execution_count": 65,
   "metadata": {
    "tags": []
   },
   "outputs": [
    {
     "data": {
      "text/plain": [
       "2018.0"
      ]
     },
     "execution_count": 65,
     "metadata": {},
     "output_type": "execute_result"
    }
   ],
   "source": [
    "df[\"PUBLICATION_YEAR\"].median()"
   ]
  },
  {
   "cell_type": "code",
   "execution_count": 66,
   "metadata": {
    "tags": []
   },
   "outputs": [
    {
     "data": {
      "text/plain": [
       "8.192622172379586"
      ]
     },
     "execution_count": 66,
     "metadata": {},
     "output_type": "execute_result"
    }
   ],
   "source": [
    "df[\"PUBLICATION_YEAR\"].std()"
   ]
  },
  {
   "cell_type": "code",
   "execution_count": 68,
   "metadata": {
    "tags": []
   },
   "outputs": [
    {
     "data": {
      "text/plain": [
       "count     9278.000000\n",
       "mean        25.505389\n",
       "std        195.257254\n",
       "min          0.000000\n",
       "25%          0.000000\n",
       "50%          1.000000\n",
       "75%          8.000000\n",
       "max      11358.000000\n",
       "Name: CITED_BY_COUNT, dtype: float64"
      ]
     },
     "execution_count": 68,
     "metadata": {},
     "output_type": "execute_result"
    }
   ],
   "source": [
    "df[\"CITED_BY_COUNT\"].describe()"
   ]
  },
  {
   "cell_type": "code",
   "execution_count": 69,
   "metadata": {
    "tags": []
   },
   "outputs": [
    {
     "data": {
      "text/plain": [
       "11358"
      ]
     },
     "execution_count": 69,
     "metadata": {},
     "output_type": "execute_result"
    }
   ],
   "source": [
    "df[\"CITED_BY_COUNT\"].max()"
   ]
  },
  {
   "cell_type": "code",
   "execution_count": 70,
   "metadata": {
    "tags": []
   },
   "outputs": [
    {
     "data": {
      "text/plain": [
       "'https://openalex.org/W2151936673'"
      ]
     },
     "execution_count": 70,
     "metadata": {},
     "output_type": "execute_result"
    }
   ],
   "source": [
    "df[\"CITED_BY_COUNT\"].idxmax()"
   ]
  },
  {
   "cell_type": "markdown",
   "metadata": {},
   "source": [
    "Variable ordonnées & catégorielles"
   ]
  },
  {
   "cell_type": "code",
   "execution_count": 80,
   "metadata": {
    "tags": []
   },
   "outputs": [
    {
     "data": {
      "text/plain": [
       "2016    4.979521\n",
       "2017    5.065747\n",
       "2018    5.669325\n",
       "2019    6.111231\n",
       "2020    7.426169\n",
       "2021    8.094417\n",
       "2022    6.747144\n",
       "2023    8.697995\n",
       "2024    7.620177\n",
       "2025    2.263419\n",
       "Name: PUBLICATION_YEAR, dtype: float64"
      ]
     },
     "execution_count": 80,
     "metadata": {},
     "output_type": "execute_result"
    }
   ],
   "source": [
    "(df[\"PUBLICATION_YEAR\"]\n",
    "     .value_counts(normalize=True)\n",
    "     .sort_index()\n",
    "     .tail(10) * 100)"
   ]
  },
  {
   "cell_type": "code",
   "execution_count": 84,
   "metadata": {
    "tags": []
   },
   "outputs": [
    {
     "data": {
      "text/plain": [
       "article            65.0\n",
       "preprint           11.0\n",
       "book-chapter        7.0\n",
       "book                4.0\n",
       "review              3.0\n",
       "editorial           2.0\n",
       "dissertation        2.0\n",
       "paratext            2.0\n",
       "dataset             1.0\n",
       "other               1.0\n",
       "letter              1.0\n",
       "peer-review         1.0\n",
       "report              0.0\n",
       "reference-entry     0.0\n",
       "libguides           0.0\n",
       "grant               0.0\n",
       "erratum             0.0\n",
       "Name: TYPE, dtype: float64"
      ]
     },
     "execution_count": 84,
     "metadata": {},
     "output_type": "execute_result"
    }
   ],
   "source": [
    "round(df[\"TYPE\"].value_counts(normalize=True) * 100)"
   ]
  },
  {
   "cell_type": "markdown",
   "metadata": {},
   "source": [
    "## Aller vers une base de données\n",
    "\n",
    "- filtrer\n",
    "- grouper\n",
    "- aller plus loin (join, etc.)"
   ]
  },
  {
   "cell_type": "markdown",
   "metadata": {},
   "source": [
    "Je ne veux travailler que sur les articles"
   ]
  },
  {
   "cell_type": "code",
   "execution_count": 90,
   "metadata": {
    "tags": []
   },
   "outputs": [],
   "source": [
    "df_article = df[df[\"TYPE\"] == \"article\"]"
   ]
  },
  {
   "cell_type": "code",
   "execution_count": 92,
   "metadata": {
    "tags": []
   },
   "outputs": [
    {
     "data": {
      "text/plain": [
       "25.70476032509537"
      ]
     },
     "execution_count": 92,
     "metadata": {},
     "output_type": "execute_result"
    }
   ],
   "source": [
    "df_article[\"CITED_BY_COUNT\"].mean()"
   ]
  },
  {
   "cell_type": "markdown",
   "metadata": {},
   "source": [
    "Sélectionner uniquement les articles qui ont eu 0 citations"
   ]
  },
  {
   "cell_type": "code",
   "execution_count": 102,
   "metadata": {
    "tags": []
   },
   "outputs": [
    {
     "data": {
      "text/plain": [
       "id\n",
       "https://openalex.org/W2412274821            COMPUTATIONAL SOCIAL SCIENCE Submitted by\n",
       "https://openalex.org/W4404923512    Computational reproducibility in computational...\n",
       "https://openalex.org/W2252149878    Sociolinguistics for Computational Social Science\n",
       "https://openalex.org/W3007246908    Review of Introduction to Computational Social...\n",
       "https://openalex.org/W2956130469    Challenges and Opportunities for Computational...\n",
       "                                                          ...                        \n",
       "https://openalex.org/W4396704609    Effective communication skills: What engineers...\n",
       "https://openalex.org/W4387451452    “This carpenter wende he were in despeir”: Mis...\n",
       "https://openalex.org/W4376880434    Preview the Products on Display at Display Wee...\n",
       "https://openalex.org/W4293698825    Special Report: Precision Psychiatry—Are We Ge...\n",
       "https://openalex.org/W4390745070            Photovoltaics literature survey (no. 188)\n",
       "Name: TITLE, Length: 2132, dtype: object"
      ]
     },
     "execution_count": 102,
     "metadata": {},
     "output_type": "execute_result"
    }
   ],
   "source": [
    "filtre = (df[\"TYPE\"] == \"article\") & (df[\"CITED_BY_COUNT\"] == 0)\n",
    "df[filtre][\"TITLE\"]"
   ]
  },
  {
   "cell_type": "markdown",
   "metadata": {},
   "source": [
    "Exporter des données"
   ]
  },
  {
   "cell_type": "code",
   "execution_count": 103,
   "metadata": {
    "tags": []
   },
   "outputs": [],
   "source": [
    "df[filtre][\"TITLE\"].to_csv(\"articles-jamais-cités.csv\")"
   ]
  },
  {
   "cell_type": "markdown",
   "metadata": {},
   "source": [
    "Pour manipuler globalement des regroupements"
   ]
  },
  {
   "cell_type": "code",
   "execution_count": 114,
   "metadata": {
    "tags": []
   },
   "outputs": [],
   "source": [
    "tableau = (df.groupby(\"PUBLICATION_YEAR\")[\"CITED_BY_COUNT\"]\n",
    " .agg([\"median\",\"mean\"])\n",
    " .tail(20))"
   ]
  },
  {
   "cell_type": "code",
   "execution_count": 115,
   "metadata": {
    "tags": []
   },
   "outputs": [
    {
     "data": {
      "text/html": [
       "<div>\n",
       "<style scoped>\n",
       "    .dataframe tbody tr th:only-of-type {\n",
       "        vertical-align: middle;\n",
       "    }\n",
       "\n",
       "    .dataframe tbody tr th {\n",
       "        vertical-align: top;\n",
       "    }\n",
       "\n",
       "    .dataframe thead th {\n",
       "        text-align: right;\n",
       "    }\n",
       "</style>\n",
       "<table border=\"1\" class=\"dataframe\">\n",
       "  <thead>\n",
       "    <tr style=\"text-align: right;\">\n",
       "      <th></th>\n",
       "      <th>median</th>\n",
       "      <th>mean</th>\n",
       "    </tr>\n",
       "    <tr>\n",
       "      <th>PUBLICATION_YEAR</th>\n",
       "      <th></th>\n",
       "      <th></th>\n",
       "    </tr>\n",
       "  </thead>\n",
       "  <tbody>\n",
       "    <tr>\n",
       "      <th>2006</th>\n",
       "      <td>3.0</td>\n",
       "      <td>163.072581</td>\n",
       "    </tr>\n",
       "    <tr>\n",
       "      <th>2007</th>\n",
       "      <td>3.0</td>\n",
       "      <td>44.473333</td>\n",
       "    </tr>\n",
       "    <tr>\n",
       "      <th>2008</th>\n",
       "      <td>5.0</td>\n",
       "      <td>50.473373</td>\n",
       "    </tr>\n",
       "    <tr>\n",
       "      <th>2009</th>\n",
       "      <td>2.0</td>\n",
       "      <td>44.345946</td>\n",
       "    </tr>\n",
       "    <tr>\n",
       "      <th>2010</th>\n",
       "      <td>2.0</td>\n",
       "      <td>25.621622</td>\n",
       "    </tr>\n",
       "    <tr>\n",
       "      <th>2011</th>\n",
       "      <td>2.0</td>\n",
       "      <td>27.643293</td>\n",
       "    </tr>\n",
       "    <tr>\n",
       "      <th>2012</th>\n",
       "      <td>3.0</td>\n",
       "      <td>33.453020</td>\n",
       "    </tr>\n",
       "    <tr>\n",
       "      <th>2013</th>\n",
       "      <td>2.0</td>\n",
       "      <td>26.416216</td>\n",
       "    </tr>\n",
       "    <tr>\n",
       "      <th>2014</th>\n",
       "      <td>3.0</td>\n",
       "      <td>39.675879</td>\n",
       "    </tr>\n",
       "    <tr>\n",
       "      <th>2015</th>\n",
       "      <td>2.0</td>\n",
       "      <td>22.560706</td>\n",
       "    </tr>\n",
       "    <tr>\n",
       "      <th>2016</th>\n",
       "      <td>2.0</td>\n",
       "      <td>21.621212</td>\n",
       "    </tr>\n",
       "    <tr>\n",
       "      <th>2017</th>\n",
       "      <td>2.0</td>\n",
       "      <td>26.121277</td>\n",
       "    </tr>\n",
       "    <tr>\n",
       "      <th>2018</th>\n",
       "      <td>2.0</td>\n",
       "      <td>18.153992</td>\n",
       "    </tr>\n",
       "    <tr>\n",
       "      <th>2019</th>\n",
       "      <td>2.0</td>\n",
       "      <td>13.021164</td>\n",
       "    </tr>\n",
       "    <tr>\n",
       "      <th>2020</th>\n",
       "      <td>1.0</td>\n",
       "      <td>14.506531</td>\n",
       "    </tr>\n",
       "    <tr>\n",
       "      <th>2021</th>\n",
       "      <td>1.0</td>\n",
       "      <td>9.259654</td>\n",
       "    </tr>\n",
       "    <tr>\n",
       "      <th>2022</th>\n",
       "      <td>1.0</td>\n",
       "      <td>6.712460</td>\n",
       "    </tr>\n",
       "    <tr>\n",
       "      <th>2023</th>\n",
       "      <td>1.0</td>\n",
       "      <td>3.366791</td>\n",
       "    </tr>\n",
       "    <tr>\n",
       "      <th>2024</th>\n",
       "      <td>0.0</td>\n",
       "      <td>0.888260</td>\n",
       "    </tr>\n",
       "    <tr>\n",
       "      <th>2025</th>\n",
       "      <td>0.0</td>\n",
       "      <td>0.047619</td>\n",
       "    </tr>\n",
       "  </tbody>\n",
       "</table>\n",
       "</div>"
      ],
      "text/plain": [
       "                  median        mean\n",
       "PUBLICATION_YEAR                    \n",
       "2006                 3.0  163.072581\n",
       "2007                 3.0   44.473333\n",
       "2008                 5.0   50.473373\n",
       "2009                 2.0   44.345946\n",
       "2010                 2.0   25.621622\n",
       "2011                 2.0   27.643293\n",
       "2012                 3.0   33.453020\n",
       "2013                 2.0   26.416216\n",
       "2014                 3.0   39.675879\n",
       "2015                 2.0   22.560706\n",
       "2016                 2.0   21.621212\n",
       "2017                 2.0   26.121277\n",
       "2018                 2.0   18.153992\n",
       "2019                 2.0   13.021164\n",
       "2020                 1.0   14.506531\n",
       "2021                 1.0    9.259654\n",
       "2022                 1.0    6.712460\n",
       "2023                 1.0    3.366791\n",
       "2024                 0.0    0.888260\n",
       "2025                 0.0    0.047619"
      ]
     },
     "execution_count": 115,
     "metadata": {},
     "output_type": "execute_result"
    }
   ],
   "source": [
    "tableau"
   ]
  },
  {
   "cell_type": "code",
   "execution_count": 121,
   "metadata": {
    "tags": []
   },
   "outputs": [
    {
     "data": {
      "text/plain": [
       "<Axes: xlabel='PUBLICATION_YEAR'>"
      ]
     },
     "execution_count": 121,
     "metadata": {},
     "output_type": "execute_result"
    },
    {
     "data": {
      "image/png": "[encoded data removed]",
      "text/plain": [
       "<Figure size 640x480 with 1 Axes>"
      ]
     },
     "metadata": {},
     "output_type": "display_data"
    }
   ],
   "source": [
    "tableau[\"mean\"].plot(kind=\"bar\")"
   ]
  },
  {
   "cell_type": "code",
   "execution_count": 123,
   "metadata": {
    "tags": []
   },
   "outputs": [
    {
     "data": {
      "text/plain": [
       "<Axes: title={'center': 'Scatter plot des années de publications'}, xlabel='mean', ylabel='median'>"
      ]
     },
     "execution_count": 123,
     "metadata": {},
     "output_type": "execute_result"
    },
    {
     "data": {
      "image/png": "[encoded data removed]",
      "text/plain": [
       "<Figure size 640x480 with 1 Axes>"
      ]
     },
     "metadata": {},
     "output_type": "display_data"
    }
   ],
   "source": [
    "tableau.plot(x=\"mean\", \n",
    "             y=\"median\", \n",
    "             kind=\"scatter\", \n",
    "             title=\"Scatter plot des années de publications\")"
   ]
  },
  {
   "cell_type": "markdown",
   "metadata": {},
   "source": [
    "## Manipuler plusieurs tableaux"
   ]
  },
  {
   "cell_type": "code",
   "execution_count": 132,
   "metadata": {
    "tags": []
   },
   "outputs": [],
   "source": [
    "distribution_absolue = df[\"PUBLICATION_YEAR\"].value_counts().sort_index().tail(20)\n",
    "distribution_pourcentage = round(100 * df[\"PUBLICATION_YEAR\"].value_counts(normalize=True),1).sort_index().tail(20)"
   ]
  },
  {
   "cell_type": "markdown",
   "metadata": {},
   "source": [
    "Réunion deux tableaux ensemble"
   ]
  },
  {
   "cell_type": "code",
   "execution_count": 139,
   "metadata": {
    "tags": []
   },
   "outputs": [
    {
     "data": {
      "text/html": [
       "<div>\n",
       "<style scoped>\n",
       "    .dataframe tbody tr th:only-of-type {\n",
       "        vertical-align: middle;\n",
       "    }\n",
       "\n",
       "    .dataframe tbody tr th {\n",
       "        vertical-align: top;\n",
       "    }\n",
       "\n",
       "    .dataframe thead th {\n",
       "        text-align: right;\n",
       "    }\n",
       "</style>\n",
       "<table border=\"1\" class=\"dataframe\">\n",
       "  <thead>\n",
       "    <tr style=\"text-align: right;\">\n",
       "      <th></th>\n",
       "      <th>%</th>\n",
       "      <th>F</th>\n",
       "    </tr>\n",
       "  </thead>\n",
       "  <tbody>\n",
       "    <tr>\n",
       "      <th>2016</th>\n",
       "      <td>5.0</td>\n",
       "      <td>462</td>\n",
       "    </tr>\n",
       "    <tr>\n",
       "      <th>2017</th>\n",
       "      <td>5.1</td>\n",
       "      <td>470</td>\n",
       "    </tr>\n",
       "    <tr>\n",
       "      <th>2018</th>\n",
       "      <td>5.7</td>\n",
       "      <td>526</td>\n",
       "    </tr>\n",
       "    <tr>\n",
       "      <th>2019</th>\n",
       "      <td>6.1</td>\n",
       "      <td>567</td>\n",
       "    </tr>\n",
       "    <tr>\n",
       "      <th>2020</th>\n",
       "      <td>7.4</td>\n",
       "      <td>689</td>\n",
       "    </tr>\n",
       "    <tr>\n",
       "      <th>2021</th>\n",
       "      <td>8.1</td>\n",
       "      <td>751</td>\n",
       "    </tr>\n",
       "    <tr>\n",
       "      <th>2022</th>\n",
       "      <td>6.7</td>\n",
       "      <td>626</td>\n",
       "    </tr>\n",
       "    <tr>\n",
       "      <th>2023</th>\n",
       "      <td>8.7</td>\n",
       "      <td>807</td>\n",
       "    </tr>\n",
       "    <tr>\n",
       "      <th>2024</th>\n",
       "      <td>7.6</td>\n",
       "      <td>707</td>\n",
       "    </tr>\n",
       "    <tr>\n",
       "      <th>2025</th>\n",
       "      <td>2.3</td>\n",
       "      <td>210</td>\n",
       "    </tr>\n",
       "  </tbody>\n",
       "</table>\n",
       "</div>"
      ],
      "text/plain": [
       "        %    F\n",
       "2016  5.0  462\n",
       "2017  5.1  470\n",
       "2018  5.7  526\n",
       "2019  6.1  567\n",
       "2020  7.4  689\n",
       "2021  8.1  751\n",
       "2022  6.7  626\n",
       "2023  8.7  807\n",
       "2024  7.6  707\n",
       "2025  2.3  210"
      ]
     },
     "execution_count": 139,
     "metadata": {},
     "output_type": "execute_result"
    }
   ],
   "source": [
    "pd.concat({\"%\":distribution_pourcentage, \n",
    "           \"F\":distribution_absolue}, axis=1).tail(10)"
   ]
  },
  {
   "cell_type": "markdown",
   "metadata": {},
   "source": [
    "## Recoder\n",
    "\n",
    "- remplacer\n",
    "- valeurs nulles\n",
    "- fonctions comme .cut\n",
    "- solition générique de .apply"
   ]
  },
  {
   "cell_type": "code",
   "execution_count": 142,
   "metadata": {
    "tags": []
   },
   "outputs": [
    {
     "data": {
      "text/plain": [
       "DOI                              1716\n",
       "TITLE                              11\n",
       "DISPLAY_NAME                       11\n",
       "RELEVANCE_SCORE                     0\n",
       "PUBLICATION_YEAR                    0\n",
       "                                 ... \n",
       "GRANTS.FUNDER                    8657\n",
       "GRANTS.FUNDER_DISPLAY_NAME       8657\n",
       "GRANTS.AWARD_ID                  8657\n",
       "COUNTS_BY_YEAR.YEAR              3872\n",
       "COUNTS_BY_YEAR.CITED_BY_COUNT    3872\n",
       "Length: 182, dtype: int64"
      ]
     },
     "execution_count": 142,
     "metadata": {},
     "output_type": "execute_result"
    }
   ],
   "source": [
    "df.isnull().sum()"
   ]
  },
  {
   "cell_type": "code",
   "execution_count": 169,
   "metadata": {
    "tags": []
   },
   "outputs": [],
   "source": [
    "# pd.qcut(df[\"CITED_BY_COUNT\"], q=10, duplicates=\"drop\").value_counts()"
   ]
  },
  {
   "cell_type": "markdown",
   "metadata": {},
   "source": [
    "On veut recoder les publications en trois catégories :\n",
    "- 0 ou 1 citations\n",
    "- moins de 10 citations\n",
    "- et plus de 10 citations"
   ]
  },
  {
   "cell_type": "code",
   "execution_count": 178,
   "metadata": {
    "tags": []
   },
   "outputs": [],
   "source": [
    "df[\"CITED_INT\"] = pd.cut(df[\"CITED_BY_COUNT\"], \n",
    "       [-1, 1, 10, 10000], \n",
    "       labels=[\"<2\",\"2-10\",\"+10\"])"
   ]
  },
  {
   "cell_type": "code",
   "execution_count": 181,
   "metadata": {
    "tags": []
   },
   "outputs": [
    {
     "data": {
      "text/plain": [
       "CITED_INT\n",
       "<2      2017.494876\n",
       "2-10    2015.906986\n",
       "+10     2012.704863\n",
       "Name: PUBLICATION_YEAR, dtype: float64"
      ]
     },
     "execution_count": 181,
     "metadata": {},
     "output_type": "execute_result"
    }
   ],
   "source": [
    "df.groupby(\"CITED_INT\")[\"PUBLICATION_YEAR\"].mean()"
   ]
  },
  {
   "cell_type": "markdown",
   "metadata": {
    "tags": []
   },
   "source": [
    "## Objectif\n",
    "\n",
    "- tous les articles\n",
    "- qui parlent vraiemnt de sciences sociales computationnelles\n",
    "- taille de l'abstract"
   ]
  },
  {
   "cell_type": "code",
   "execution_count": 186,
   "metadata": {
    "tags": []
   },
   "outputs": [
    {
     "data": {
      "text/plain": [
       "6"
      ]
     },
     "execution_count": 186,
     "metadata": {},
     "output_type": "execute_result"
    }
   ],
   "source": [
    "len(\"blabla\")"
   ]
  },
  {
   "cell_type": "code",
   "execution_count": 195,
   "metadata": {
    "tags": []
   },
   "outputs": [
    {
     "data": {
      "text/plain": [
       "id\n",
       "https://openalex.org/W2159397589    14,0642,033MetricsTotal Downloads14,064Last 6 ...\n",
       "https://openalex.org/W2070907364    The increasing integration of technology into ...\n",
       "https://openalex.org/W3081158114                                                  NaN\n",
       "https://openalex.org/W3022499311    The integration of social science with compute...\n",
       "https://openalex.org/W2790659496                                                  NaN\n",
       "                                                          ...                        \n",
       "https://openalex.org/W4360776509    Article Figures and data Abstract Editor's eva...\n",
       "https://openalex.org/W4390745070    In order to help readers stay up-to-date in th...\n",
       "https://openalex.org/W2985109691    Article Figures and data Abstract Introduction...\n",
       "https://openalex.org/W2983403528    Article Figures and data Abstract Introduction...\n",
       "https://openalex.org/W4205865606    Citation (2021), \"Index\", Baker, H.K., Nikbakh...\n",
       "Name: ABSTRACT, Length: 9278, dtype: object"
      ]
     },
     "execution_count": 195,
     "metadata": {},
     "output_type": "execute_result"
    }
   ],
   "source": [
    "df[\"ABSTRACT\"]"
   ]
  },
  {
   "cell_type": "code",
   "execution_count": 196,
   "metadata": {
    "tags": []
   },
   "outputs": [],
   "source": [
    "def compter(texte):\n",
    "    if pd.isnull(texte):\n",
    "        return 0\n",
    "    else:\n",
    "        return len(texte)\n",
    "\n",
    "df[\"LEN_ABSTRACT\"] = df[\"ABSTRACT\"].apply(compter)"
   ]
  },
  {
   "cell_type": "code",
   "execution_count": 199,
   "metadata": {
    "tags": []
   },
   "outputs": [
    {
     "data": {
      "text/plain": [
       "count     9278.000000\n",
       "mean      2161.624811\n",
       "std       5606.592746\n",
       "min          0.000000\n",
       "25%          0.000000\n",
       "50%          0.000000\n",
       "75%       1495.000000\n",
       "max      43111.000000\n",
       "Name: LEN_ABSTRACT, dtype: float64"
      ]
     },
     "execution_count": 199,
     "metadata": {},
     "output_type": "execute_result"
    }
   ],
   "source": [
    "df[\"LEN_ABSTRACT\"].describe()"
   ]
  },
  {
   "cell_type": "code",
   "execution_count": 224,
   "metadata": {
    "tags": []
   },
   "outputs": [],
   "source": [
    "df[\"CSS\"] = (df[\"ABSTRACT\"].str.lower()\n",
    "    .str.contains(\"computational social science\")\n",
    "    .fillna(False))"
   ]
  },
  {
   "cell_type": "markdown",
   "metadata": {},
   "source": [
    "## Faire des statistiques\n",
    "\n",
    "- univariées\n",
    "- bivariées : tableau croisé\n",
    "- grouper des tableaux (.concat)\n",
    "- visualisations"
   ]
  },
  {
   "cell_type": "code",
   "execution_count": 235,
   "metadata": {
    "tags": []
   },
   "outputs": [
    {
     "data": {
      "text/plain": [
       "<Axes: title={'center': 'Evolution des SSC'}>"
      ]
     },
     "execution_count": 235,
     "metadata": {},
     "output_type": "execute_result"
    },
    {
     "data": {
      "image/png": "[encoded data removed]",
      "text/plain": [
       "<Figure size 640x480 with 1 Axes>"
      ]
     },
     "metadata": {},
     "output_type": "display_data"
    }
   ],
   "source": [
    "df_css = df[df[\"CSS\"]]\n",
    "(df_css[\"PUBLICATION_YEAR\"]\n",
    "     .value_counts()\n",
    "     .sort_index()\n",
    "     .plot(title=\"Evolution des SSC\", rot=45))"
   ]
  },
  {
   "cell_type": "markdown",
   "metadata": {},
   "source": [
    "## Sauvegarder les données"
   ]
  },
  {
   "cell_type": "code",
   "execution_count": 237,
   "metadata": {
    "tags": []
   },
   "outputs": [],
   "source": [
    "df_css.to_csv(\"data.csv\")"
   ]
  },
  {
   "cell_type": "markdown",
   "metadata": {},
   "source": [
    "## Et plein d'autres choses \n",
    "\n",
    "- échantillon aléatoire avec .sample()"
   ]
  }
 ],
 "metadata": {
  "kernelspec": {
   "display_name": "base",
   "language": "python",
   "name": "python3"
  },
  "language_info": {
   "codemirror_mode": {
    "name": "ipython",
    "version": 3
   },
   "file_extension": ".py",
   "mimetype": "text/x-python",
   "name": "python",
   "nbconvert_exporter": "python",
   "pygments_lexer": "ipython3",
   "version": "3.11.7"
  }
 },
 "nbformat": 4,
 "nbformat_minor": 4
}
