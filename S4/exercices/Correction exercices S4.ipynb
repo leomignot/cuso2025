{
 "cells": [
  {
   "cell_type": "markdown",
   "id": "3790e78c",
   "metadata": {},
   "source": [
    "## Exercice séance 4\n",
    "\n",
    "Tous les exercices sont sur les données du fichier `CSS_openalex.csv` diponible ici : https://filesender.renater.fr/?s=download&token=01def21d-738d-48f1-860a-820c37fab6d7\n",
    "\n",
    "\n",
    "Ces données représentent toutes les publications scientifiques de la base openalex qui mentionnent `computational social science` dans leur titre ou abstract."
   ]
  },
  {
   "cell_type": "markdown",
   "id": "d55c2ce9",
   "metadata": {},
   "source": [
    "## Exercice 1\n",
    "\n",
    "- Quelle est la distribution des types de publications (`type`) du dataset en pourcentages\n",
    "- Renommer la modalité `Other` en `Autre` (regarder du côté de .replace)\n",
    "- Renomer la variable `primary_location.source.display_name` en `source` (regarder du côté de .rename)"
   ]
  },
  {
   "cell_type": "code",
   "execution_count": 4,
   "id": "f7c994ac",
   "metadata": {},
   "outputs": [],
   "source": [
    "# Commencer par importer pandas\n",
    "import pandas as pd\n",
    "\n",
    "# Et lire les données\n",
    "df = pd.read_csv(\"../../data/CSS_openalex.csv\", low_memory=False)\n",
    "# low_memory=False n'est pas obligatoire mais me permet d'éviter le message d'erreur"
   ]
  },
  {
   "cell_type": "markdown",
   "id": "37a5057c",
   "metadata": {},
   "source": [
    "> Internally process the file in chunks, resulting in lower memory use while parsing, but possibly mixed type inference. To ensure no mixed types either set False, or specify the type with the dtype parameter. Note that the entire file is read into a single DataFrame regardless, use the chunksize or iterator parameter to return the data in chunks. (Only valid with C parser)."
   ]
  },
  {
   "cell_type": "markdown",
   "id": "ca72e8c5",
   "metadata": {},
   "source": [
    "### 1.1 Distribution"
   ]
  },
  {
   "cell_type": "code",
   "execution_count": 5,
   "id": "81c82178",
   "metadata": {},
   "outputs": [
    {
     "data": {
      "text/plain": [
       "type\n",
       "article            6029\n",
       "preprint           1040\n",
       "book-chapter        605\n",
       "book                366\n",
       "review              237\n",
       "editorial           228\n",
       "dissertation        220\n",
       "paratext            191\n",
       "dataset              92\n",
       "other                73\n",
       "letter               56\n",
       "peer-review          51\n",
       "report               35\n",
       "reference-entry      34\n",
       "libguides             9\n",
       "grant                 6\n",
       "erratum               6\n",
       "Name: count, dtype: int64"
      ]
     },
     "execution_count": 5,
     "metadata": {},
     "output_type": "execute_result"
    }
   ],
   "source": [
    "# Je veux donc le nombre de publication par \"type\"\n",
    "df[\"type\"].value_counts()"
   ]
  },
  {
   "cell_type": "code",
   "execution_count": 6,
   "id": "a859b3c1",
   "metadata": {},
   "outputs": [
    {
     "data": {
      "text/plain": [
       "type\n",
       "article            0.649817\n",
       "preprint           0.112093\n",
       "book-chapter       0.065208\n",
       "book               0.039448\n",
       "review             0.025544\n",
       "editorial          0.024574\n",
       "dissertation       0.023712\n",
       "paratext           0.020586\n",
       "dataset            0.009916\n",
       "other              0.007868\n",
       "letter             0.006036\n",
       "peer-review        0.005497\n",
       "report             0.003772\n",
       "reference-entry    0.003665\n",
       "libguides          0.000970\n",
       "grant              0.000647\n",
       "erratum            0.000647\n",
       "Name: proportion, dtype: float64"
      ]
     },
     "execution_count": 6,
     "metadata": {},
     "output_type": "execute_result"
    }
   ],
   "source": [
    "# En fait je veux les fréquences :\n",
    "# donc normaliser les valeurs : normalize=True\n",
    "df[\"type\"].value_counts(normalize=True)"
   ]
  },
  {
   "cell_type": "code",
   "execution_count": null,
   "id": "1858c633",
   "metadata": {},
   "outputs": [
    {
     "data": {
      "text/plain": [
       "type\n",
       "article            64.981677\n",
       "preprint           11.209312\n",
       "book-chapter        6.520802\n",
       "book                3.944816\n",
       "review              2.554430\n",
       "editorial           2.457426\n",
       "dissertation        2.371201\n",
       "paratext            2.058633\n",
       "dataset             0.991593\n",
       "other               0.786808\n",
       "letter              0.603578\n",
       "peer-review         0.549687\n",
       "report              0.377236\n",
       "reference-entry     0.366458\n",
       "libguides           0.097004\n",
       "grant               0.064669\n",
       "erratum             0.064669\n",
       "Name: proportion, dtype: float64"
      ]
     },
     "execution_count": 8,
     "metadata": {},
     "output_type": "execute_result"
    }
   ],
   "source": [
    "# Je les veux même en pourcentage ces fréquences : *100\n",
    "df[\"type\"].value_counts(normalize=True) * 100"
   ]
  },
  {
   "cell_type": "code",
   "execution_count": null,
   "id": "52299049",
   "metadata": {},
   "outputs": [
    {
     "data": {
      "text/plain": [
       "type\n",
       "article            64.98\n",
       "preprint           11.21\n",
       "book-chapter        6.52\n",
       "book                3.94\n",
       "review              2.55\n",
       "editorial           2.46\n",
       "dissertation        2.37\n",
       "paratext            2.06\n",
       "dataset             0.99\n",
       "other               0.79\n",
       "letter              0.60\n",
       "peer-review         0.55\n",
       "report              0.38\n",
       "reference-entry     0.37\n",
       "libguides           0.10\n",
       "grant               0.06\n",
       "erratum             0.06\n",
       "Name: proportion, dtype: float64"
      ]
     },
     "execution_count": 10,
     "metadata": {},
     "output_type": "execute_result"
    }
   ],
   "source": [
    "# Et je peux arrondir :\n",
    "# la dernière valeur me permet de préciser le nb de chiffre après la virgule\n",
    "round(100 * df[\"type\"].value_counts(normalize=True), 2)"
   ]
  },
  {
   "cell_type": "markdown",
   "id": "9b246ef7",
   "metadata": {},
   "source": [
    "### 1.2 Renommer la modalité `Other` en `Autre` (regarder du côté de .replace)\n"
   ]
  },
  {
   "cell_type": "code",
   "execution_count": null,
   "id": "aaec4152",
   "metadata": {},
   "outputs": [],
   "source": [
    "# Recoder en utilisant replace\n",
    "\n",
    "df[\"type\"].replace({\"other\": \"autre\"}, inplace=True)\n",
    "# je peux utiliser inplace=True pour modifier directement le dataframe\n",
    "\n",
    "# l'alternative serait ça (que l'on retrouve pas mal) :\n",
    "# df[\"type\"] = df[\"type\"].replace({\"other\" : \"autre\"}, inplace=True)\n"
   ]
  },
  {
   "cell_type": "code",
   "execution_count": 18,
   "id": "3fe556f6",
   "metadata": {},
   "outputs": [
    {
     "data": {
      "text/plain": [
       "type\n",
       "article            6029\n",
       "preprint           1040\n",
       "book-chapter        605\n",
       "book                366\n",
       "review              237\n",
       "editorial           228\n",
       "dissertation        220\n",
       "paratext            191\n",
       "dataset              92\n",
       "autre                73\n",
       "letter               56\n",
       "peer-review          51\n",
       "report               35\n",
       "reference-entry      34\n",
       "libguides             9\n",
       "grant                 6\n",
       "erratum               6\n",
       "Name: count, dtype: int64"
      ]
     },
     "execution_count": 18,
     "metadata": {},
     "output_type": "execute_result"
    }
   ],
   "source": [
    "df[\"type\"].value_counts()"
   ]
  },
  {
   "cell_type": "code",
   "execution_count": null,
   "id": "2b1688d6",
   "metadata": {},
   "outputs": [
    {
     "data": {
      "text/plain": [
       "type\n",
       "article            6029\n",
       "pré-publication    1040\n",
       "book-chapter        605\n",
       "book                366\n",
       "review              237\n",
       "editorial           228\n",
       "dissertation        220\n",
       "paratext            191\n",
       "dataset              92\n",
       "autre                73\n",
       "letter               56\n",
       "peer-review          51\n",
       "report               35\n",
       "reference-entry      34\n",
       "libguides             9\n",
       "grant                 6\n",
       "erratum               6\n",
       "Name: count, dtype: int64"
      ]
     },
     "execution_count": 20,
     "metadata": {},
     "output_type": "execute_result"
    }
   ],
   "source": [
    "# Si on n'a qu'une modification, on peut se contenter de passer nos valeurs dans la parenthèse\n",
    "df[\"type\"] = df[\"type\"].replace(\"preprint\", \"pré-publication\")\n",
    "df[\"type\"].value_counts()"
   ]
  },
  {
   "cell_type": "code",
   "execution_count": null,
   "id": "d3f1a93f",
   "metadata": {},
   "outputs": [],
   "source": [
    "# mais le dictionnaire est pratique dès que l'on veut modifier plusieurs éléments :\n",
    "df[\"type\"].replace(\n",
    "    {\n",
    "        \"article\": \"article\",\n",
    "        \"preprint\": \"pré-publication\",\n",
    "        \"book-chapter\": \"chapitre de livre\",\n",
    "        \"book\": \"livre\",\n",
    "        \"review\": \"revue de littérature\",\n",
    "    },\n",
    "    inplace=True,\n",
    ")"
   ]
  },
  {
   "cell_type": "markdown",
   "id": "e5ec1ae5",
   "metadata": {},
   "source": [
    "### 1.3 - Renomer la variable `primary_location.source.display_name` en `source` (regarder du côté de .rename)"
   ]
  },
  {
   "cell_type": "code",
   "execution_count": 28,
   "id": "f93813cd",
   "metadata": {},
   "outputs": [],
   "source": [
    "df.rename(columns={\"primary_location.source.display_name\": \"source\"}, inplace=True)"
   ]
  },
  {
   "cell_type": "code",
   "execution_count": 29,
   "id": "e5c1b934",
   "metadata": {},
   "outputs": [
    {
     "data": {
      "text/plain": [
       "0                                                 Science\n",
       "1            The European Physical Journal Special Topics\n",
       "2                                                 Science\n",
       "3                              Annual Review of Sociology\n",
       "4       Wiley Interdisciplinary Reviews Computational ...\n",
       "                              ...                        \n",
       "9273                                                  NaN\n",
       "9274    Progress in Photovoltaics Research and Applica...\n",
       "9275                                                  NaN\n",
       "9276                                                  NaN\n",
       "9277                    Emerald Publishing Limited eBooks\n",
       "Name: source, Length: 9278, dtype: object"
      ]
     },
     "execution_count": 29,
     "metadata": {},
     "output_type": "execute_result"
    }
   ],
   "source": [
    "df[\"source\"]"
   ]
  },
  {
   "cell_type": "markdown",
   "id": "cc807e40",
   "metadata": {},
   "source": [
    "## Exercice 2\n",
    "\n",
    "- Ajouter une colonne qui correspond au nombre de mots des titres (`title`) de chaque référence.\n",
    "- Calculer le nombre de mots moyens et la variance par `source`.\n",
    "- Quelle est la `source` qui a le plus de mots, le moins de mots ?\n"
   ]
  },
  {
   "cell_type": "markdown",
   "id": "6cfb9b42",
   "metadata": {},
   "source": [
    "### 2.1 Ajouter une colonne qui correspond au nombre de mots des titres (`title`) de chaque référence.\n"
   ]
  },
  {
   "cell_type": "code",
   "execution_count": 116,
   "id": "924ab105",
   "metadata": {},
   "outputs": [
    {
     "data": {
      "text/plain": [
       "0        3.0\n",
       "1        5.0\n",
       "2        6.0\n",
       "3        5.0\n",
       "4        3.0\n",
       "        ... \n",
       "9273     7.0\n",
       "9274     5.0\n",
       "9275    17.0\n",
       "9276    17.0\n",
       "9277     1.0\n",
       "Name: title_nb_mots, Length: 9278, dtype: float64"
      ]
     },
     "execution_count": 116,
     "metadata": {},
     "output_type": "execute_result"
    }
   ],
   "source": [
    "# Facile à faire directement en pandas :\n",
    "df[\"title_nb_mots\"] = df[\"title\"].str.split().str.len()\n",
    "df[\"title_nb_mots\"]"
   ]
  },
  {
   "cell_type": "code",
   "execution_count": null,
   "id": "585b948e",
   "metadata": {},
   "outputs": [
    {
     "data": {
      "text/plain": [
       "11"
      ]
     },
     "execution_count": 113,
     "metadata": {},
     "output_type": "execute_result"
    }
   ],
   "source": [
    "# Attention, s'il n'y a rien il ne met pas 0 mais renvoie un NaN\n",
    "df[\"title_nb_mots\"].isna().sum()\n",
    "\n",
    "# j'aurai pu lui demander explicitement de renvoyer 0 en ajoutant .fillna(0)"
   ]
  },
  {
   "cell_type": "code",
   "execution_count": null,
   "id": "2bdbcf8d",
   "metadata": {},
   "outputs": [],
   "source": [
    "# On savait déjà le faire en faisant une fonction\n",
    "def compter_mots(texte):\n",
    "    texte = str(texte)\n",
    "    mots = texte.split()\n",
    "    nb_mots = len(mots)\n",
    "    return nb_mots"
   ]
  },
  {
   "cell_type": "code",
   "execution_count": null,
   "id": "07c89dfe",
   "metadata": {},
   "outputs": [
    {
     "data": {
      "text/plain": [
       "0        3\n",
       "1        5\n",
       "2        6\n",
       "3        5\n",
       "4        3\n",
       "        ..\n",
       "9273     7\n",
       "9274     5\n",
       "9275    17\n",
       "9276    17\n",
       "9277     1\n",
       "Name: title, Length: 9278, dtype: int64"
      ]
     },
     "execution_count": 38,
     "metadata": {},
     "output_type": "execute_result"
    }
   ],
   "source": [
    "# Que l'on peut appliquer avec apply :\n",
    "df[\"title\"].apply(compter_mots)"
   ]
  },
  {
   "cell_type": "code",
   "execution_count": null,
   "id": "243a2ba8",
   "metadata": {},
   "outputs": [
    {
     "data": {
      "text/plain": [
       "0        3\n",
       "1        5\n",
       "2        6\n",
       "3        5\n",
       "4        3\n",
       "        ..\n",
       "9273     7\n",
       "9274     5\n",
       "9275    17\n",
       "9276    17\n",
       "9277     1\n",
       "Name: title, Length: 9278, dtype: int64"
      ]
     },
     "execution_count": 39,
     "metadata": {},
     "output_type": "execute_result"
    }
   ],
   "source": [
    "# pareil que ça avec de la compréhension de liste :\n",
    "df[\"title\"].apply(lambda x: len(str(x).split()))"
   ]
  },
  {
   "cell_type": "markdown",
   "id": "8cf35e57",
   "metadata": {},
   "source": [
    "### 2.2 Calculer le nombre de mots moyens et la variance par `source`."
   ]
  },
  {
   "cell_type": "code",
   "execution_count": 56,
   "id": "314b80e0",
   "metadata": {},
   "outputs": [
    {
     "data": {
      "text/plain": [
       "source\n",
       "027 7 Zeitschrift für Bibliothekskultur                                                                6.000000\n",
       "2003 IEEE Power Engineering Society General Meeting (IEEE Cat. No.03CH37491)                           9.000000\n",
       "2013 Winter Simulations Conference (WSC)                                                              12.000000\n",
       "2015 IEEE Global Communications Conference (GLOBECOM)                                                 12.000000\n",
       "2016 IEEE/ACM International Conference on Advances in Social Networks Analysis and Mining (ASONAM)     9.666667\n",
       "                                                                                                        ...    \n",
       "대한산업공학회 추계학술대회 논문집                                                                                     7.000000\n",
       "사회과학논총                                                                                                 4.000000\n",
       "언론과 사회                                                                                                20.000000\n",
       "한국자동차공학회 Workshop                                                                                     14.500000\n",
       "한국전산유체공학회 학술대회논문집                                                                                      6.000000\n",
       "Name: title_nb_mots, Length: 2839, dtype: float64"
      ]
     },
     "execution_count": 56,
     "metadata": {},
     "output_type": "execute_result"
    }
   ],
   "source": [
    "# je veux donc grouper par source\n",
    "# puis calculer la moyenne et la variance du nombre de mots\n",
    "df.groupby(\"source\")[\"title_nb_mots\"].mean()"
   ]
  },
  {
   "cell_type": "code",
   "execution_count": 57,
   "id": "c85d7585",
   "metadata": {},
   "outputs": [
    {
     "data": {
      "text/plain": [
       "source\n",
       "027 7 Zeitschrift für Bibliothekskultur                                                                     NaN\n",
       "2003 IEEE Power Engineering Society General Meeting (IEEE Cat. No.03CH37491)                                NaN\n",
       "2013 Winter Simulations Conference (WSC)                                                                    NaN\n",
       "2015 IEEE Global Communications Conference (GLOBECOM)                                                       NaN\n",
       "2016 IEEE/ACM International Conference on Advances in Social Networks Analysis and Mining (ASONAM)    11.066667\n",
       "                                                                                                        ...    \n",
       "대한산업공학회 추계학술대회 논문집                                                                                          NaN\n",
       "사회과학논총                                                                                                      NaN\n",
       "언론과 사회                                                                                                      NaN\n",
       "한국자동차공학회 Workshop                                                                                      0.500000\n",
       "한국전산유체공학회 학술대회논문집                                                                                           NaN\n",
       "Name: title_nb_mots, Length: 2839, dtype: float64"
      ]
     },
     "execution_count": 57,
     "metadata": {},
     "output_type": "execute_result"
    }
   ],
   "source": [
    "df.groupby(\"source\")[\"title_nb_mots\"].var()"
   ]
  },
  {
   "cell_type": "code",
   "execution_count": 58,
   "id": "c6d2dcba",
   "metadata": {},
   "outputs": [
    {
     "data": {
      "text/html": [
       "<div>\n",
       "<style scoped>\n",
       "    .dataframe tbody tr th:only-of-type {\n",
       "        vertical-align: middle;\n",
       "    }\n",
       "\n",
       "    .dataframe tbody tr th {\n",
       "        vertical-align: top;\n",
       "    }\n",
       "\n",
       "    .dataframe thead th {\n",
       "        text-align: right;\n",
       "    }\n",
       "</style>\n",
       "<table border=\"1\" class=\"dataframe\">\n",
       "  <thead>\n",
       "    <tr style=\"text-align: right;\">\n",
       "      <th></th>\n",
       "      <th>mean</th>\n",
       "      <th>median</th>\n",
       "      <th>var</th>\n",
       "      <th>std</th>\n",
       "    </tr>\n",
       "    <tr>\n",
       "      <th>source</th>\n",
       "      <th></th>\n",
       "      <th></th>\n",
       "      <th></th>\n",
       "      <th></th>\n",
       "    </tr>\n",
       "  </thead>\n",
       "  <tbody>\n",
       "    <tr>\n",
       "      <th>027 7 Zeitschrift für Bibliothekskultur</th>\n",
       "      <td>6.000000</td>\n",
       "      <td>6.0</td>\n",
       "      <td>NaN</td>\n",
       "      <td>NaN</td>\n",
       "    </tr>\n",
       "    <tr>\n",
       "      <th>2003 IEEE Power Engineering Society General Meeting (IEEE Cat. No.03CH37491)</th>\n",
       "      <td>9.000000</td>\n",
       "      <td>9.0</td>\n",
       "      <td>NaN</td>\n",
       "      <td>NaN</td>\n",
       "    </tr>\n",
       "    <tr>\n",
       "      <th>2013 Winter Simulations Conference (WSC)</th>\n",
       "      <td>12.000000</td>\n",
       "      <td>12.0</td>\n",
       "      <td>NaN</td>\n",
       "      <td>NaN</td>\n",
       "    </tr>\n",
       "    <tr>\n",
       "      <th>2015 IEEE Global Communications Conference (GLOBECOM)</th>\n",
       "      <td>12.000000</td>\n",
       "      <td>12.0</td>\n",
       "      <td>NaN</td>\n",
       "      <td>NaN</td>\n",
       "    </tr>\n",
       "    <tr>\n",
       "      <th>2016 IEEE/ACM International Conference on Advances in Social Networks Analysis and Mining (ASONAM)</th>\n",
       "      <td>9.666667</td>\n",
       "      <td>11.0</td>\n",
       "      <td>11.066667</td>\n",
       "      <td>3.326660</td>\n",
       "    </tr>\n",
       "    <tr>\n",
       "      <th>...</th>\n",
       "      <td>...</td>\n",
       "      <td>...</td>\n",
       "      <td>...</td>\n",
       "      <td>...</td>\n",
       "    </tr>\n",
       "    <tr>\n",
       "      <th>대한산업공학회 추계학술대회 논문집</th>\n",
       "      <td>7.000000</td>\n",
       "      <td>7.0</td>\n",
       "      <td>NaN</td>\n",
       "      <td>NaN</td>\n",
       "    </tr>\n",
       "    <tr>\n",
       "      <th>사회과학논총</th>\n",
       "      <td>4.000000</td>\n",
       "      <td>4.0</td>\n",
       "      <td>NaN</td>\n",
       "      <td>NaN</td>\n",
       "    </tr>\n",
       "    <tr>\n",
       "      <th>언론과 사회</th>\n",
       "      <td>20.000000</td>\n",
       "      <td>20.0</td>\n",
       "      <td>NaN</td>\n",
       "      <td>NaN</td>\n",
       "    </tr>\n",
       "    <tr>\n",
       "      <th>한국자동차공학회 Workshop</th>\n",
       "      <td>14.500000</td>\n",
       "      <td>14.5</td>\n",
       "      <td>0.500000</td>\n",
       "      <td>0.707107</td>\n",
       "    </tr>\n",
       "    <tr>\n",
       "      <th>한국전산유체공학회 학술대회논문집</th>\n",
       "      <td>6.000000</td>\n",
       "      <td>6.0</td>\n",
       "      <td>NaN</td>\n",
       "      <td>NaN</td>\n",
       "    </tr>\n",
       "  </tbody>\n",
       "</table>\n",
       "<p>2839 rows × 4 columns</p>\n",
       "</div>"
      ],
      "text/plain": [
       "                                                         mean  median  \\\n",
       "source                                                                  \n",
       "027 7 Zeitschrift für Bibliothekskultur              6.000000     6.0   \n",
       "2003 IEEE Power Engineering Society General Mee...   9.000000     9.0   \n",
       "2013 Winter Simulations Conference (WSC)            12.000000    12.0   \n",
       "2015 IEEE Global Communications Conference (GLO...  12.000000    12.0   \n",
       "2016 IEEE/ACM International Conference on Advan...   9.666667    11.0   \n",
       "...                                                       ...     ...   \n",
       "대한산업공학회 추계학술대회 논문집                                   7.000000     7.0   \n",
       "사회과학논총                                               4.000000     4.0   \n",
       "언론과 사회                                              20.000000    20.0   \n",
       "한국자동차공학회 Workshop                                   14.500000    14.5   \n",
       "한국전산유체공학회 학술대회논문집                                    6.000000     6.0   \n",
       "\n",
       "                                                          var       std  \n",
       "source                                                                   \n",
       "027 7 Zeitschrift für Bibliothekskultur                   NaN       NaN  \n",
       "2003 IEEE Power Engineering Society General Mee...        NaN       NaN  \n",
       "2013 Winter Simulations Conference (WSC)                  NaN       NaN  \n",
       "2015 IEEE Global Communications Conference (GLO...        NaN       NaN  \n",
       "2016 IEEE/ACM International Conference on Advan...  11.066667  3.326660  \n",
       "...                                                       ...       ...  \n",
       "대한산업공학회 추계학술대회 논문집                                        NaN       NaN  \n",
       "사회과학논총                                                    NaN       NaN  \n",
       "언론과 사회                                                    NaN       NaN  \n",
       "한국자동차공학회 Workshop                                    0.500000  0.707107  \n",
       "한국전산유체공학회 학술대회논문집                                         NaN       NaN  \n",
       "\n",
       "[2839 rows x 4 columns]"
      ]
     },
     "execution_count": 58,
     "metadata": {},
     "output_type": "execute_result"
    }
   ],
   "source": [
    "# Pour mettre tout en même temps avec .agg()\n",
    "df.groupby(\"source\")[\"title_nb_mots\"].agg([\"mean\", \"median\", \"var\", \"std\"])"
   ]
  },
  {
   "cell_type": "markdown",
   "id": "4b4370ac",
   "metadata": {},
   "source": [
    "### 2.3 Quelle est la `source` qui a le plus de mots, le moins de mots ?"
   ]
  },
  {
   "cell_type": "code",
   "execution_count": 59,
   "id": "0cd9eb1e",
   "metadata": {},
   "outputs": [
    {
     "data": {
      "text/html": [
       "<div>\n",
       "<style scoped>\n",
       "    .dataframe tbody tr th:only-of-type {\n",
       "        vertical-align: middle;\n",
       "    }\n",
       "\n",
       "    .dataframe tbody tr th {\n",
       "        vertical-align: top;\n",
       "    }\n",
       "\n",
       "    .dataframe thead th {\n",
       "        text-align: right;\n",
       "    }\n",
       "</style>\n",
       "<table border=\"1\" class=\"dataframe\">\n",
       "  <thead>\n",
       "    <tr style=\"text-align: right;\">\n",
       "      <th></th>\n",
       "      <th>id</th>\n",
       "      <th>doi</th>\n",
       "      <th>title</th>\n",
       "      <th>display_name</th>\n",
       "      <th>relevance_score</th>\n",
       "      <th>publication_year</th>\n",
       "      <th>publication_date</th>\n",
       "      <th>language</th>\n",
       "      <th>type</th>\n",
       "      <th>type_crossref</th>\n",
       "      <th>...</th>\n",
       "      <th>locations.source</th>\n",
       "      <th>sustainable_development_goals.id</th>\n",
       "      <th>sustainable_development_goals.score</th>\n",
       "      <th>sustainable_development_goals.display_name</th>\n",
       "      <th>grants.funder</th>\n",
       "      <th>grants.funder_display_name</th>\n",
       "      <th>grants.award_id</th>\n",
       "      <th>counts_by_year.year</th>\n",
       "      <th>counts_by_year.cited_by_count</th>\n",
       "      <th>title_nb_mots</th>\n",
       "    </tr>\n",
       "  </thead>\n",
       "  <tbody>\n",
       "    <tr>\n",
       "      <th>8436</th>\n",
       "      <td>https://openalex.org/W4240168113</td>\n",
       "      <td>https://doi.org/10.1021/ja076933d</td>\n",
       "      <td>Applied Modeling and Computations in Nuclear S...</td>\n",
       "      <td>Applied Modeling and Computations in Nuclear S...</td>\n",
       "      <td>0.438282</td>\n",
       "      <td>2007</td>\n",
       "      <td>2007-04-21</td>\n",
       "      <td>en</td>\n",
       "      <td>article</td>\n",
       "      <td>journal-article</td>\n",
       "      <td>...</td>\n",
       "      <td>NaN</td>\n",
       "      <td>NaN</td>\n",
       "      <td>NaN</td>\n",
       "      <td>NaN</td>\n",
       "      <td>NaN</td>\n",
       "      <td>NaN</td>\n",
       "      <td>NaN</td>\n",
       "      <td>NaN</td>\n",
       "      <td>NaN</td>\n",
       "      <td>70.0</td>\n",
       "    </tr>\n",
       "  </tbody>\n",
       "</table>\n",
       "<p>1 rows × 184 columns</p>\n",
       "</div>"
      ],
      "text/plain": [
       "                                    id                                doi  \\\n",
       "8436  https://openalex.org/W4240168113  https://doi.org/10.1021/ja076933d   \n",
       "\n",
       "                                                  title  \\\n",
       "8436  Applied Modeling and Computations in Nuclear S...   \n",
       "\n",
       "                                           display_name  relevance_score  \\\n",
       "8436  Applied Modeling and Computations in Nuclear S...         0.438282   \n",
       "\n",
       "      publication_year publication_date language     type    type_crossref  \\\n",
       "8436              2007       2007-04-21       en  article  journal-article   \n",
       "\n",
       "      ... locations.source  sustainable_development_goals.id  \\\n",
       "8436  ...              NaN                               NaN   \n",
       "\n",
       "      sustainable_development_goals.score  \\\n",
       "8436                                  NaN   \n",
       "\n",
       "     sustainable_development_goals.display_name grants.funder  \\\n",
       "8436                                        NaN           NaN   \n",
       "\n",
       "      grants.funder_display_name  grants.award_id  counts_by_year.year  \\\n",
       "8436                         NaN              NaN                  NaN   \n",
       "\n",
       "      counts_by_year.cited_by_count title_nb_mots  \n",
       "8436                            NaN          70.0  \n",
       "\n",
       "[1 rows x 184 columns]"
      ]
     },
     "execution_count": 59,
     "metadata": {},
     "output_type": "execute_result"
    }
   ],
   "source": [
    "df[df[\"title_nb_mots\"] == df[\"title_nb_mots\"].max()]"
   ]
  },
  {
   "cell_type": "code",
   "execution_count": null,
   "id": "e3725017",
   "metadata": {},
   "outputs": [
    {
     "data": {
      "text/html": [
       "<div>\n",
       "<style scoped>\n",
       "    .dataframe tbody tr th:only-of-type {\n",
       "        vertical-align: middle;\n",
       "    }\n",
       "\n",
       "    .dataframe tbody tr th {\n",
       "        vertical-align: top;\n",
       "    }\n",
       "\n",
       "    .dataframe thead th {\n",
       "        text-align: right;\n",
       "    }\n",
       "</style>\n",
       "<table border=\"1\" class=\"dataframe\">\n",
       "  <thead>\n",
       "    <tr style=\"text-align: right;\">\n",
       "      <th></th>\n",
       "      <th>id</th>\n",
       "      <th>doi</th>\n",
       "      <th>title</th>\n",
       "      <th>display_name</th>\n",
       "      <th>relevance_score</th>\n",
       "      <th>publication_year</th>\n",
       "      <th>publication_date</th>\n",
       "      <th>language</th>\n",
       "      <th>type</th>\n",
       "      <th>type_crossref</th>\n",
       "      <th>...</th>\n",
       "      <th>locations.source</th>\n",
       "      <th>sustainable_development_goals.id</th>\n",
       "      <th>sustainable_development_goals.score</th>\n",
       "      <th>sustainable_development_goals.display_name</th>\n",
       "      <th>grants.funder</th>\n",
       "      <th>grants.funder_display_name</th>\n",
       "      <th>grants.award_id</th>\n",
       "      <th>counts_by_year.year</th>\n",
       "      <th>counts_by_year.cited_by_count</th>\n",
       "      <th>title_nb_mots</th>\n",
       "    </tr>\n",
       "  </thead>\n",
       "  <tbody>\n",
       "    <tr>\n",
       "      <th>529</th>\n",
       "      <td>https://openalex.org/W1521943649</td>\n",
       "      <td>https://doi.org/10.7551/mitpress/9780262014601...</td>\n",
       "      <td>Enaction</td>\n",
       "      <td>Enaction</td>\n",
       "      <td>27.741528</td>\n",
       "      <td>2010</td>\n",
       "      <td>2010-11-24</td>\n",
       "      <td>en</td>\n",
       "      <td>livre</td>\n",
       "      <td>edited-book</td>\n",
       "      <td>...</td>\n",
       "      <td>NaN</td>\n",
       "      <td>https://metadata.un.org/sdg/4</td>\n",
       "      <td>0.71</td>\n",
       "      <td>Quality education</td>\n",
       "      <td>NaN</td>\n",
       "      <td>NaN</td>\n",
       "      <td>NaN</td>\n",
       "      <td>2025|2024|2023|2022|2021|2020|2019|2018|2017|2...</td>\n",
       "      <td>7|10|19|18|25|50|40|40|65|37|45|49|55|30</td>\n",
       "      <td>1.0</td>\n",
       "    </tr>\n",
       "    <tr>\n",
       "      <th>749</th>\n",
       "      <td>https://openalex.org/W2331936027</td>\n",
       "      <td>https://doi.org/10.1097/ede.0b013e318225c2be</td>\n",
       "      <td>DAGitty</td>\n",
       "      <td>DAGitty</td>\n",
       "      <td>20.227100</td>\n",
       "      <td>2011</td>\n",
       "      <td>2011-08-02</td>\n",
       "      <td>en</td>\n",
       "      <td>letter</td>\n",
       "      <td>journal-article</td>\n",
       "      <td>...</td>\n",
       "      <td>nan|nan|nan</td>\n",
       "      <td>https://metadata.un.org/sdg/3</td>\n",
       "      <td>0.76</td>\n",
       "      <td>Good health and well-being</td>\n",
       "      <td>NaN</td>\n",
       "      <td>NaN</td>\n",
       "      <td>NaN</td>\n",
       "      <td>2025|2024|2023|2022|2021|2020|2019|2018|2017|2...</td>\n",
       "      <td>35|97|115|99|98|105|112|102|99|91|61|48|22|5</td>\n",
       "      <td>1.0</td>\n",
       "    </tr>\n",
       "    <tr>\n",
       "      <th>879</th>\n",
       "      <td>https://openalex.org/W4255682086</td>\n",
       "      <td>https://doi.org/10.7551/mitpress/9780262029537...</td>\n",
       "      <td>Control</td>\n",
       "      <td>Control</td>\n",
       "      <td>16.078379</td>\n",
       "      <td>2015</td>\n",
       "      <td>2015-09-04</td>\n",
       "      <td>en</td>\n",
       "      <td>livre</td>\n",
       "      <td>edited-book</td>\n",
       "      <td>...</td>\n",
       "      <td>NaN</td>\n",
       "      <td>NaN</td>\n",
       "      <td>NaN</td>\n",
       "      <td>NaN</td>\n",
       "      <td>NaN</td>\n",
       "      <td>NaN</td>\n",
       "      <td>NaN</td>\n",
       "      <td>2025|2024|2023|2022|2021|2020|2019|2018|2017|2016</td>\n",
       "      <td>5|19|19|17|39|18|4|20|11|6</td>\n",
       "      <td>1.0</td>\n",
       "    </tr>\n",
       "    <tr>\n",
       "      <th>921</th>\n",
       "      <td>https://openalex.org/W2963323905</td>\n",
       "      <td>https://doi.org/10.1145/3178876.3186021</td>\n",
       "      <td>MemeSequencer</td>\n",
       "      <td>MemeSequencer</td>\n",
       "      <td>15.255738</td>\n",
       "      <td>2018</td>\n",
       "      <td>2018-01-01</td>\n",
       "      <td>en</td>\n",
       "      <td>article</td>\n",
       "      <td>proceedings-article</td>\n",
       "      <td>...</td>\n",
       "      <td>nan|nan</td>\n",
       "      <td>https://metadata.un.org/sdg/10</td>\n",
       "      <td>0.65</td>\n",
       "      <td>Reduced inequalities</td>\n",
       "      <td>NaN</td>\n",
       "      <td>NaN</td>\n",
       "      <td>NaN</td>\n",
       "      <td>2024|2023|2022|2021|2020|2018</td>\n",
       "      <td>1|5|3|7|1|1</td>\n",
       "      <td>1.0</td>\n",
       "    </tr>\n",
       "    <tr>\n",
       "      <th>1130</th>\n",
       "      <td>https://openalex.org/W2103211051</td>\n",
       "      <td>https://doi.org/10.1145/2441955.2441962</td>\n",
       "      <td>Truthy</td>\n",
       "      <td>Truthy</td>\n",
       "      <td>11.725438</td>\n",
       "      <td>2013</td>\n",
       "      <td>2013-02-22</td>\n",
       "      <td>en</td>\n",
       "      <td>article</td>\n",
       "      <td>proceedings-article</td>\n",
       "      <td>...</td>\n",
       "      <td>NaN</td>\n",
       "      <td>NaN</td>\n",
       "      <td>NaN</td>\n",
       "      <td>NaN</td>\n",
       "      <td>NaN</td>\n",
       "      <td>NaN</td>\n",
       "      <td>NaN</td>\n",
       "      <td>2023|2022|2021|2020|2019|2018|2017|2016|2015|2...</td>\n",
       "      <td>1|1|2|19|2|4|3|3|6|9|3</td>\n",
       "      <td>1.0</td>\n",
       "    </tr>\n",
       "    <tr>\n",
       "      <th>...</th>\n",
       "      <td>...</td>\n",
       "      <td>...</td>\n",
       "      <td>...</td>\n",
       "      <td>...</td>\n",
       "      <td>...</td>\n",
       "      <td>...</td>\n",
       "      <td>...</td>\n",
       "      <td>...</td>\n",
       "      <td>...</td>\n",
       "      <td>...</td>\n",
       "      <td>...</td>\n",
       "      <td>...</td>\n",
       "      <td>...</td>\n",
       "      <td>...</td>\n",
       "      <td>...</td>\n",
       "      <td>...</td>\n",
       "      <td>...</td>\n",
       "      <td>...</td>\n",
       "      <td>...</td>\n",
       "      <td>...</td>\n",
       "      <td>...</td>\n",
       "    </tr>\n",
       "    <tr>\n",
       "      <th>9230</th>\n",
       "      <td>https://openalex.org/W4233867325</td>\n",
       "      <td>https://doi.org/10.1108/s0731-905320200000041017</td>\n",
       "      <td>Index</td>\n",
       "      <td>Index</td>\n",
       "      <td>0.115275</td>\n",
       "      <td>2020</td>\n",
       "      <td>2020-03-27</td>\n",
       "      <td>en</td>\n",
       "      <td>paratext</td>\n",
       "      <td>other</td>\n",
       "      <td>...</td>\n",
       "      <td>NaN</td>\n",
       "      <td>NaN</td>\n",
       "      <td>NaN</td>\n",
       "      <td>NaN</td>\n",
       "      <td>NaN</td>\n",
       "      <td>NaN</td>\n",
       "      <td>NaN</td>\n",
       "      <td>NaN</td>\n",
       "      <td>NaN</td>\n",
       "      <td>1.0</td>\n",
       "    </tr>\n",
       "    <tr>\n",
       "      <th>9231</th>\n",
       "      <td>https://openalex.org/W4246127673</td>\n",
       "      <td>https://doi.org/10.1108/s1569-375920180000099015</td>\n",
       "      <td>Index</td>\n",
       "      <td>Index</td>\n",
       "      <td>0.112926</td>\n",
       "      <td>2018</td>\n",
       "      <td>2018-06-12</td>\n",
       "      <td>en</td>\n",
       "      <td>paratext</td>\n",
       "      <td>other</td>\n",
       "      <td>...</td>\n",
       "      <td>NaN</td>\n",
       "      <td>NaN</td>\n",
       "      <td>NaN</td>\n",
       "      <td>NaN</td>\n",
       "      <td>NaN</td>\n",
       "      <td>NaN</td>\n",
       "      <td>NaN</td>\n",
       "      <td>NaN</td>\n",
       "      <td>NaN</td>\n",
       "      <td>1.0</td>\n",
       "    </tr>\n",
       "    <tr>\n",
       "      <th>9241</th>\n",
       "      <td>https://openalex.org/W4376627115</td>\n",
       "      <td>https://doi.org/10.1108/s1569-37592023000110a017</td>\n",
       "      <td>Index</td>\n",
       "      <td>Index</td>\n",
       "      <td>0.100181</td>\n",
       "      <td>2023</td>\n",
       "      <td>2023-05-15</td>\n",
       "      <td>en</td>\n",
       "      <td>paratext</td>\n",
       "      <td>other</td>\n",
       "      <td>...</td>\n",
       "      <td>NaN</td>\n",
       "      <td>NaN</td>\n",
       "      <td>NaN</td>\n",
       "      <td>NaN</td>\n",
       "      <td>NaN</td>\n",
       "      <td>NaN</td>\n",
       "      <td>NaN</td>\n",
       "      <td>NaN</td>\n",
       "      <td>NaN</td>\n",
       "      <td>1.0</td>\n",
       "    </tr>\n",
       "    <tr>\n",
       "      <th>9250</th>\n",
       "      <td>https://openalex.org/W4387148366</td>\n",
       "      <td>https://doi.org/10.1108/978-1-83753-022-920231015</td>\n",
       "      <td>Index</td>\n",
       "      <td>Index</td>\n",
       "      <td>0.088175</td>\n",
       "      <td>2023</td>\n",
       "      <td>2023-09-28</td>\n",
       "      <td>en</td>\n",
       "      <td>paratext</td>\n",
       "      <td>other</td>\n",
       "      <td>...</td>\n",
       "      <td>NaN</td>\n",
       "      <td>NaN</td>\n",
       "      <td>NaN</td>\n",
       "      <td>NaN</td>\n",
       "      <td>NaN</td>\n",
       "      <td>NaN</td>\n",
       "      <td>NaN</td>\n",
       "      <td>NaN</td>\n",
       "      <td>NaN</td>\n",
       "      <td>1.0</td>\n",
       "    </tr>\n",
       "    <tr>\n",
       "      <th>9277</th>\n",
       "      <td>https://openalex.org/W4205865606</td>\n",
       "      <td>https://doi.org/10.1108/978-1-83982-198-120211030</td>\n",
       "      <td>Index</td>\n",
       "      <td>Index</td>\n",
       "      <td>0.051192</td>\n",
       "      <td>2021</td>\n",
       "      <td>2021-02-26</td>\n",
       "      <td>en</td>\n",
       "      <td>paratext</td>\n",
       "      <td>other</td>\n",
       "      <td>...</td>\n",
       "      <td>NaN</td>\n",
       "      <td>https://metadata.un.org/sdg/9</td>\n",
       "      <td>0.57</td>\n",
       "      <td>Industry, innovation and infrastructure</td>\n",
       "      <td>NaN</td>\n",
       "      <td>NaN</td>\n",
       "      <td>NaN</td>\n",
       "      <td>NaN</td>\n",
       "      <td>NaN</td>\n",
       "      <td>1.0</td>\n",
       "    </tr>\n",
       "  </tbody>\n",
       "</table>\n",
       "<p>222 rows × 184 columns</p>\n",
       "</div>"
      ],
      "text/plain": [
       "                                    id  \\\n",
       "529   https://openalex.org/W1521943649   \n",
       "749   https://openalex.org/W2331936027   \n",
       "879   https://openalex.org/W4255682086   \n",
       "921   https://openalex.org/W2963323905   \n",
       "1130  https://openalex.org/W2103211051   \n",
       "...                                ...   \n",
       "9230  https://openalex.org/W4233867325   \n",
       "9231  https://openalex.org/W4246127673   \n",
       "9241  https://openalex.org/W4376627115   \n",
       "9250  https://openalex.org/W4387148366   \n",
       "9277  https://openalex.org/W4205865606   \n",
       "\n",
       "                                                    doi          title  \\\n",
       "529   https://doi.org/10.7551/mitpress/9780262014601...       Enaction   \n",
       "749        https://doi.org/10.1097/ede.0b013e318225c2be        DAGitty   \n",
       "879   https://doi.org/10.7551/mitpress/9780262029537...        Control   \n",
       "921             https://doi.org/10.1145/3178876.3186021  MemeSequencer   \n",
       "1130            https://doi.org/10.1145/2441955.2441962         Truthy   \n",
       "...                                                 ...            ...   \n",
       "9230   https://doi.org/10.1108/s0731-905320200000041017          Index   \n",
       "9231   https://doi.org/10.1108/s1569-375920180000099015          Index   \n",
       "9241   https://doi.org/10.1108/s1569-37592023000110a017          Index   \n",
       "9250  https://doi.org/10.1108/978-1-83753-022-920231015          Index   \n",
       "9277  https://doi.org/10.1108/978-1-83982-198-120211030          Index   \n",
       "\n",
       "       display_name  relevance_score  publication_year publication_date  \\\n",
       "529        Enaction        27.741528              2010       2010-11-24   \n",
       "749         DAGitty        20.227100              2011       2011-08-02   \n",
       "879         Control        16.078379              2015       2015-09-04   \n",
       "921   MemeSequencer        15.255738              2018       2018-01-01   \n",
       "1130         Truthy        11.725438              2013       2013-02-22   \n",
       "...             ...              ...               ...              ...   \n",
       "9230          Index         0.115275              2020       2020-03-27   \n",
       "9231          Index         0.112926              2018       2018-06-12   \n",
       "9241          Index         0.100181              2023       2023-05-15   \n",
       "9250          Index         0.088175              2023       2023-09-28   \n",
       "9277          Index         0.051192              2021       2021-02-26   \n",
       "\n",
       "     language      type        type_crossref  ... locations.source  \\\n",
       "529        en     livre          edited-book  ...              NaN   \n",
       "749        en    letter      journal-article  ...      nan|nan|nan   \n",
       "879        en     livre          edited-book  ...              NaN   \n",
       "921        en   article  proceedings-article  ...          nan|nan   \n",
       "1130       en   article  proceedings-article  ...              NaN   \n",
       "...       ...       ...                  ...  ...              ...   \n",
       "9230       en  paratext                other  ...              NaN   \n",
       "9231       en  paratext                other  ...              NaN   \n",
       "9241       en  paratext                other  ...              NaN   \n",
       "9250       en  paratext                other  ...              NaN   \n",
       "9277       en  paratext                other  ...              NaN   \n",
       "\n",
       "      sustainable_development_goals.id  sustainable_development_goals.score  \\\n",
       "529      https://metadata.un.org/sdg/4                                 0.71   \n",
       "749      https://metadata.un.org/sdg/3                                 0.76   \n",
       "879                                NaN                                  NaN   \n",
       "921     https://metadata.un.org/sdg/10                                 0.65   \n",
       "1130                               NaN                                  NaN   \n",
       "...                                ...                                  ...   \n",
       "9230                               NaN                                  NaN   \n",
       "9231                               NaN                                  NaN   \n",
       "9241                               NaN                                  NaN   \n",
       "9250                               NaN                                  NaN   \n",
       "9277     https://metadata.un.org/sdg/9                                 0.57   \n",
       "\n",
       "     sustainable_development_goals.display_name grants.funder  \\\n",
       "529                           Quality education           NaN   \n",
       "749                  Good health and well-being           NaN   \n",
       "879                                         NaN           NaN   \n",
       "921                        Reduced inequalities           NaN   \n",
       "1130                                        NaN           NaN   \n",
       "...                                         ...           ...   \n",
       "9230                                        NaN           NaN   \n",
       "9231                                        NaN           NaN   \n",
       "9241                                        NaN           NaN   \n",
       "9250                                        NaN           NaN   \n",
       "9277    Industry, innovation and infrastructure           NaN   \n",
       "\n",
       "      grants.funder_display_name  grants.award_id  \\\n",
       "529                          NaN              NaN   \n",
       "749                          NaN              NaN   \n",
       "879                          NaN              NaN   \n",
       "921                          NaN              NaN   \n",
       "1130                         NaN              NaN   \n",
       "...                          ...              ...   \n",
       "9230                         NaN              NaN   \n",
       "9231                         NaN              NaN   \n",
       "9241                         NaN              NaN   \n",
       "9250                         NaN              NaN   \n",
       "9277                         NaN              NaN   \n",
       "\n",
       "                                    counts_by_year.year  \\\n",
       "529   2025|2024|2023|2022|2021|2020|2019|2018|2017|2...   \n",
       "749   2025|2024|2023|2022|2021|2020|2019|2018|2017|2...   \n",
       "879   2025|2024|2023|2022|2021|2020|2019|2018|2017|2016   \n",
       "921                       2024|2023|2022|2021|2020|2018   \n",
       "1130  2023|2022|2021|2020|2019|2018|2017|2016|2015|2...   \n",
       "...                                                 ...   \n",
       "9230                                                NaN   \n",
       "9231                                                NaN   \n",
       "9241                                                NaN   \n",
       "9250                                                NaN   \n",
       "9277                                                NaN   \n",
       "\n",
       "                     counts_by_year.cited_by_count title_nb_mots  \n",
       "529       7|10|19|18|25|50|40|40|65|37|45|49|55|30           1.0  \n",
       "749   35|97|115|99|98|105|112|102|99|91|61|48|22|5           1.0  \n",
       "879                     5|19|19|17|39|18|4|20|11|6           1.0  \n",
       "921                                    1|5|3|7|1|1           1.0  \n",
       "1130                        1|1|2|19|2|4|3|3|6|9|3           1.0  \n",
       "...                                            ...           ...  \n",
       "9230                                           NaN           1.0  \n",
       "9231                                           NaN           1.0  \n",
       "9241                                           NaN           1.0  \n",
       "9250                                           NaN           1.0  \n",
       "9277                                           NaN           1.0  \n",
       "\n",
       "[222 rows x 184 columns]"
      ]
     },
     "execution_count": 60,
     "metadata": {},
     "output_type": "execute_result"
    }
   ],
   "source": [
    "df[df[\"title_nb_mots\"] == df[\"title_nb_mots\"].min()]"
   ]
  },
  {
   "cell_type": "code",
   "execution_count": 61,
   "id": "aac3d5c6",
   "metadata": {},
   "outputs": [
    {
     "data": {
      "text/plain": [
       "id                                                https://openalex.org/W4240168113\n",
       "doi                                              https://doi.org/10.1021/ja076933d\n",
       "title                            Applied Modeling and Computations in Nuclear S...\n",
       "display_name                     Applied Modeling and Computations in Nuclear S...\n",
       "relevance_score                                                           0.438282\n",
       "                                                       ...                        \n",
       "grants.funder_display_name                                                     NaN\n",
       "grants.award_id                                                                NaN\n",
       "counts_by_year.year                                                            NaN\n",
       "counts_by_year.cited_by_count                                                  NaN\n",
       "title_nb_mots                                                                 70.0\n",
       "Name: 8436, Length: 184, dtype: object"
      ]
     },
     "execution_count": 61,
     "metadata": {},
     "output_type": "execute_result"
    }
   ],
   "source": [
    "df.loc[df[\"title_nb_mots\"].idxmax()]"
   ]
  },
  {
   "cell_type": "code",
   "execution_count": 69,
   "id": "4f812ddc",
   "metadata": {},
   "outputs": [
    {
     "data": {
      "text/plain": [
       "'Journal of the American Chemical Society'"
      ]
     },
     "execution_count": 69,
     "metadata": {},
     "output_type": "execute_result"
    }
   ],
   "source": [
    "df.loc[df[\"title_nb_mots\"].idxmax(), \"source\"]"
   ]
  },
  {
   "cell_type": "markdown",
   "id": "4be2cb15",
   "metadata": {},
   "source": [
    "`If multiple values equal the maximum, the first row label with that value is returned.`"
   ]
  },
  {
   "cell_type": "code",
   "execution_count": 71,
   "id": "e17eff58",
   "metadata": {},
   "outputs": [
    {
     "data": {
      "text/plain": [
       "id                                                https://openalex.org/W1521943649\n",
       "doi                              https://doi.org/10.7551/mitpress/9780262014601...\n",
       "title                                                                     Enaction\n",
       "display_name                                                              Enaction\n",
       "relevance_score                                                          27.741528\n",
       "                                                       ...                        \n",
       "grants.funder_display_name                                                     NaN\n",
       "grants.award_id                                                                NaN\n",
       "counts_by_year.year              2025|2024|2023|2022|2021|2020|2019|2018|2017|2...\n",
       "counts_by_year.cited_by_count             7|10|19|18|25|50|40|40|65|37|45|49|55|30\n",
       "title_nb_mots                                                                  1.0\n",
       "Name: 529, Length: 184, dtype: object"
      ]
     },
     "execution_count": 71,
     "metadata": {},
     "output_type": "execute_result"
    }
   ],
   "source": [
    "df.loc[df[\"title_nb_mots\"].idxmin()]"
   ]
  },
  {
   "cell_type": "code",
   "execution_count": 68,
   "id": "20fe857d",
   "metadata": {},
   "outputs": [
    {
     "data": {
      "text/plain": [
       "529"
      ]
     },
     "execution_count": 68,
     "metadata": {},
     "output_type": "execute_result"
    }
   ],
   "source": [
    "df[\"title_nb_mots\"].idxmin()"
   ]
  },
  {
   "cell_type": "markdown",
   "id": "a9dca16d",
   "metadata": {},
   "source": [
    "## Exercice 4\n",
    "\n",
    "- Découper le montant des frais de publication en USD (`apc_list.value_usd`) en quartiles avec la méthode `qcut`\n",
    "- Quelle est la référence qui a payé le montant le plus élevé ?"
   ]
  },
  {
   "cell_type": "markdown",
   "id": "949677af",
   "metadata": {},
   "source": [
    "### 4.1 - Découper le montant des frais de publication en USD (`apc_list.value_usd`) en quartiles avec la méthode `qcut`"
   ]
  },
  {
   "cell_type": "code",
   "execution_count": 72,
   "id": "bc9b39ac",
   "metadata": {},
   "outputs": [],
   "source": [
    "df[\"apc_quartile\"] = pd.qcut(\n",
    "    df[\"apc_list.value_usd\"], [0, 0.25, 0.5, 0.75, 1], [\"Q1\", \"Q2\", \"Q3\", \"Q4\"]\n",
    ")"
   ]
  },
  {
   "cell_type": "code",
   "execution_count": null,
   "id": "24883496",
   "metadata": {},
   "outputs": [
    {
     "data": {
      "text/plain": [
       "apc_quartile\n",
       "Q1    25.013805\n",
       "Q2    25.013805\n",
       "Q4    25.013805\n",
       "Q3    24.958586\n",
       "Name: proportion, dtype: float64"
      ]
     },
     "execution_count": 76,
     "metadata": {},
     "output_type": "execute_result"
    }
   ],
   "source": [
    "df[\"apc_quartile\"].value_counts(normalize=True) * 100"
   ]
  },
  {
   "cell_type": "code",
   "execution_count": 77,
   "id": "80dc6dcc",
   "metadata": {},
   "outputs": [
    {
     "data": {
      "text/plain": [
       "apc_quartile\n",
       "NaN    80.480707\n",
       "Q1      4.882518\n",
       "Q2      4.882518\n",
       "Q4      4.882518\n",
       "Q3      4.871740\n",
       "Name: proportion, dtype: float64"
      ]
     },
     "execution_count": 77,
     "metadata": {},
     "output_type": "execute_result"
    }
   ],
   "source": [
    "df[\"apc_quartile\"].value_counts(normalize=True, dropna=False) * 100"
   ]
  },
  {
   "cell_type": "markdown",
   "id": "284d7e9a",
   "metadata": {},
   "source": [
    "### 4.2 Quelle est la référence qui a payé le montant le plus élevé ?"
   ]
  },
  {
   "cell_type": "code",
   "execution_count": 86,
   "id": "b4aa18d4",
   "metadata": {},
   "outputs": [
    {
     "data": {
      "text/html": [
       "<div>\n",
       "<style scoped>\n",
       "    .dataframe tbody tr th:only-of-type {\n",
       "        vertical-align: middle;\n",
       "    }\n",
       "\n",
       "    .dataframe tbody tr th {\n",
       "        vertical-align: top;\n",
       "    }\n",
       "\n",
       "    .dataframe thead th {\n",
       "        text-align: right;\n",
       "    }\n",
       "</style>\n",
       "<table border=\"1\" class=\"dataframe\">\n",
       "  <thead>\n",
       "    <tr style=\"text-align: right;\">\n",
       "      <th></th>\n",
       "      <th>title</th>\n",
       "      <th>source</th>\n",
       "      <th>apc_list.value_usd</th>\n",
       "    </tr>\n",
       "  </thead>\n",
       "  <tbody>\n",
       "    <tr>\n",
       "      <th>6</th>\n",
       "      <td>Integrating explanation and prediction in comp...</td>\n",
       "      <td>Nature</td>\n",
       "      <td>11690.0</td>\n",
       "    </tr>\n",
       "  </tbody>\n",
       "</table>\n",
       "</div>"
      ],
      "text/plain": [
       "                                               title  source  \\\n",
       "6  Integrating explanation and prediction in comp...  Nature   \n",
       "\n",
       "   apc_list.value_usd  \n",
       "6             11690.0  "
      ]
     },
     "execution_count": 86,
     "metadata": {},
     "output_type": "execute_result"
    }
   ],
   "source": [
    "df.loc[[df[\"apc_list.value_usd\"].idxmax()], [\"title\", \"source\", \"apc_list.value_usd\"]]"
   ]
  },
  {
   "cell_type": "markdown",
   "id": "d893ad92",
   "metadata": {},
   "source": [
    "`If multiple values equal the maximum, the first row label with that value is returned.`"
   ]
  },
  {
   "cell_type": "code",
   "execution_count": null,
   "id": "852c311d",
   "metadata": {},
   "outputs": [
    {
     "data": {
      "text/html": [
       "<div>\n",
       "<style scoped>\n",
       "    .dataframe tbody tr th:only-of-type {\n",
       "        vertical-align: middle;\n",
       "    }\n",
       "\n",
       "    .dataframe tbody tr th {\n",
       "        vertical-align: top;\n",
       "    }\n",
       "\n",
       "    .dataframe thead th {\n",
       "        text-align: right;\n",
       "    }\n",
       "</style>\n",
       "<table border=\"1\" class=\"dataframe\">\n",
       "  <thead>\n",
       "    <tr style=\"text-align: right;\">\n",
       "      <th></th>\n",
       "      <th>id</th>\n",
       "      <th>doi</th>\n",
       "      <th>title</th>\n",
       "      <th>display_name</th>\n",
       "      <th>relevance_score</th>\n",
       "      <th>publication_year</th>\n",
       "      <th>publication_date</th>\n",
       "      <th>language</th>\n",
       "      <th>type</th>\n",
       "      <th>type_crossref</th>\n",
       "      <th>...</th>\n",
       "      <th>sustainable_development_goals.id</th>\n",
       "      <th>sustainable_development_goals.score</th>\n",
       "      <th>sustainable_development_goals.display_name</th>\n",
       "      <th>grants.funder</th>\n",
       "      <th>grants.funder_display_name</th>\n",
       "      <th>grants.award_id</th>\n",
       "      <th>counts_by_year.year</th>\n",
       "      <th>counts_by_year.cited_by_count</th>\n",
       "      <th>title_nb_mots</th>\n",
       "      <th>apc_quartile</th>\n",
       "    </tr>\n",
       "  </thead>\n",
       "  <tbody>\n",
       "    <tr>\n",
       "      <th>6</th>\n",
       "      <td>https://openalex.org/W3174174150</td>\n",
       "      <td>https://doi.org/10.1038/s41586-021-03659-0</td>\n",
       "      <td>Integrating explanation and prediction in comp...</td>\n",
       "      <td>Integrating explanation and prediction in comp...</td>\n",
       "      <td>1008.974060</td>\n",
       "      <td>2021</td>\n",
       "      <td>2021-06-30</td>\n",
       "      <td>en</td>\n",
       "      <td>article</td>\n",
       "      <td>journal-article</td>\n",
       "      <td>...</td>\n",
       "      <td>NaN</td>\n",
       "      <td>NaN</td>\n",
       "      <td>NaN</td>\n",
       "      <td>NaN</td>\n",
       "      <td>NaN</td>\n",
       "      <td>NaN</td>\n",
       "      <td>2025|2024|2023|2022|2021|2020|2019</td>\n",
       "      <td>20|67|89|70|27|1|1</td>\n",
       "      <td>8.0</td>\n",
       "      <td>Q4</td>\n",
       "    </tr>\n",
       "    <tr>\n",
       "      <th>11</th>\n",
       "      <td>https://openalex.org/W2079631204</td>\n",
       "      <td>https://doi.org/10.1038/488448a</td>\n",
       "      <td>Computational social science: Making the links</td>\n",
       "      <td>Computational social science: Making the links</td>\n",
       "      <td>752.027340</td>\n",
       "      <td>2012</td>\n",
       "      <td>2012-08-01</td>\n",
       "      <td>en</td>\n",
       "      <td>article</td>\n",
       "      <td>journal-article</td>\n",
       "      <td>...</td>\n",
       "      <td>https://metadata.un.org/sdg/10</td>\n",
       "      <td>0.43</td>\n",
       "      <td>Reduced inequalities</td>\n",
       "      <td>NaN</td>\n",
       "      <td>NaN</td>\n",
       "      <td>NaN</td>\n",
       "      <td>2024|2023|2022|2021|2020|2019|2018|2017|2016|2...</td>\n",
       "      <td>2|3|7|7|7|4|14|9|17|21|14|15|2</td>\n",
       "      <td>6.0</td>\n",
       "      <td>Q4</td>\n",
       "    </tr>\n",
       "    <tr>\n",
       "      <th>25</th>\n",
       "      <td>https://openalex.org/W3176348367</td>\n",
       "      <td>https://doi.org/10.1038/s41586-021-03649-2</td>\n",
       "      <td>Human social sensing is an untapped resource f...</td>\n",
       "      <td>Human social sensing is an untapped resource f...</td>\n",
       "      <td>522.467100</td>\n",
       "      <td>2021</td>\n",
       "      <td>2021-06-30</td>\n",
       "      <td>en</td>\n",
       "      <td>article</td>\n",
       "      <td>journal-article</td>\n",
       "      <td>...</td>\n",
       "      <td>https://metadata.un.org/sdg/10</td>\n",
       "      <td>0.58</td>\n",
       "      <td>Reduced inequalities</td>\n",
       "      <td>NaN</td>\n",
       "      <td>NaN</td>\n",
       "      <td>NaN</td>\n",
       "      <td>2025|2024|2023|2022|2021|2019</td>\n",
       "      <td>5|22|25|16|7|1</td>\n",
       "      <td>11.0</td>\n",
       "      <td>Q4</td>\n",
       "    </tr>\n",
       "    <tr>\n",
       "      <th>109</th>\n",
       "      <td>https://openalex.org/W4318245347</td>\n",
       "      <td>https://doi.org/10.1038/s41562-023-01527-7</td>\n",
       "      <td>Facilitating system-level behavioural climate ...</td>\n",
       "      <td>Facilitating system-level behavioural climate ...</td>\n",
       "      <td>228.930330</td>\n",
       "      <td>2023</td>\n",
       "      <td>2023-01-27</td>\n",
       "      <td>en</td>\n",
       "      <td>letter</td>\n",
       "      <td>journal-article</td>\n",
       "      <td>...</td>\n",
       "      <td>https://metadata.un.org/sdg/13</td>\n",
       "      <td>0.8</td>\n",
       "      <td>Climate action</td>\n",
       "      <td>https://openalex.org/F4320306137|https://opena...</td>\n",
       "      <td>Bill and Melinda Gates Foundation|Resnick Sust...</td>\n",
       "      <td>OPP1144|None</td>\n",
       "      <td>2025|2024|2023</td>\n",
       "      <td>2|9|3</td>\n",
       "      <td>9.0</td>\n",
       "      <td>Q4</td>\n",
       "    </tr>\n",
       "    <tr>\n",
       "      <th>4228</th>\n",
       "      <td>https://openalex.org/W4393202545</td>\n",
       "      <td>https://doi.org/10.1038/s43588-024-00604-9</td>\n",
       "      <td>Recent achievements and conceptual challenges ...</td>\n",
       "      <td>Recent achievements and conceptual challenges ...</td>\n",
       "      <td>2.898379</td>\n",
       "      <td>2024</td>\n",
       "      <td>2024-03-26</td>\n",
       "      <td>en</td>\n",
       "      <td>article</td>\n",
       "      <td>journal-article</td>\n",
       "      <td>...</td>\n",
       "      <td>https://metadata.un.org/sdg/11</td>\n",
       "      <td>0.82</td>\n",
       "      <td>Sustainable cities and communities</td>\n",
       "      <td>NaN</td>\n",
       "      <td>NaN</td>\n",
       "      <td>NaN</td>\n",
       "      <td>2025</td>\n",
       "      <td>1</td>\n",
       "      <td>9.0</td>\n",
       "      <td>Q4</td>\n",
       "    </tr>\n",
       "    <tr>\n",
       "      <th>7584</th>\n",
       "      <td>https://openalex.org/W4399121490</td>\n",
       "      <td>https://doi.org/10.1038/s43588-024-00641-4</td>\n",
       "      <td>Accelerating scientific progress with preprints</td>\n",
       "      <td>Accelerating scientific progress with preprints</td>\n",
       "      <td>0.565708</td>\n",
       "      <td>2024</td>\n",
       "      <td>2024-05-29</td>\n",
       "      <td>en</td>\n",
       "      <td>editorial</td>\n",
       "      <td>journal-article</td>\n",
       "      <td>...</td>\n",
       "      <td>NaN</td>\n",
       "      <td>NaN</td>\n",
       "      <td>NaN</td>\n",
       "      <td>NaN</td>\n",
       "      <td>NaN</td>\n",
       "      <td>NaN</td>\n",
       "      <td>NaN</td>\n",
       "      <td>NaN</td>\n",
       "      <td>5.0</td>\n",
       "      <td>Q4</td>\n",
       "    </tr>\n",
       "  </tbody>\n",
       "</table>\n",
       "<p>6 rows × 185 columns</p>\n",
       "</div>"
      ],
      "text/plain": [
       "                                    id  \\\n",
       "6     https://openalex.org/W3174174150   \n",
       "11    https://openalex.org/W2079631204   \n",
       "25    https://openalex.org/W3176348367   \n",
       "109   https://openalex.org/W4318245347   \n",
       "4228  https://openalex.org/W4393202545   \n",
       "7584  https://openalex.org/W4399121490   \n",
       "\n",
       "                                             doi  \\\n",
       "6     https://doi.org/10.1038/s41586-021-03659-0   \n",
       "11               https://doi.org/10.1038/488448a   \n",
       "25    https://doi.org/10.1038/s41586-021-03649-2   \n",
       "109   https://doi.org/10.1038/s41562-023-01527-7   \n",
       "4228  https://doi.org/10.1038/s43588-024-00604-9   \n",
       "7584  https://doi.org/10.1038/s43588-024-00641-4   \n",
       "\n",
       "                                                  title  \\\n",
       "6     Integrating explanation and prediction in comp...   \n",
       "11       Computational social science: Making the links   \n",
       "25    Human social sensing is an untapped resource f...   \n",
       "109   Facilitating system-level behavioural climate ...   \n",
       "4228  Recent achievements and conceptual challenges ...   \n",
       "7584    Accelerating scientific progress with preprints   \n",
       "\n",
       "                                           display_name  relevance_score  \\\n",
       "6     Integrating explanation and prediction in comp...      1008.974060   \n",
       "11       Computational social science: Making the links       752.027340   \n",
       "25    Human social sensing is an untapped resource f...       522.467100   \n",
       "109   Facilitating system-level behavioural climate ...       228.930330   \n",
       "4228  Recent achievements and conceptual challenges ...         2.898379   \n",
       "7584    Accelerating scientific progress with preprints         0.565708   \n",
       "\n",
       "      publication_year publication_date language       type    type_crossref  \\\n",
       "6                 2021       2021-06-30       en    article  journal-article   \n",
       "11                2012       2012-08-01       en    article  journal-article   \n",
       "25                2021       2021-06-30       en    article  journal-article   \n",
       "109               2023       2023-01-27       en     letter  journal-article   \n",
       "4228              2024       2024-03-26       en    article  journal-article   \n",
       "7584              2024       2024-05-29       en  editorial  journal-article   \n",
       "\n",
       "      ... sustainable_development_goals.id  \\\n",
       "6     ...                              NaN   \n",
       "11    ...   https://metadata.un.org/sdg/10   \n",
       "25    ...   https://metadata.un.org/sdg/10   \n",
       "109   ...   https://metadata.un.org/sdg/13   \n",
       "4228  ...   https://metadata.un.org/sdg/11   \n",
       "7584  ...                              NaN   \n",
       "\n",
       "      sustainable_development_goals.score  \\\n",
       "6                                     NaN   \n",
       "11                                   0.43   \n",
       "25                                   0.58   \n",
       "109                                   0.8   \n",
       "4228                                 0.82   \n",
       "7584                                  NaN   \n",
       "\n",
       "      sustainable_development_goals.display_name  \\\n",
       "6                                            NaN   \n",
       "11                          Reduced inequalities   \n",
       "25                          Reduced inequalities   \n",
       "109                               Climate action   \n",
       "4228          Sustainable cities and communities   \n",
       "7584                                         NaN   \n",
       "\n",
       "                                          grants.funder  \\\n",
       "6                                                   NaN   \n",
       "11                                                  NaN   \n",
       "25                                                  NaN   \n",
       "109   https://openalex.org/F4320306137|https://opena...   \n",
       "4228                                                NaN   \n",
       "7584                                                NaN   \n",
       "\n",
       "                             grants.funder_display_name  grants.award_id  \\\n",
       "6                                                   NaN              NaN   \n",
       "11                                                  NaN              NaN   \n",
       "25                                                  NaN              NaN   \n",
       "109   Bill and Melinda Gates Foundation|Resnick Sust...     OPP1144|None   \n",
       "4228                                                NaN              NaN   \n",
       "7584                                                NaN              NaN   \n",
       "\n",
       "                                    counts_by_year.year  \\\n",
       "6                    2025|2024|2023|2022|2021|2020|2019   \n",
       "11    2024|2023|2022|2021|2020|2019|2018|2017|2016|2...   \n",
       "25                        2025|2024|2023|2022|2021|2019   \n",
       "109                                      2025|2024|2023   \n",
       "4228                                               2025   \n",
       "7584                                                NaN   \n",
       "\n",
       "       counts_by_year.cited_by_count  title_nb_mots apc_quartile  \n",
       "6                 20|67|89|70|27|1|1            8.0           Q4  \n",
       "11    2|3|7|7|7|4|14|9|17|21|14|15|2            6.0           Q4  \n",
       "25                    5|22|25|16|7|1           11.0           Q4  \n",
       "109                            2|9|3            9.0           Q4  \n",
       "4228                               1            9.0           Q4  \n",
       "7584                             NaN            5.0           Q4  \n",
       "\n",
       "[6 rows x 185 columns]"
      ]
     },
     "execution_count": 90,
     "metadata": {},
     "output_type": "execute_result"
    }
   ],
   "source": [
    "# je peux donc selectionner dans mon dataframe\n",
    "# l'ensemble de références qui remplisse la condition\n",
    "df[df[\"apc_list.value_usd\"] == df[\"apc_list.value_usd\"].max()]"
   ]
  },
  {
   "cell_type": "code",
   "execution_count": 93,
   "id": "c5356415",
   "metadata": {},
   "outputs": [
    {
     "data": {
      "text/html": [
       "<div>\n",
       "<style scoped>\n",
       "    .dataframe tbody tr th:only-of-type {\n",
       "        vertical-align: middle;\n",
       "    }\n",
       "\n",
       "    .dataframe tbody tr th {\n",
       "        vertical-align: top;\n",
       "    }\n",
       "\n",
       "    .dataframe thead th {\n",
       "        text-align: right;\n",
       "    }\n",
       "</style>\n",
       "<table border=\"1\" class=\"dataframe\">\n",
       "  <thead>\n",
       "    <tr style=\"text-align: right;\">\n",
       "      <th></th>\n",
       "      <th>title</th>\n",
       "      <th>source</th>\n",
       "      <th>apc_list.value_usd</th>\n",
       "    </tr>\n",
       "  </thead>\n",
       "  <tbody>\n",
       "    <tr>\n",
       "      <th>6</th>\n",
       "      <td>Integrating explanation and prediction in comp...</td>\n",
       "      <td>Nature</td>\n",
       "      <td>11690.0</td>\n",
       "    </tr>\n",
       "    <tr>\n",
       "      <th>11</th>\n",
       "      <td>Computational social science: Making the links</td>\n",
       "      <td>Nature</td>\n",
       "      <td>11690.0</td>\n",
       "    </tr>\n",
       "    <tr>\n",
       "      <th>25</th>\n",
       "      <td>Human social sensing is an untapped resource f...</td>\n",
       "      <td>Nature</td>\n",
       "      <td>11690.0</td>\n",
       "    </tr>\n",
       "    <tr>\n",
       "      <th>109</th>\n",
       "      <td>Facilitating system-level behavioural climate ...</td>\n",
       "      <td>Nature Human Behaviour</td>\n",
       "      <td>11690.0</td>\n",
       "    </tr>\n",
       "    <tr>\n",
       "      <th>4228</th>\n",
       "      <td>Recent achievements and conceptual challenges ...</td>\n",
       "      <td>Nature Computational Science</td>\n",
       "      <td>11690.0</td>\n",
       "    </tr>\n",
       "    <tr>\n",
       "      <th>7584</th>\n",
       "      <td>Accelerating scientific progress with preprints</td>\n",
       "      <td>Nature Computational Science</td>\n",
       "      <td>11690.0</td>\n",
       "    </tr>\n",
       "  </tbody>\n",
       "</table>\n",
       "</div>"
      ],
      "text/plain": [
       "                                                  title  \\\n",
       "6     Integrating explanation and prediction in comp...   \n",
       "11       Computational social science: Making the links   \n",
       "25    Human social sensing is an untapped resource f...   \n",
       "109   Facilitating system-level behavioural climate ...   \n",
       "4228  Recent achievements and conceptual challenges ...   \n",
       "7584    Accelerating scientific progress with preprints   \n",
       "\n",
       "                            source  apc_list.value_usd  \n",
       "6                           Nature             11690.0  \n",
       "11                          Nature             11690.0  \n",
       "25                          Nature             11690.0  \n",
       "109         Nature Human Behaviour             11690.0  \n",
       "4228  Nature Computational Science             11690.0  \n",
       "7584  Nature Computational Science             11690.0  "
      ]
     },
     "execution_count": 93,
     "metadata": {},
     "output_type": "execute_result"
    }
   ],
   "source": [
    "# et avec un peu de barbarie et de crochets renvoyer ce qui m'intéresse:\n",
    "df[df[\"apc_list.value_usd\"] == df[\"apc_list.value_usd\"].max()][\n",
    "    [\"title\", \"source\", \"apc_list.value_usd\"]\n",
    "]"
   ]
  },
  {
   "cell_type": "markdown",
   "id": "4d00ade3",
   "metadata": {},
   "source": [
    "## Exercice 5\n",
    "\n",
    "- Compter le nombre de publications par auteurs (`authorships.author.display_name`)\n",
    "- Conseil :\n",
    "    - spliter les auteurs sur \"|\"\n",
    "    - regarder ensuite du côté de `.explode()`et de `.value_counts()`\n",
    "- Faire un barplot des 5 principaux publiants\n"
   ]
  },
  {
   "cell_type": "markdown",
   "id": "4ad4655a",
   "metadata": {},
   "source": [
    "### 5.1 Compter le nombre de publications par auteurs (`authorships.author.display_name`)\n",
    "\n",
    "Plus prise de tête ici, demande à aller plus loin et manipuler un peu tout ça."
   ]
  },
  {
   "cell_type": "code",
   "execution_count": null,
   "id": "31f9f582",
   "metadata": {},
   "outputs": [
    {
     "data": {
      "text/plain": [
       "0       David Lazer|Alex Pentland|Lada A. Adamic|Sinan...\n",
       "1       Rosaria Conte|Nigel Gilbert|Giulia Bonelli|Cla...\n",
       "2       David Lazer|Alex Pentland|Duncan J. Watts|Sina...\n",
       "3       S. Kellogg|Tom Wolff|Danielle Montagne|Christo...\n",
       "4                                  Claudio Cioffi‐Revilla\n",
       "                              ...                        \n",
       "9273    Saige Rutherford|Pieter Barkema|Ivy F. Tso|Cha...\n",
       "9274                                          Ziv Hameiri\n",
       "9275                      Ben S. Cooper|Nick Ruktanonchai\n",
       "9276    Kimberly Fornace|Neâl Alexander|Tommy Rowel Ab...\n",
       "9277                                                  NaN\n",
       "Name: authorships.author.display_name, Length: 9278, dtype: object"
      ]
     },
     "execution_count": 94,
     "metadata": {},
     "output_type": "execute_result"
    }
   ],
   "source": [
    "# En fait nos auteurs sont plusieurs par cellule :\n",
    "df[\"authorships.author.display_name\"]"
   ]
  },
  {
   "cell_type": "code",
   "execution_count": 97,
   "id": "7641dad5",
   "metadata": {},
   "outputs": [
    {
     "data": {
      "text/plain": [
       "0       [David Lazer, Alex Pentland, Lada A. Adamic, S...\n",
       "1       [Rosaria Conte, Nigel Gilbert, Giulia Bonelli,...\n",
       "2       [David Lazer, Alex Pentland, Duncan J. Watts, ...\n",
       "3       [S. Kellogg, Tom Wolff, Danielle Montagne, Chr...\n",
       "4                                [Claudio Cioffi‐Revilla]\n",
       "                              ...                        \n",
       "9273    [Saige Rutherford, Pieter Barkema, Ivy F. Tso,...\n",
       "9274                                        [Ziv Hameiri]\n",
       "9275                   [Ben S. Cooper, Nick Ruktanonchai]\n",
       "9276    [Kimberly Fornace, Neâl Alexander, Tommy Rowel...\n",
       "9277                                                  NaN\n",
       "Name: auteurs, Length: 9278, dtype: object"
      ]
     },
     "execution_count": 97,
     "metadata": {},
     "output_type": "execute_result"
    }
   ],
   "source": [
    "# Avant de les compter je dois donc les séparer\n",
    "# Je peux utiliser str.split(), équivalent pandas de split()\n",
    "df[\"auteurs\"] = df[\"authorships.author.display_name\"].str.split(\"|\")\n",
    "df[\"auteurs\"]"
   ]
  },
  {
   "cell_type": "code",
   "execution_count": 100,
   "id": "4b5bcab5",
   "metadata": {},
   "outputs": [
    {
     "data": {
      "text/plain": [
       "0                  David Lazer\n",
       "0                Alex Pentland\n",
       "0               Lada A. Adamic\n",
       "0                   Sinan Aral\n",
       "0       Albert‐László Barabási\n",
       "                 ...          \n",
       "9276              Meng Li Wong\n",
       "9276                  Sui H Ng\n",
       "9276                   Jon Cox\n",
       "9276            Chris Drakeley\n",
       "9277                       NaN\n",
       "Name: auteurs, Length: 26562, dtype: object"
      ]
     },
     "execution_count": 100,
     "metadata": {},
     "output_type": "execute_result"
    }
   ],
   "source": [
    "# puis exploser ça pour avoir un auteur par ligne\n",
    "# On a donc un colonne bien plus longue\n",
    "all_authors = df[\"auteurs\"].explode()\n",
    "all_authors"
   ]
  },
  {
   "cell_type": "code",
   "execution_count": 101,
   "id": "b7b7f708",
   "metadata": {},
   "outputs": [
    {
     "data": {
      "text/plain": [
       "auteurs\n",
       "Claudio Cioffi‐Revilla      25\n",
       "Alan K. Mackworth           19\n",
       "David Poole                 19\n",
       "Kathleen M. Carley          19\n",
       "Joshua M. Epstein           16\n",
       "                            ..\n",
       "Charith Wickramaarachchi     1\n",
       "Viktor K. Prasanna           1\n",
       "Ruth King                    1\n",
       "Beate Völker                 1\n",
       "Chris Drakeley               1\n",
       "Name: count, Length: 20028, dtype: int64"
      ]
     },
     "execution_count": 101,
     "metadata": {},
     "output_type": "execute_result"
    }
   ],
   "source": [
    "# Et enfin on peut faire un value_counts() dessus:\n",
    "all_authors.value_counts()\n"
   ]
  },
  {
   "cell_type": "markdown",
   "id": "81a72667",
   "metadata": {},
   "source": [
    "### 5.2 Faire un barplot des 5 principaux publiants\n"
   ]
  },
  {
   "cell_type": "code",
   "execution_count": 103,
   "id": "2eaa087f",
   "metadata": {},
   "outputs": [
    {
     "data": {
      "text/plain": [
       "<Axes: xlabel='auteurs'>"
      ]
     },
     "execution_count": 103,
     "metadata": {},
     "output_type": "execute_result"
    },
    {
     "data": {
      "image/png": "[encoded data removed]",
      "text/plain": [
       "<Figure size 640x480 with 1 Axes>"
      ]
     },
     "metadata": {},
     "output_type": "display_data"
    }
   ],
   "source": [
    "all_authors.value_counts()[0:5].plot(kind=\"bar\")\n"
   ]
  }
 ],
 "metadata": {
  "kernelspec": {
   "display_name": "myenv_clone",
   "language": "python",
   "name": "python3"
  },
  "language_info": {
   "codemirror_mode": {
    "name": "ipython",
    "version": 3
   },
   "file_extension": ".py",
   "mimetype": "text/x-python",
   "name": "python",
   "nbconvert_exporter": "python",
   "pygments_lexer": "ipython3",
   "version": "3.11.5"
  }
 },
 "nbformat": 4,
 "nbformat_minor": 5
}
