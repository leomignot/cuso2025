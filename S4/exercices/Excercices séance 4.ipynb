{
 "cells": [
  {
   "cell_type": "markdown",
   "id": "7f08a844",
   "metadata": {},
   "source": [
    "## Exercice séance 4\n",
    "\n",
    "Tous les exercices sont sur les données du fichier `CSS_openalex.csv` diponible ici : https://filesender.renater.fr/?s=download&token=01def21d-738d-48f1-860a-820c37fab6d7\n",
    "\n",
    "\n",
    "Ces données représentent toutes les publications scientifiques de la base openalex qui mentionnent `computational social science` dans leur titre ou abstract."
   ]
  },
  {
   "cell_type": "markdown",
   "id": "2ee4e77a",
   "metadata": {},
   "source": [
    "## Exercice 1\n",
    "\n",
    "- Quelle est la distribution des types de publications (`type`) du dataset en pourcentages\n",
    "- Renommer la modalité `Other` en `Autre` (regarder du côté de .replace)\n",
    "- Renomer la variable `primary_location.source.display_name` en `source` (regarder du côté de .rename)"
   ]
  },
  {
   "cell_type": "markdown",
   "id": "b8e44cdf",
   "metadata": {},
   "source": [
    "## Exercice 2\n",
    "\n",
    "- Ajouter une colonne qui correspond au nombre de mots des titres (`title`) de chaque référence.\n",
    "- Calculer le nombre de mots moyens et la variance par `source`.\n",
    "- Quelle est la `source` qui a le plus de mots, le moins de mots ?\n"
   ]
  },
  {
   "cell_type": "markdown",
   "id": "f28759f6",
   "metadata": {},
   "source": [
    "## Exercice 4\n",
    "\n",
    "- Découper le montant des frais de publication en USD (`apc_list.value_usd`) en quartiles avec la méthode `qcut`\n",
    "- Quelle est la référence qui a payé le montant le plus élevé ?"
   ]
  },
  {
   "cell_type": "markdown",
   "id": "94ca3d91",
   "metadata": {},
   "source": [
    "## Exercice 5\n",
    "\n",
    "- Compter le nombre de publications par auteurs (`authorships.author.display_name`)\n",
    "- Conseil :\n",
    "    - spliter les auteurs sur \"|\"\n",
    "    - regarder ensuite du côté de `.explode()`et de `.value_counts()`\n",
    "- Faire un barplot des 5 principaux publiants\n"
   ]
  }
 ],
 "metadata": {
  "kernelspec": {
   "display_name": "myenv_clone",
   "language": "python",
   "name": "python3"
  },
  "language_info": {
   "codemirror_mode": {
    "name": "ipython",
    "version": 3
   },
   "file_extension": ".py",
   "mimetype": "text/x-python",
   "name": "python",
   "nbconvert_exporter": "python",
   "pygments_lexer": "ipython3",
   "version": "3.11.5"
  }
 },
 "nbformat": 4,
 "nbformat_minor": 5
}
