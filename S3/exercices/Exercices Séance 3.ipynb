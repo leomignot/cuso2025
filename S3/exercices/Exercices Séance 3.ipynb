{
 "cells": [
  {
   "cell_type": "markdown",
   "id": "76178dff-9423-4160-9bc5-7e58fee7afe9",
   "metadata": {},
   "source": [
    "# Exercices Séance 3"
   ]
  },
  {
   "cell_type": "markdown",
   "id": "db304128",
   "metadata": {},
   "source": [
    "## Exercice 1 : écrire des fichiers\n",
    "\n",
    "Faire le script complet permettant de récupérer les pages webs suivantes, et les stocker dans un dossier \"pages\" "
   ]
  },
  {
   "cell_type": "code",
   "execution_count": null,
   "id": "398b74f8",
   "metadata": {},
   "outputs": [],
   "source": [
    "urls = [\"https://www.unil.ch/unil/fr/home.html\", \n",
    "        \"http://cuso.ch\",\n",
    "        \"https://www.unige.ch/\",\n",
    "        \"https://www.u-bordeaux.fr/\"\n",
    "       ]"
   ]
  },
  {
   "cell_type": "markdown",
   "id": "cc5d9acc",
   "metadata": {},
   "source": [
    "## Exercice 2 : utiliser beautiful soup\n",
    "\n",
    "- Installer la bibliothèque beautiful soup https://www.crummy.com/software/BeautifulSoup/\n",
    "- Récupérer tous les liens de la page cuso avec la méthode find_all (un lien est une balise a)\n",
    "- Ecrire dans un fichier tous les liens"
   ]
  },
  {
   "cell_type": "markdown",
   "id": "010cf6d5",
   "metadata": {},
   "source": []
  }
 ],
 "metadata": {
  "kernelspec": {
   "display_name": "base",
   "language": "python",
   "name": "python3"
  },
  "language_info": {
   "codemirror_mode": {
    "name": "ipython",
    "version": 3
   },
   "file_extension": ".py",
   "mimetype": "text/x-python",
   "name": "python",
   "nbconvert_exporter": "python",
   "pygments_lexer": "ipython3",
   "version": "3.11.7"
  }
 },
 "nbformat": 4,
 "nbformat_minor": 5
}
