{
 "cells": [
  {
   "cell_type": "markdown",
   "id": "260836a1-f9b4-4da3-b864-3714572525a2",
   "metadata": {},
   "source": [
    "# Récupérer une page web"
   ]
  },
  {
   "cell_type": "markdown",
   "id": "ef5ca86c-6fa9-4b5b-95be-3d18315c83c4",
   "metadata": {},
   "source": [
    "- Récupérer la page cuso.ch\n",
    "- Chercher si elle contient \"science ouverte dedans\""
   ]
  },
  {
   "cell_type": "markdown",
   "id": "0778d84d-880d-450a-9e9f-50dafd9cc1cc",
   "metadata": {},
   "source": [
    "## Récupérer la page"
   ]
  },
  {
   "cell_type": "markdown",
   "id": "376e0d03-3e4b-417e-a69a-3696a1b003ba",
   "metadata": {},
   "source": [
    "### Module standard"
   ]
  },
  {
   "cell_type": "code",
   "execution_count": 1,
   "id": "6c416530-b520-426d-888c-a2bffc85696a",
   "metadata": {},
   "outputs": [],
   "source": [
    "from urllib.request import urlopen\n",
    "url = \"https://www.cuso.ch/\"\n",
    "with urlopen(url) as response:\n",
    "    body = response.read()"
   ]
  },
  {
   "cell_type": "markdown",
   "id": "01efa1d1-c3ba-47c2-9205-e176527de3bb",
   "metadata": {},
   "source": [
    "## Utiliser requests"
   ]
  },
  {
   "cell_type": "code",
   "execution_count": 17,
   "id": "2d983540-a62f-4b93-a2b2-a026289cba40",
   "metadata": {},
   "outputs": [
    {
     "name": "stdout",
     "output_type": "stream",
     "text": [
      "Requirement already satisfied: requests in /opt/anaconda3/lib/python3.11/site-packages (2.32.3)\n",
      "Requirement already satisfied: charset-normalizer<4,>=2 in /opt/anaconda3/lib/python3.11/site-packages (from requests) (3.4.0)\n",
      "Requirement already satisfied: idna<4,>=2.5 in /opt/anaconda3/lib/python3.11/site-packages (from requests) (3.4)\n",
      "Requirement already satisfied: urllib3<3,>=1.21.1 in /opt/anaconda3/lib/python3.11/site-packages (from requests) (1.26.18)\n",
      "Requirement already satisfied: certifi>=2017.4.17 in /opt/anaconda3/lib/python3.11/site-packages (from requests) (2024.2.2)\n"
     ]
    }
   ],
   "source": [
    "!pip install requests"
   ]
  },
  {
   "cell_type": "code",
   "execution_count": 6,
   "id": "5dd2942a-7210-40a8-abbb-539577fc3aa4",
   "metadata": {},
   "outputs": [],
   "source": [
    "import requests as rq"
   ]
  },
  {
   "cell_type": "code",
   "execution_count": 8,
   "id": "f050878c-b3cb-4b3b-a102-747167ad777f",
   "metadata": {},
   "outputs": [
    {
     "data": {
      "text/plain": [
       "module"
      ]
     },
     "execution_count": 8,
     "metadata": {},
     "output_type": "execute_result"
    }
   ],
   "source": [
    "type(rq)"
   ]
  },
  {
   "cell_type": "markdown",
   "id": "fa4cfd01-b6d3-4eee-a710-6b4eb40ca1fc",
   "metadata": {},
   "source": [
    "On teste la bibliothèque"
   ]
  },
  {
   "cell_type": "code",
   "execution_count": 12,
   "id": "139ef85e-31a6-453e-b22b-48b324f57b80",
   "metadata": {},
   "outputs": [],
   "source": [
    "reponse = rq.get('https://api.github.com/events')"
   ]
  },
  {
   "cell_type": "code",
   "execution_count": 14,
   "id": "103b9b8b-44e8-4a94-8f98-f521782ddade",
   "metadata": {},
   "outputs": [
    {
     "data": {
      "text/plain": [
       "requests.models.Response"
      ]
     },
     "execution_count": 14,
     "metadata": {},
     "output_type": "execute_result"
    }
   ],
   "source": [
    "type(reponse)"
   ]
  },
  {
   "cell_type": "markdown",
   "id": "6b160b92-5e23-402c-bc85-ddedffb24105",
   "metadata": {},
   "source": [
    "## Exercice\n",
    "\n",
    "- Récupérer la page CUSO\n",
    "- Et l'écrire dans un fichier"
   ]
  },
  {
   "cell_type": "code",
   "execution_count": 33,
   "id": "f437ab5f-1855-4f87-a3db-aaf6c87a0b51",
   "metadata": {},
   "outputs": [],
   "source": [
    "import requests\n",
    "\n",
    "# définition de l'URL\n",
    "url = \"http://cuso.ch\"\n",
    "\n",
    "# récupérer la page\n",
    "reponse = requests.get(url)\n",
    "contenu_text = reponse.text\n",
    "\n",
    "# écrire le contenu dans un fichier\n",
    "with open(\"cuso.txt\",\"w\") as fichier:\n",
    "    fichier.write(contenu_text)"
   ]
  },
  {
   "cell_type": "markdown",
   "id": "46514df4-4fe6-4069-a858-87d63843222c",
   "metadata": {},
   "source": [
    "On peut faire plus compact"
   ]
  },
  {
   "cell_type": "code",
   "execution_count": 34,
   "id": "c2cefde5-e12c-49f2-b6b5-efadc3a027a8",
   "metadata": {},
   "outputs": [],
   "source": [
    "import requests\n",
    "with open(\"cuso.txt\",\"w\") as fichier:\n",
    "    fichier.write(requests.get(\"http://cuso.ch\").text)"
   ]
  },
  {
   "cell_type": "markdown",
   "id": "370c514f-45da-4f5a-87d6-97a56b837753",
   "metadata": {},
   "source": [
    "Comment faire si on veut plusieurs pages ?"
   ]
  },
  {
   "cell_type": "code",
   "execution_count": 39,
   "id": "5e8b221e-8a4e-4b41-b0fc-a6a931439530",
   "metadata": {},
   "outputs": [
    {
     "name": "stdout",
     "output_type": "stream",
     "text": [
      "https://www.unil.ch/unil/fr/home.html\n",
      "130099\n",
      "http://cuso.ch\n",
      "26376\n"
     ]
    }
   ],
   "source": [
    "urls = [\"https://www.unil.ch/unil/fr/home.html\", \"http://cuso.ch\"]\n",
    "for u in urls:\n",
    "    print(u)\n",
    "    print(len(requests.get(u).text))"
   ]
  },
  {
   "cell_type": "markdown",
   "id": "3f099d5b-d4cf-4c44-93a6-96dbb366cb19",
   "metadata": {},
   "source": [
    "####  Est-ce que la page contient science ouverte ?"
   ]
  },
  {
   "cell_type": "code",
   "execution_count": 45,
   "id": "e0ec5c14-ee61-45ac-8acf-ad5054094299",
   "metadata": {},
   "outputs": [],
   "source": [
    "contenu_text = requests.get(\"http://cuso.ch\").text"
   ]
  },
  {
   "cell_type": "code",
   "execution_count": 42,
   "id": "3a860b56-595e-47d6-ad18-16423c92e2e8",
   "metadata": {},
   "outputs": [
    {
     "data": {
      "text/plain": [
       "0"
      ]
     },
     "execution_count": 42,
     "metadata": {},
     "output_type": "execute_result"
    }
   ],
   "source": [
    "contenu_text.lower().count(\"science ouverte\")"
   ]
  },
  {
   "cell_type": "code",
   "execution_count": 43,
   "id": "27e665cf-0756-45bd-b42e-f699e4cb7836",
   "metadata": {},
   "outputs": [
    {
     "data": {
      "text/plain": [
       "0"
      ]
     },
     "execution_count": 43,
     "metadata": {},
     "output_type": "execute_result"
    }
   ],
   "source": [
    "contenu_text.lower().count(\"open science\")"
   ]
  },
  {
   "cell_type": "code",
   "execution_count": 44,
   "id": "74081feb-a400-4722-8eac-08775721f7fb",
   "metadata": {},
   "outputs": [
    {
     "data": {
      "text/plain": [
       "False"
      ]
     },
     "execution_count": 44,
     "metadata": {},
     "output_type": "execute_result"
    }
   ],
   "source": [
    "\"science ouverte\" in contenu_text"
   ]
  },
  {
   "cell_type": "code",
   "execution_count": 50,
   "id": "d3a1c844-00de-40b8-a763-e900fa2a7e7b",
   "metadata": {},
   "outputs": [],
   "source": [
    "def contient_so(texte):\n",
    "    \"\"\"\n",
    "    Renvoyer le nombre d'occurrence de science ouverte\n",
    "    \"\"\"\n",
    "    so = [\"science ouverte\", \"open science\"]\n",
    "    texte = texte.lower()\n",
    "    c = 0\n",
    "    for terme in so:\n",
    "        c = c + texte.count(terme)\n",
    "    return c"
   ]
  },
  {
   "cell_type": "code",
   "execution_count": 52,
   "id": "6cb33e75-6207-4348-ab2d-a0eeae2791ab",
   "metadata": {},
   "outputs": [
    {
     "data": {
      "text/plain": [
       "1"
      ]
     },
     "execution_count": 52,
     "metadata": {},
     "output_type": "execute_result"
    }
   ],
   "source": [
    "contient_so(\"Ceci est un tewtze avec science ouverte\")"
   ]
  },
  {
   "cell_type": "code",
   "execution_count": 53,
   "id": "842602c2-aca3-4b11-ae65-75d48903e0e4",
   "metadata": {},
   "outputs": [
    {
     "data": {
      "text/plain": [
       "0"
      ]
     },
     "execution_count": 53,
     "metadata": {},
     "output_type": "execute_result"
    }
   ],
   "source": [
    "contient_so(requests.get(\"http://cuso.ch\").text)"
   ]
  },
  {
   "cell_type": "code",
   "execution_count": 55,
   "id": "e6231be7-b69c-4b23-a3f0-1e930ecce82f",
   "metadata": {},
   "outputs": [
    {
     "name": "stdout",
     "output_type": "stream",
     "text": [
      "https://www.unil.ch/unil/fr/home.html 2\n",
      "http://cuso.ch 0\n",
      "https://www.unige.ch/ 0\n",
      "https://www.u-bordeaux.fr/ 2\n"
     ]
    }
   ],
   "source": [
    "urls = [\"https://www.unil.ch/unil/fr/home.html\", \n",
    "        \"http://cuso.ch\",\n",
    "        \"https://www.unige.ch/\",\n",
    "        \"https://www.u-bordeaux.fr/\"\n",
    "       ]\n",
    "for u in urls:\n",
    "    print(u, contient_so(requests.get(u).text))"
   ]
  },
  {
   "cell_type": "code",
   "execution_count": null,
   "id": "5d5e15b7-c32a-451b-aa2d-f59e34a07e41",
   "metadata": {},
   "outputs": [],
   "source": []
  }
 ],
 "metadata": {
  "kernelspec": {
   "display_name": "Python 3 (ipykernel)",
   "language": "python",
   "name": "python3"
  },
  "language_info": {
   "codemirror_mode": {
    "name": "ipython",
    "version": 3
   },
   "file_extension": ".py",
   "mimetype": "text/x-python",
   "name": "python",
   "nbconvert_exporter": "python",
   "pygments_lexer": "ipython3",
   "version": "3.11.7"
  }
 },
 "nbformat": 4,
 "nbformat_minor": 5
}
