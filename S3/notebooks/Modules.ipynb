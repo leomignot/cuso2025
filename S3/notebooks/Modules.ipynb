{
 "cells": [
  {
   "cell_type": "markdown",
   "id": "e6785bc1-2d33-4fe2-ac4f-3c25432c9711",
   "metadata": {},
   "source": [
    "# Modules et bibliothèques"
   ]
  },
  {
   "cell_type": "markdown",
   "id": "1794bdea-5fde-47e7-884d-dd9da9c5083c",
   "metadata": {},
   "source": [
    "## Modules existants"
   ]
  },
  {
   "cell_type": "code",
   "execution_count": 1,
   "id": "221c8e96-df7e-4717-94b7-2d9968c7836e",
   "metadata": {},
   "outputs": [],
   "source": [
    "import math"
   ]
  },
  {
   "cell_type": "code",
   "execution_count": 3,
   "id": "9647b26a-4c2a-4c5a-9fba-ab218ac6347e",
   "metadata": {},
   "outputs": [
    {
     "data": {
      "text/plain": [
       "module"
      ]
     },
     "execution_count": 3,
     "metadata": {},
     "output_type": "execute_result"
    }
   ],
   "source": [
    "type(math)"
   ]
  },
  {
   "cell_type": "code",
   "execution_count": 5,
   "id": "8f527475-e17d-4ee5-ad38-4e8d92e49bb7",
   "metadata": {},
   "outputs": [
    {
     "data": {
      "text/plain": [
       "1.0"
      ]
     },
     "execution_count": 5,
     "metadata": {},
     "output_type": "execute_result"
    }
   ],
   "source": [
    "math.exp(0)"
   ]
  },
  {
   "cell_type": "code",
   "execution_count": 6,
   "id": "deebf592-b901-43cf-935b-2a8fb45b31ea",
   "metadata": {},
   "outputs": [],
   "source": [
    "import itertools"
   ]
  },
  {
   "cell_type": "code",
   "execution_count": 7,
   "id": "4e2ab903-73d4-43fc-86e0-54756b6f63d0",
   "metadata": {},
   "outputs": [
    {
     "data": {
      "text/plain": [
       "\u001b[0;31mInit signature:\u001b[0m \u001b[0mitertools\u001b[0m\u001b[0;34m.\u001b[0m\u001b[0mcombinations\u001b[0m\u001b[0;34m(\u001b[0m\u001b[0miterable\u001b[0m\u001b[0;34m,\u001b[0m \u001b[0mr\u001b[0m\u001b[0;34m)\u001b[0m\u001b[0;34m\u001b[0m\u001b[0;34m\u001b[0m\u001b[0m\n",
       "\u001b[0;31mDocstring:\u001b[0m     \n",
       "Return successive r-length combinations of elements in the iterable.\n",
       "\n",
       "combinations(range(4), 3) --> (0,1,2), (0,1,3), (0,2,3), (1,2,3)\n",
       "\u001b[0;31mType:\u001b[0m           type\n",
       "\u001b[0;31mSubclasses:\u001b[0m     "
      ]
     },
     "metadata": {},
     "output_type": "display_data"
    }
   ],
   "source": [
    "itertools.combinations?"
   ]
  },
  {
   "cell_type": "code",
   "execution_count": 10,
   "id": "bd4d2ae3-4a8a-484a-a8b1-012355c839b0",
   "metadata": {},
   "outputs": [],
   "source": [
    "#list(itertools.combinations([\"Léo\", \"Émilien\", \n",
    "#                        \"Sarah\", \"Paul\", \n",
    "#                        \"Caleb\", \"Matthias\", \n",
    "#                        \"Arthur\",\"Ayla\"],2))"
   ]
  },
  {
   "cell_type": "markdown",
   "id": "60ee09a8-4e9e-43ce-8612-bdc1e0e7a5fe",
   "metadata": {},
   "source": [
    "## Créer un module"
   ]
  },
  {
   "cell_type": "markdown",
   "id": "d86b3ba3-0726-48f0-b806-d6d8295482e9",
   "metadata": {},
   "source": [
    "- Créer un fichier .py\n",
    "- Mettre le code d'intérêt"
   ]
  },
  {
   "cell_type": "code",
   "execution_count": 11,
   "id": "067c15fa-6a06-4274-b023-2cde05027e1d",
   "metadata": {},
   "outputs": [],
   "source": [
    "import mes_fonctions"
   ]
  },
  {
   "cell_type": "code",
   "execution_count": 13,
   "id": "cd9f93a9-9dfa-4b4e-8895-4f09f6fec29a",
   "metadata": {},
   "outputs": [
    {
     "data": {
      "text/plain": [
       "{'Total': 0, 'Proportion': 0.0, 'Phrase': 'Ceci est une phrase', 'Seuil': 10}"
      ]
     },
     "execution_count": 13,
     "metadata": {},
     "output_type": "execute_result"
    }
   ],
   "source": [
    "mes_fonctions.calcul_nombre_mots_seuil_n_sortie(\"Ceci est une phrase\",10)"
   ]
  },
  {
   "cell_type": "code",
   "execution_count": 14,
   "id": "71065d58-d5d6-43c7-a1a6-fc287c33678c",
   "metadata": {},
   "outputs": [],
   "source": [
    "from mes_fonctions import calcul_nombre_mots_seuil_n_sortie"
   ]
  },
  {
   "cell_type": "code",
   "execution_count": 15,
   "id": "90fbbb44-649c-43f0-a18c-82e7e035a1f2",
   "metadata": {},
   "outputs": [
    {
     "data": {
      "text/plain": [
       "{'Total': 0, 'Proportion': 0.0, 'Phrase': 'Ceci est une phrase', 'Seuil': 10}"
      ]
     },
     "execution_count": 15,
     "metadata": {},
     "output_type": "execute_result"
    }
   ],
   "source": [
    "calcul_nombre_mots_seuil_n_sortie(\"Ceci est une phrase\",10)"
   ]
  },
  {
   "cell_type": "code",
   "execution_count": null,
   "id": "0ed86b7a-56f5-4ce0-a602-1ff6545527c5",
   "metadata": {},
   "outputs": [],
   "source": []
  }
 ],
 "metadata": {
  "kernelspec": {
   "display_name": "Python 3 (ipykernel)",
   "language": "python",
   "name": "python3"
  },
  "language_info": {
   "codemirror_mode": {
    "name": "ipython",
    "version": 3
   },
   "file_extension": ".py",
   "mimetype": "text/x-python",
   "name": "python",
   "nbconvert_exporter": "python",
   "pygments_lexer": "ipython3",
   "version": "3.11.7"
  }
 },
 "nbformat": 4,
 "nbformat_minor": 5
}
