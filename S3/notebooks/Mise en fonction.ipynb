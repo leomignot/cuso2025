{
 "cells": [
  {
   "cell_type": "markdown",
   "id": "8ed5ab76-ed3c-46fd-9e1c-3569e84b8395",
   "metadata": {},
   "source": [
    "# Mise en fonction"
   ]
  },
  {
   "cell_type": "markdown",
   "id": "ad59d052-a1f7-470f-9f2f-f241f676956d",
   "metadata": {},
   "source": [
    "## Le script"
   ]
  },
  {
   "cell_type": "code",
   "execution_count": 1,
   "id": "c90ae58d-14db-4492-b5fc-0c44e85e3ee5",
   "metadata": {},
   "outputs": [
    {
     "name": "stdin",
     "output_type": "stream",
     "text": [
      "Écrivez une phrase:  qds qdsd qcs\n"
     ]
    },
    {
     "name": "stdout",
     "output_type": "stream",
     "text": [
      "Proportion de mots avec 4 lettres ou plus : 33.33\n"
     ]
    }
   ],
   "source": [
    "sortie_fichier = True\n",
    "nombre_min_lettres = 4\n",
    "phrase = input(\"Écrivez une phrase: \")\n",
    "liste_mots = phrase.split(\" \")\n",
    "nombre_mots = len(liste_mots)\n",
    "if len(phrase) == 0:\n",
    "    print(\"Vous n'avez rien écrit\")\n",
    "else:\n",
    "    compteur = 0\n",
    "    for i in liste_mots:\n",
    "        if len(i) >= nombre_min_lettres:\n",
    "            compteur+=1\n",
    "    proportion = round(100*compteur/nombre_mots,2)\n",
    "    informations = {\"Total\":compteur,\"Proportion\":proportion,\n",
    "                   \"Phrase\":phrase,\"Seuil\":nombre_min_lettres}\n",
    "    sortie = f\"Proportion de mots avec {nombre_min_lettres} lettres ou plus : {proportion}\"\n",
    "    print(sortie)\n",
    "    if sortie_fichier:\n",
    "        with open(\"resultat.txt\",\"w\") as f:\n",
    "            f.write(str(informations))"
   ]
  },
  {
   "cell_type": "markdown",
   "id": "f1e7d759-8d74-4a7b-906f-5dfa43a91686",
   "metadata": {},
   "source": [
    "## Mettre en fonction\n",
    "\n",
    "Une fonction qui prend en entrée un texte et qui renvoie le dictionnaire d'information"
   ]
  },
  {
   "cell_type": "code",
   "execution_count": 11,
   "id": "170d3885-6367-465e-b0c7-487a3225571d",
   "metadata": {},
   "outputs": [],
   "source": [
    "def calcul_nombre_mots_4(texte):\n",
    "    \"\"\"\n",
    "    Renvoyer le nombre de mots du texte\n",
    "    de plus de 4 lettres\n",
    "    \"\"\"\n",
    "    nombre_min_lettres = 4\n",
    "    liste_mots = texte.split(\" \")\n",
    "    nombre_mots = len(liste_mots)\n",
    "    if len(texte) == 0:\n",
    "        print(\"Vous n'avez rien écrit\")\n",
    "        return None\n",
    "    else:\n",
    "        compteur = 0\n",
    "        for i in liste_mots:\n",
    "            if len(i) >= nombre_min_lettres:\n",
    "                compteur+=1\n",
    "        proportion = round(100*compteur/nombre_mots,2)\n",
    "        informations = {\"Total\":compteur,\"Proportion\":proportion,\n",
    "                       \"Phrase\":texte,\"Seuil\":nombre_min_lettres}\n",
    "        return informations"
   ]
  },
  {
   "cell_type": "code",
   "execution_count": 5,
   "id": "c3ebc691-da2b-4b04-a915-edce30a68d15",
   "metadata": {},
   "outputs": [
    {
     "data": {
      "text/plain": [
       "function"
      ]
     },
     "execution_count": 5,
     "metadata": {},
     "output_type": "execute_result"
    }
   ],
   "source": [
    "type(calcul_nombre_mots_seuil)"
   ]
  },
  {
   "cell_type": "code",
   "execution_count": 6,
   "id": "ac7ddf34-ef67-4a56-a883-40427fb2c101",
   "metadata": {},
   "outputs": [
    {
     "data": {
      "text/plain": [
       "{'Total': 5,\n",
       " 'Proportion': 50.0,\n",
       " 'Phrase': 'Ceci est le troisième cours de Python pour les SHS',\n",
       " 'Seuil': 4}"
      ]
     },
     "execution_count": 6,
     "metadata": {},
     "output_type": "execute_result"
    }
   ],
   "source": [
    "calcul_nombre_mots_seuil(\"Ceci est le troisième cours de Python pour les SHS\")"
   ]
  },
  {
   "cell_type": "code",
   "execution_count": 7,
   "id": "0c76e672-6b87-4263-a8da-dad47ec302e7",
   "metadata": {},
   "outputs": [
    {
     "data": {
      "text/plain": [
       "{'Total': 1, 'Proportion': 100.0, 'Phrase': 'Coucou', 'Seuil': 4}"
      ]
     },
     "execution_count": 7,
     "metadata": {},
     "output_type": "execute_result"
    }
   ],
   "source": [
    "calcul_nombre_mots_seuil(\"Coucou\")"
   ]
  },
  {
   "cell_type": "code",
   "execution_count": 10,
   "id": "285a6aef-3ac5-4392-83d2-5f6c796b7ce6",
   "metadata": {},
   "outputs": [
    {
     "name": "stdout",
     "output_type": "stream",
     "text": [
      "2\n"
     ]
    }
   ],
   "source": [
    "result = calcul_nombre_mots_seuil(\"On est super fatigués\")\n",
    "print(result[\"Total\"])"
   ]
  },
  {
   "cell_type": "markdown",
   "id": "fcaafafb-ef79-47a4-9048-f367a03d6c08",
   "metadata": {},
   "source": [
    "### Une fonction avec deux arguments"
   ]
  },
  {
   "cell_type": "code",
   "execution_count": 27,
   "id": "cbfd634c-740e-4e96-b50d-3cb4c7bea059",
   "metadata": {},
   "outputs": [],
   "source": [
    "def calcul_nombre_mots_seuil_n(texte, seuil, ):\n",
    "    \"\"\"\n",
    "    Renvoyer le nombre de mots du texte\n",
    "    \"\"\"\n",
    "    nombre_min_lettres = seuil\n",
    "    liste_mots = texte.split(\" \")\n",
    "    nombre_mots = len(liste_mots)\n",
    "    if len(texte) == 0:\n",
    "        print(\"Vous n'avez rien écrit\")\n",
    "        return None\n",
    "    else:\n",
    "        compteur = 0\n",
    "        for i in liste_mots:\n",
    "            if len(i) >= nombre_min_lettres:\n",
    "                compteur+=1\n",
    "        proportion = round(100*compteur/nombre_mots,2)\n",
    "        informations = {\"Total\":compteur,\"Proportion\":proportion,\n",
    "                       \"Phrase\":texte,\"Seuil\":nombre_min_lettres}\n",
    "        return informations"
   ]
  },
  {
   "cell_type": "code",
   "execution_count": 14,
   "id": "4c341a2f-d590-42a5-bef2-3313ece16ea0",
   "metadata": {},
   "outputs": [
    {
     "data": {
      "text/plain": [
       "{'Total': 3, 'Proportion': 60.0, 'Phrase': 'Il y a deux arguments', 'Seuil': 2}"
      ]
     },
     "execution_count": 14,
     "metadata": {},
     "output_type": "execute_result"
    }
   ],
   "source": [
    "calcul_nombre_mots_seuil_n(\"Il y a deux arguments\", 2)"
   ]
  },
  {
   "cell_type": "markdown",
   "id": "4e031681-311c-449e-93b6-ddf43eb3682c",
   "metadata": {},
   "source": [
    "### Ajouter la sortie fichier"
   ]
  },
  {
   "cell_type": "code",
   "execution_count": 31,
   "id": "12126143-21a9-4b98-8dbd-bc35520f0e38",
   "metadata": {},
   "outputs": [],
   "source": [
    "def calcul_nombre_mots_seuil_n_sortie(texte: str, \n",
    "                                      seuil: int, \n",
    "                                      sortie_fichier: bool = True):\n",
    "    \"\"\"\n",
    "    Renvoyer le nombre de mots du texte\n",
    "    Arguments :\n",
    "    - un texte (str)\n",
    "    - un seuil (int)\n",
    "    - sortie fichier (bool)\n",
    "    \"\"\"\n",
    "    \n",
    "    nombre_min_lettres = seuil\n",
    "    liste_mots = texte.split(\" \")\n",
    "    nombre_mots = len(liste_mots)\n",
    "    if len(texte) == 0:\n",
    "        print(\"Vous n'avez rien écrit\")\n",
    "\n",
    "        #renvoyer rien\n",
    "        return None\n",
    "    else:\n",
    "        compteur = 0\n",
    "        for i in liste_mots:\n",
    "            if len(i) >= nombre_min_lettres:\n",
    "                compteur+=1\n",
    "        proportion = round(100*compteur/nombre_mots,2)\n",
    "        informations = {\"Total\":compteur,\"Proportion\":proportion,\n",
    "                       \"Phrase\":texte,\"Seuil\":nombre_min_lettres}\n",
    "        if sortie_fichier:\n",
    "            with open(\"resultat.txt\",\"w\") as f:\n",
    "                f.write(str(informations))\n",
    "\n",
    "        # renvoyer l'information\n",
    "        return informations"
   ]
  },
  {
   "cell_type": "code",
   "execution_count": 18,
   "id": "a56b1780-9be7-408d-8119-1fc11c9cd44d",
   "metadata": {},
   "outputs": [
    {
     "data": {
      "text/plain": [
       "{'Total': 1, 'Proportion': 100.0, 'Phrase': 'ceci', 'Seuil': 2}"
      ]
     },
     "execution_count": 18,
     "metadata": {},
     "output_type": "execute_result"
    }
   ],
   "source": [
    "calcul_nombre_mots_seuil_n_sortie(\"ceci\", 2)"
   ]
  },
  {
   "cell_type": "code",
   "execution_count": 21,
   "id": "02b22f05-f452-41e4-9d57-d1d354ade333",
   "metadata": {},
   "outputs": [
    {
     "data": {
      "text/plain": [
       "\u001b[0;31mSignature:\u001b[0m \u001b[0mcalcul_nombre_mots_seuil_n_sortie\u001b[0m\u001b[0;34m(\u001b[0m\u001b[0mtexte\u001b[0m\u001b[0;34m,\u001b[0m \u001b[0mseuil\u001b[0m\u001b[0;34m,\u001b[0m \u001b[0msortie_fichier\u001b[0m\u001b[0;34m=\u001b[0m\u001b[0;32mTrue\u001b[0m\u001b[0;34m)\u001b[0m\u001b[0;34m\u001b[0m\u001b[0;34m\u001b[0m\u001b[0m\n",
       "\u001b[0;31mDocstring:\u001b[0m\n",
       "Renvoyer le nombre de mots du texte\n",
       "Arguments :\n",
       "- un texte (str)\n",
       "- un seuil (int)\n",
       "- sortie fichier (bool)\n",
       "\u001b[0;31mFile:\u001b[0m      /var/folders/f9/d2d_05ws5gncmml0fx0c00kw0000gp/T/ipykernel_2437/117640378.py\n",
       "\u001b[0;31mType:\u001b[0m      function"
      ]
     },
     "metadata": {},
     "output_type": "display_data"
    }
   ],
   "source": [
    "calcul_nombre_mots_seuil_n_sortie?"
   ]
  },
  {
   "cell_type": "code",
   "execution_count": 32,
   "id": "9fb055d8-a1bd-4c7b-81a5-0602fd6bdb96",
   "metadata": {},
   "outputs": [
    {
     "ename": "TypeError",
     "evalue": "'>=' not supported between instances of 'int' and 'str'",
     "output_type": "error",
     "traceback": [
      "\u001b[0;31m---------------------------------------------------------------------------\u001b[0m",
      "\u001b[0;31mTypeError\u001b[0m                                 Traceback (most recent call last)",
      "Cell \u001b[0;32mIn[32], line 1\u001b[0m\n\u001b[0;32m----> 1\u001b[0m calcul_nombre_mots_seuil_n_sortie(\u001b[38;5;124m\"\u001b[39m\u001b[38;5;124mCeci est une phrase\u001b[39m\u001b[38;5;124m\"\u001b[39m,\u001b[38;5;124m\"\u001b[39m\u001b[38;5;124m10\u001b[39m\u001b[38;5;124m\"\u001b[39m)\n",
      "Cell \u001b[0;32mIn[31], line 23\u001b[0m, in \u001b[0;36mcalcul_nombre_mots_seuil_n_sortie\u001b[0;34m(texte, seuil, sortie_fichier)\u001b[0m\n\u001b[1;32m     21\u001b[0m compteur \u001b[38;5;241m=\u001b[39m \u001b[38;5;241m0\u001b[39m\n\u001b[1;32m     22\u001b[0m \u001b[38;5;28;01mfor\u001b[39;00m i \u001b[38;5;129;01min\u001b[39;00m liste_mots:\n\u001b[0;32m---> 23\u001b[0m     \u001b[38;5;28;01mif\u001b[39;00m \u001b[38;5;28mlen\u001b[39m(i) \u001b[38;5;241m>\u001b[39m\u001b[38;5;241m=\u001b[39m nombre_min_lettres:\n\u001b[1;32m     24\u001b[0m         compteur\u001b[38;5;241m+\u001b[39m\u001b[38;5;241m=\u001b[39m\u001b[38;5;241m1\u001b[39m\n\u001b[1;32m     25\u001b[0m proportion \u001b[38;5;241m=\u001b[39m \u001b[38;5;28mround\u001b[39m(\u001b[38;5;241m100\u001b[39m\u001b[38;5;241m*\u001b[39mcompteur\u001b[38;5;241m/\u001b[39mnombre_mots,\u001b[38;5;241m2\u001b[39m)\n",
      "\u001b[0;31mTypeError\u001b[0m: '>=' not supported between instances of 'int' and 'str'"
     ]
    }
   ],
   "source": [
    "calcul_nombre_mots_seuil_n_sortie(\"Ceci est une phrase\",\"10\")"
   ]
  },
  {
   "cell_type": "markdown",
   "id": "ffabccc0-d319-46c2-92f3-47143e34110d",
   "metadata": {},
   "source": [
    "## Fonction ajouter coucou"
   ]
  },
  {
   "cell_type": "code",
   "execution_count": 33,
   "id": "11448571-bae0-4c25-a306-1ca7da2ac324",
   "metadata": {},
   "outputs": [],
   "source": [
    "def ajouter_coucou(entree):\n",
    "    return \"coucou \" + str(entree)"
   ]
  },
  {
   "cell_type": "code",
   "execution_count": 34,
   "id": "650bf290-5c94-4d00-86f0-79ef601f399f",
   "metadata": {},
   "outputs": [
    {
     "data": {
      "text/plain": [
       "'coucou Emilien'"
      ]
     },
     "execution_count": 34,
     "metadata": {},
     "output_type": "execute_result"
    }
   ],
   "source": [
    "ajouter_coucou(\"Emilien\")"
   ]
  },
  {
   "cell_type": "code",
   "execution_count": 35,
   "id": "18a689f3-467e-4ef0-bdb1-4662a8cb0dd1",
   "metadata": {},
   "outputs": [
    {
     "data": {
      "text/plain": [
       "'coucou 10'"
      ]
     },
     "execution_count": 35,
     "metadata": {},
     "output_type": "execute_result"
    }
   ],
   "source": [
    "ajouter_coucou(10)"
   ]
  },
  {
   "cell_type": "code",
   "execution_count": null,
   "id": "cf37dd19-46cd-4894-97b8-b8e25a70df09",
   "metadata": {},
   "outputs": [],
   "source": []
  }
 ],
 "metadata": {
  "kernelspec": {
   "display_name": "Python 3 (ipykernel)",
   "language": "python",
   "name": "python3"
  },
  "language_info": {
   "codemirror_mode": {
    "name": "ipython",
    "version": 3
   },
   "file_extension": ".py",
   "mimetype": "text/x-python",
   "name": "python",
   "nbconvert_exporter": "python",
   "pygments_lexer": "ipython3",
   "version": "3.11.7"
  }
 },
 "nbformat": 4,
 "nbformat_minor": 5
}
